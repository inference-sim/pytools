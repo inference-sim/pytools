{
 "cells": [
  {
   "cell_type": "markdown",
   "id": "835a44d8",
   "metadata": {},
   "source": [
    "**Find Trends in the data for modeling forward pass**\n",
    "\n",
    "Similar to `experiments/step_time_analysis.ipynb` we are using current batch data we gathered in profiling to estimate forward pass times with a model"
   ]
  },
  {
   "cell_type": "code",
   "execution_count": 17,
   "id": "d3fd6654",
   "metadata": {},
   "outputs": [],
   "source": [
    "from utils import parse_csv, format_data, concatenate_dataframes # found in utils.py\n",
    "\n",
    "path1 = './profiling/train'\n",
    "\n",
    "# # parse and concat all dataframes\n",
    "df = concatenate_dataframes(path1)\n",
    "df = format_data(df)\n",
    "# df.to_csv('formatted_execution_stats500.csv', index=False)"
   ]
  },
  {
   "cell_type": "code",
   "execution_count": 20,
   "id": "7cbc5efd",
   "metadata": {},
   "outputs": [
    {
     "data": {
      "text/plain": [
       "170050"
      ]
     },
     "execution_count": 20,
     "metadata": {},
     "output_type": "execute_result"
    }
   ],
   "source": [
    "len(df)"
   ]
  },
  {
   "cell_type": "code",
   "execution_count": 18,
   "id": "478f4420",
   "metadata": {},
   "outputs": [
    {
     "name": "stdout",
     "output_type": "stream",
     "text": [
      "                    execute_time  num_prefills  sum_decode_tokens  \\\n",
      "execute_time            1.000000      0.758636           0.741600   \n",
      "num_prefills            0.758636      1.000000           0.448262   \n",
      "sum_decode_tokens       0.741600      0.448262           1.000000   \n",
      "sum_prefill_tokens      0.716647      0.566984           0.258445   \n",
      "max_prefill_tokens      0.689020      0.539195           0.248068   \n",
      "\n",
      "                    sum_prefill_tokens  max_prefill_tokens  \n",
      "execute_time                  0.716647            0.689020  \n",
      "num_prefills                  0.566984            0.539195  \n",
      "sum_decode_tokens             0.258445            0.248068  \n",
      "sum_prefill_tokens            1.000000            0.982670  \n",
      "max_prefill_tokens            0.982670            1.000000  \n"
     ]
    }
   ],
   "source": [
    "# try to find correlation between execute_time and num_decodes, num_prefills, sum_decode_tokens, sum_prefill_tokens\n",
    "correlation = df[['execute_time', 'num_prefills', 'sum_decode_tokens', 'sum_prefill_tokens', 'max_prefill_tokens']].corr()\n",
    "print(correlation)"
   ]
  },
  {
   "cell_type": "code",
   "execution_count": null,
   "id": "67510048",
   "metadata": {},
   "outputs": [
    {
     "name": "stdout",
     "output_type": "stream",
     "text": [
      "Coefficients: [ 6.26600355e+01  3.01297950e-02 -1.08762510e-02  2.64417673e+03]\n",
      "Intercept: 4927.46099843045\n",
      "Score: 0.9174653252856592\n"
     ]
    }
   ],
   "source": [
    "# train a linear regression model to predict execute_time based on num_prefills, sum_decode_tokens, sum_prefill_tokens, and arrival_rate\n",
    "from sklearn.model_selection import train_test_split\n",
    "from sklearn.linear_model import LinearRegression\n",
    "X = df[['sum_decode_tokens', 'sum_prefill_tokens', 'max_prefill_tokens','num_prefills']]\n",
    "y = df['execute_time']\n",
    "X_train, X_test, y_train, y_test = train_test_split(X, y, test_size=0.2, random_state=42)\n",
    "model = LinearRegression()\n",
    "model.fit(X_train, y_train)\n",
    "print(\"Coefficients:\", model.coef_)\n",
    "print(\"Intercept:\", model.intercept_)\n",
    "print(\"Score:\", model.score(X_test, y_test))\n",
    "# make predictions on the test set"
   ]
  }
 ],
 "metadata": {
  "kernelspec": {
   "display_name": ".venv",
   "language": "python",
   "name": "python3"
  },
  "language_info": {
   "codemirror_mode": {
    "name": "ipython",
    "version": 3
   },
   "file_extension": ".py",
   "mimetype": "text/x-python",
   "name": "python",
   "nbconvert_exporter": "python",
   "pygments_lexer": "ipython3",
   "version": "3.9.6"
  }
 },
 "nbformat": 4,
 "nbformat_minor": 5
}
