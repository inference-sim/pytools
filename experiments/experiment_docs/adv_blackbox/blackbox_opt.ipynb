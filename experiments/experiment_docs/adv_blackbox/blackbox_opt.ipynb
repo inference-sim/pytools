{
 "cells": [
  {
   "cell_type": "code",
   "execution_count": 43,
   "id": "d9b485be",
   "metadata": {},
   "outputs": [],
   "source": [
    "import sys\n",
    "import os\n",
    "import matplotlib.pyplot as plt\n",
    "\n",
    "# Add the parent directory to Python path\n",
    "parent_dir = os.path.dirname(os.getcwd())\n",
    "sys.path.insert(0, parent_dir)"
   ]
  },
  {
   "cell_type": "code",
   "execution_count": 44,
   "id": "688f40b2",
   "metadata": {},
   "outputs": [],
   "source": [
    "baseline_values = {\n",
    "    \"sum_decode_tokens\": 3.38283913e-05,\n",
    "    \"sum_prefill_tokens\": 9.82346868e-06,\n",
    "    \"max_prefill_tokens\": -3.11237143e-06,\n",
    "    \"num_prefills\": 1.50291993e-03,\n",
    "    \"sum_decode_tokenss2\": 4.24173346e-08,\n",
    "    \"sum_decode_tokensmsumprefill_tokens\": -1.06897441e-07,\n",
    "    \"sum_decode_tokensmmaxprefill_tokens\": 1.92844617e-07,\n",
    "    \"sum_decode_tokensmnumprefills\": 2.60430816e-05,\n",
    "    \"sum_prefill_tokenss2\": -7.72212201e-09,\n",
    "    \"sum_prefill_tokensmmaxprefill_tokens\": 2.67059068e-08,\n",
    "    \"sum_prefill_tokensmnumprefills\": 7.20303280e-06,\n",
    "    \"max_prefill_tokenss2\": -1.06904337e-08,\n",
    "    \"max_prefill_tokensmnumprefills\": -1.05254706e-05,\n",
    "    \"num_prefillss2\": -9.19828725e-04,\n",
    "    \"intercept\": 0.005708624032334771,\n",
    "    \"schedule_time\": 544,\n",
    "    \"update_time\": 80,\n",
    "    \"queue_overhead\": 1000,\n",
    "    \"vllm_overhead\": 6000\n",
    "}"
   ]
  },
  {
   "cell_type": "code",
   "execution_count": null,
   "id": "dba264a8",
   "metadata": {},
   "outputs": [],
   "source": [
    "# Bounded region of parameter space\n",
    "\n",
    "\n",
    "pbounds = {\n",
    "    'sum_decode_tokens': (0, 0.0001),\n",
    "    'sum_prefill_tokens': (0, 0.00001),\n",
    "    'max_prefill_tokens': (0, 0.00001),\n",
    "    'num_prefills': (0, 0.01),\n",
    "    'sum_decode_tokenss2': (0, 0.0000001),\n",
    "    'sum_decode_tokensmsumprefill_tokens': (0, 0.000001),\n",
    "    'sum_decode_tokensmmaxprefill_tokens': (0, 0.000001),\n",
    "    'sum_decode_tokensmnumprefills': (0, 0.0001),\n",
    "    'sum_prefill_tokenss2': (0, 0.0000001), \n",
    "    'sum_prefill_tokensmmaxprefill_tokens': (0, 0.000001),\n",
    "    'sum_prefill_tokensmnumprefills': (0, 0.0001),\n",
    "    'max_prefill_tokenss2': (0, 0.000001),\n",
    "    'max_prefill_tokensmnumprefills': (0, 0.0001),\n",
    "    'num_prefillss2': (0, 0.001),\n",
    "    'intercept': (0, 0.01),\n",
    "    'schedule_time': (0, 600),\n",
    "    'update_time': (0, 100),\n",
    "    'queue_overhead': (0, 1100),\n",
    "    'vllm_overhead': (0, 6000),}"
   ]
  },
  {
   "cell_type": "code",
   "execution_count": null,
   "id": "3178dd31",
   "metadata": {},
   "outputs": [],
   "source": [
    "# helper functions for running commands and parsing output\n",
    "import subprocess\n",
    "import numpy as np\n",
    "\n",
    "from pytools.experiments.utils import find_matching_experiments, parse_sim_results, parse_vllm_results, calculate_errors, plot_results\n",
    "\n",
    "def run_command(command):\n",
    "    try:\n",
    "        # print(f\"Running command: {' '.join(command)}\")\n",
    "        result = subprocess.run(command, check=True, capture_output=True)\n",
    "        # print(f\"Command '{' '.join(command)}' executed successfully.\")\n",
    "        return result.stdout.decode('utf-8')\n",
    "    \n",
    "    \n",
    "    except subprocess.CalledProcessError as e:\n",
    "        print(f\"Error executing command '{' '.join(command)}': {e}\")\n",
    "        print(f\"Output: {e.output}\")\n",
    "        print(f\"Error output: {e.stderr}\")\n",
    "        raise\n",
    "    \n",
    "def parse_output(raw_results: str):\n",
    "    # split tests by newlines\n",
    "    \n",
    "    results = raw_results.split(\"\\n\\n\")\n",
    "\n",
    "    sim_values = []\n",
    "    \n",
    "    for i in range(len(results)-1):\n",
    "        result = results[i]\n",
    "    \n",
    "        # find list after \"TTFTs             :\"\n",
    "        try:\n",
    "            start_index = result.find(\"TTFTs             :\") + len(\"TTFTs             :\")\n",
    "            end_index = result.find(\"\\n\", start_index)\n",
    "            ttfts_str = result[start_index:end_index-3].strip()\n",
    "            ttfts = [float(x) for x in ttfts_str.strip(\"[]\").split(\", \")]\n",
    "            # find the list after \"E2Es             :\"\n",
    "            start_index = result.find(\"E2Es             :\") + len(\"E2Es             :\")\n",
    "            end_index = result.find(\"\\n\", start_index)\n",
    "            e2es_str = result[start_index:end_index-3].strip()\n",
    "            e2es = [float(x) for x in e2es_str.strip(\"[]\").split(\", \")]\n",
    "            sim_values.append((np.array(ttfts), np.array(e2es)))\n",
    "        except ValueError as e:\n",
    "            print(f\"Error parsing output: {e}\")\n",
    "            sim_values.append((np.array([]), np.array([])))\n",
    "\n",
    "    return sim_values\n",
    "\n",
    "def parse_outputs_from_file(sim_dir: str, vllm_dir: str, sweep_configs: dict):\n",
    "    # sim_dir = \"./results/sweep_params\"\n",
    "    # vllm_dir = \"./blackbox\"\n",
    "\n",
    "    # sweep_configs = {\n",
    "    #     'num_prompts': [400],\n",
    "    #     'request_rate': [32],\n",
    "    #     'temperature': [0.0],\n",
    "    #     'max_num_batched_tokens': [256],\n",
    "    #     'long_prefill_token_threshold': [16],\n",
    "    #     'datasets': [{'name': 'sharegpt', 'path': 'ShareGPT_V3_unfiltered_cleaned_split.json'}]\n",
    "    # }\n",
    "    # # Find matching experiments\n",
    "    matching_pairs = find_matching_experiments(sim_dir, vllm_dir, sweep_configs)\n",
    "\n",
    "    # print(f\"Found {len(matching_pairs)} matching experiment pairs\")\n",
    "    vllm_ttfts = []\n",
    "    vllm_e2es = []\n",
    "    sim_ttfts = []\n",
    "    sim_e2es = []\n",
    "    # Process each pair\n",
    "    for sim_file, vllm_file, config in matching_pairs:\n",
    "        # print(f\"\\nProcessing: {os.path.basename(sim_file)}\")\n",
    "        \n",
    "        # Parse results\n",
    "        sim_results = parse_sim_results(sim_file)\n",
    "        sim_ttfts.extend(sim_results['ttfts'])\n",
    "        sim_e2es.extend(sim_results['e2es'])\n",
    "        vllm_results = parse_vllm_results(vllm_file)\n",
    "        vllm_ttfts.extend(vllm_results['ttfts'])\n",
    "        vllm_e2es.extend(vllm_results['e2es'])\n",
    "\n",
    "    vllm_values = (np.array(vllm_ttfts), np.array(vllm_e2es))\n",
    "    sim_values = (np.array(sim_ttfts), np.array(sim_e2es))\n",
    "    return sim_values, vllm_values\n",
    "\n",
    "def get_error(sim_values, vllm_values):\n",
    "    # calculate mse\n",
    "    if len(sim_values) != len(vllm_values):\n",
    "        raise ValueError(\"Length of simulation values and vLLM values must match\")\n",
    "    \n",
    "    vllm_ttfts, vllm_e2es = vllm_values\n",
    "    sim_ttfts, sim_e2es = sim_values\n",
    "    mse = 0.0\n",
    "    for i in range(len(vllm_ttfts)):\n",
    "        mse_ttfts = (sim_ttfts[i] - vllm_ttfts[i]) ** 2\n",
    "        mse_e2es = (sim_e2es[i] - vllm_e2es[i]) ** 2\n",
    "        mse += (mse_ttfts + mse_e2es) / 2\n",
    "        \n",
    "    mse /= len(vllm_ttfts)\n",
    "    return mse\n",
    "\n",
    "\n",
    "# main optimizer function\n",
    "\n",
    "def black_box_function(sum_decode_tokens: float, sum_prefill_tokens: float, max_prefill_tokens: float, num_prefills: float, sum_decode_tokenss2: float, sum_decode_tokensmsumprefill_tokens: float, sum_decode_tokensmmaxprefill_tokens: float, sum_decode_tokensmnumprefills: float, sum_prefill_tokenss2: float, sum_prefill_tokensmmaxprefill_tokens: float, sum_prefill_tokensmnumprefills: float, max_prefill_tokenss2: float, max_prefill_tokensmnumprefills: float, num_prefillss2: float, intercept: float, schedule_time: float, update_time: float, queue_overhead: float, vllm_overhead: float):\n",
    "    \n",
    "    # run a python subprocess to execute the vllm command\n",
    "    sim_dir = \"./results/sweep_params\"\n",
    "    vllm_dir = \"./blackbox\"\n",
    "\n",
    "    sweep_configs = {\n",
    "        'num_prompts': [100, 200, 400, 800, 1600],\n",
    "        'request_rate': [4, 8, 16, 32, 64, 128],\n",
    "        'temperature': [0.0],\n",
    "        'max_num_batched_tokens': [256, 512, 1024, 2048, 4096, 8192],\n",
    "        'long_prefill_token_threshold': [16, 32, 64, 512, 1024, 512, 1024],\n",
    "        'datasets': [{'name': 'sharegpt', 'path': 'ShareGPT_V3_unfiltered_cleaned_split.json'}]\n",
    "    }\n",
    "\n",
    "    coefficients = [sum_decode_tokens, sum_prefill_tokens, max_prefill_tokens, num_prefills, sum_decode_tokenss2, sum_decode_tokensmsumprefill_tokens, sum_decode_tokensmmaxprefill_tokens, sum_decode_tokensmnumprefills, sum_prefill_tokenss2, sum_prefill_tokensmmaxprefill_tokens, sum_prefill_tokensmnumprefills, max_prefill_tokenss2, max_prefill_tokensmnumprefills, num_prefillss2, intercept]\n",
    "    coefficients_str = ','.join(map(str, coefficients))\n",
    "\n",
    "    # schedule_time = 544\n",
    "    # update_time = 80\n",
    "    # queue_overhead = 1000\n",
    "    # vllm_overhead = 6000\n",
    "\n",
    "    command = [\"python\",\"request_rate_sweep.py\", \"--rates\"]\n",
    "    command.extend(list(map(str, sweep_configs[\"request_rate\"])))\n",
    "    command.append(\"--long_prefill_token_thresholds\")\n",
    "    command.extend(list(map(str, sweep_configs[\"long_prefill_token_threshold\"])))\n",
    "    command.append(\"--max_num_batched_tokens\")\n",
    "    command.extend(list(map(str, sweep_configs[\"max_num_batched_tokens\"])))\n",
    "    command.append(\"--num_requests\")\n",
    "    command.extend(list(map(str, sweep_configs[\"num_prompts\"])))\n",
    "    command.extend([\"--input_filename\", \"data/output_tokens_2025-06-30_tokenized.json\",\n",
    "            \"--regression_coeffs\", f'{coefficients_str}',\n",
    "            \"--schedule_time\", f\"{str(int(schedule_time))}\",\n",
    "            \"--update_time\", f\"{str(int(update_time))}\",\n",
    "            \"--queue_overhead_time\", f\"{str(int(queue_overhead))}\",\n",
    "            \"--vllm_overhead_time\", f\"{str(int(vllm_overhead))}\"])\n",
    "    result = run_command(command)\n",
    "    \n",
    "    sim_values, vllm_values = parse_outputs_from_file(sim_dir, vllm_dir, sweep_configs)\n",
    "\n",
    "    error = get_error(sim_values, vllm_values)\n",
    "    \n",
    "    return error\n"
   ]
  },
  {
   "cell_type": "code",
   "execution_count": 47,
   "id": "fe434293",
   "metadata": {},
   "outputs": [],
   "source": [
    "def objective(trial):\n",
    "    sum_decode_tokens = trial.suggest_float('sum_decode_tokens', *pbounds['sum_decode_tokens'])\n",
    "    sum_prefill_tokens = trial.suggest_float('sum_prefill_tokens', *pbounds['sum_prefill_tokens'])\n",
    "    max_prefill_tokens = trial.suggest_float('max_prefill_tokens', *pbounds['max_prefill_tokens'])\n",
    "    num_prefills = trial.suggest_float('num_prefills', *pbounds['num_prefills'])\n",
    "    sum_decode_tokenss2 = trial.suggest_float('sum_decode_tokenss2', *pbounds['sum_decode_tokenss2'])\n",
    "    sum_decode_tokensmsumprefill_tokens = trial.suggest_float('sum_decode_tokensmsumprefill_tokens', *pbounds['sum_decode_tokensmsumprefill_tokens'])\n",
    "    sum_decode_tokensmmaxprefill_tokens = trial.suggest_float('sum_decode_tokensmmaxprefill_tokens', *pbounds['sum_decode_tokensmmaxprefill_tokens'])\n",
    "    sum_decode_tokensmnumprefills = trial.suggest_float('sum_decode_tokensmnumprefills', *pbounds['sum_decode_tokensmnumprefills'])\n",
    "    sum_prefill_tokenss2 = trial.suggest_float('sum_prefill_tokenss2', *pbounds['sum_prefill_tokenss2'])\n",
    "    sum_prefill_tokensmmaxprefill_tokens = trial.suggest_float('sum_prefill_tokensmmaxprefill_tokens', *pbounds['sum_prefill_tokensmmaxprefill_tokens'])\n",
    "    sum_prefill_tokensmnumprefills = trial.suggest_float('sum_prefill_tokensmnumprefills', *pbounds['sum_prefill_tokensmnumprefills'])\n",
    "    max_prefill_tokenss2 = trial.suggest_float('max_prefill_tokenss2', *pbounds['max_prefill_tokenss2'])\n",
    "    max_prefill_tokensmnumprefills = trial.suggest_float('max_prefill_tokensmnumprefills', *pbounds['max_prefill_tokensmnumprefills'])\n",
    "    num_prefillss2 = trial.suggest_float('num_prefillss2', *pbounds['num_prefillss2'])\n",
    "    intercept = trial.suggest_float('intercept', *pbounds['intercept'])\n",
    "    schedule_time = trial.suggest_float('schedule_time', *pbounds['schedule_time'])\n",
    "    update_time = trial.suggest_float('update_time', *pbounds['update_time'])\n",
    "    queue_overhead = trial.suggest_float('queue_overhead', *pbounds['queue_overhead'])\n",
    "    vllm_overhead = trial.suggest_float('vllm_overhead', *pbounds['vllm_overhead'])\n",
    "    return black_box_function(sum_decode_tokens, sum_prefill_tokens, max_prefill_tokens, num_prefills, sum_decode_tokenss2, sum_decode_tokensmsumprefill_tokens, sum_decode_tokensmmaxprefill_tokens, sum_decode_tokensmnumprefills,sum_prefill_tokenss2, sum_prefill_tokensmmaxprefill_tokens, sum_prefill_tokensmnumprefills, max_prefill_tokenss2, max_prefill_tokensmnumprefills, num_prefillss2, intercept, schedule_time, update_time, queue_overhead, vllm_overhead)"
   ]
  },
  {
   "cell_type": "code",
   "execution_count": null,
   "id": "e5a43686",
   "metadata": {},
   "outputs": [
    {
     "name": "stderr",
     "output_type": "stream",
     "text": [
      "[I 2025-07-14 13:56:33,421] A new study created in memory with name: no-name-a418c812-107e-48ec-8e7d-3b745b83c37b\n"
     ]
    },
    {
     "name": "stderr",
     "output_type": "stream",
     "text": [
      "[I 2025-07-14 13:56:34,809] Trial 0 finished with value: 0.46004675764612224 and parameters: {'sum_decode_tokens': 3.8417561744097597e-05, 'sum_prefill_tokens': 7.469529572290514e-06, 'max_prefill_tokens': -2.904389955972766e-06, 'num_prefills': 0.0016898860868643296, 'sum_decode_tokenss2': 4.238567032064265e-08, 'sum_decode_tokensmsumprefill_tokens': -1.2160670817368414e-07, 'sum_decode_tokensmmaxprefill_tokens': 1.6373114139824623e-07, 'sum_decode_tokensmnumprefills': 2.9435592898551796e-05, 'sum_prefill_tokenss2': -8.999705255925466e-09, 'sum_prefill_tokensmmaxprefill_tokens': 2.1209027522030217e-08, 'sum_prefill_tokensmnumprefills': 7.870609225752643e-06, 'max_prefill_tokenss2': -8.266947946240942e-09, 'max_prefill_tokensmnumprefills': -1.3136059569422284e-05, 'num_prefillss2': -0.0009142213279574984, 'intercept': 0.006600941799684202, 'schedule_time': 574.6070901775936, 'update_time': 88.87021269727198, 'queue_overhead': 895.9380340853165, 'vllm_overhead': 7253.32236753883}. Best is trial 0 with value: 0.46004675764612224.\n",
      "[I 2025-07-14 13:56:36,195] Trial 1 finished with value: 0.4943136511400736 and parameters: {'sum_decode_tokens': 3.7457768082140564e-05, 'sum_prefill_tokens': 1.003243531333451e-05, 'max_prefill_tokens': -3.669221290321634e-06, 'num_prefills': 0.0014077405819813505, 'sum_decode_tokenss2': 4.611047650768838e-08, 'sum_decode_tokensmsumprefill_tokens': -1.1000638340263753e-07, 'sum_decode_tokensmmaxprefill_tokens': 1.8648209390849978e-07, 'sum_decode_tokensmnumprefills': 2.7576589115030933e-05, 'sum_prefill_tokenss2': -7.67139445399901e-09, 'sum_prefill_tokensmmaxprefill_tokens': 2.8714153361822204e-08, 'sum_prefill_tokensmnumprefills': 7.566926247725303e-06, 'max_prefill_tokenss2': -9.058949525278736e-09, 'max_prefill_tokensmnumprefills': -1.0411547366953543e-05, 'num_prefillss2': -0.0007318852354965429, 'intercept': 0.005192667429045364, 'schedule_time': 432.6049430016868, 'update_time': 72.02800226544814, 'queue_overhead': 806.9921809317749, 'vllm_overhead': 6986.04397892303}. Best is trial 0 with value: 0.46004675764612224.\n",
      "[I 2025-07-14 13:56:37,510] Trial 2 finished with value: 0.6201825142661651 and parameters: {'sum_decode_tokens': 2.6164506996414658e-05, 'sum_prefill_tokens': 1.044375760306174e-05, 'max_prefill_tokens': -3.0383185339267104e-06, 'num_prefills': 0.001742851324591185, 'sum_decode_tokenss2': 3.603241312920148e-08, 'sum_decode_tokensmsumprefill_tokens': -8.782424892359616e-08, 'sum_decode_tokensmmaxprefill_tokens': 1.7854062203416003e-07, 'sum_decode_tokensmnumprefills': 2.9358986904881848e-05, 'sum_prefill_tokenss2': -8.509926307093632e-09, 'sum_prefill_tokensmmaxprefill_tokens': 3.1832592720140576e-08, 'sum_prefill_tokensmnumprefills': 6.5746101020437045e-06, 'max_prefill_tokenss2': -1.248099636799373e-08, 'max_prefill_tokensmnumprefills': -1.1091060741599985e-05, 'num_prefillss2': -0.001106802137665847, 'intercept': 0.006625159769958049, 'schedule_time': 449.1133493427774, 'update_time': 75.36457794768798, 'queue_overhead': 1222.1303561194006, 'vllm_overhead': 7462.876424705617}. Best is trial 0 with value: 0.46004675764612224.\n",
      "[I 2025-07-14 13:56:38,918] Trial 3 finished with value: 0.9651114698445161 and parameters: {'sum_decode_tokens': 3.308931786054582e-05, 'sum_prefill_tokens': 1.1425297451160843e-05, 'max_prefill_tokens': -3.4992794507264814e-06, 'num_prefills': 0.0015760908253715728, 'sum_decode_tokenss2': 5.096085938274682e-08, 'sum_decode_tokensmsumprefill_tokens': -1.0505036285343848e-07, 'sum_decode_tokensmmaxprefill_tokens': 2.0154204064890093e-07, 'sum_decode_tokensmnumprefills': 2.0043820334621485e-05, 'sum_prefill_tokenss2': -8.273551952538871e-09, 'sum_prefill_tokensmmaxprefill_tokens': 2.1092499982882588e-08, 'sum_prefill_tokensmnumprefills': 6.502393505454321e-06, 'max_prefill_tokenss2': -1.15952756859727e-08, 'max_prefill_tokensmnumprefills': -9.084374233923042e-06, 'num_prefillss2': -0.0011314080922593445, 'intercept': 0.005507372709998411, 'schedule_time': 493.6601091412112, 'update_time': 85.45964572270178, 'queue_overhead': 923.1735750400165, 'vllm_overhead': 4629.292068614984}. Best is trial 0 with value: 0.46004675764612224.\n",
      "[I 2025-07-14 13:56:40,211] Trial 4 finished with value: 0.6080141391457164 and parameters: {'sum_decode_tokens': 4.025435089219993e-05, 'sum_prefill_tokens': 1.1116436511555382e-05, 'max_prefill_tokens': -2.5239828357021166e-06, 'num_prefills': 0.0014409313541166357, 'sum_decode_tokenss2': 4.4656494037571514e-08, 'sum_decode_tokensmsumprefill_tokens': -1.0617766699557675e-07, 'sum_decode_tokensmmaxprefill_tokens': 2.0227825245249174e-07, 'sum_decode_tokensmnumprefills': 2.2946763129828664e-05, 'sum_prefill_tokenss2': -8.490970034025727e-09, 'sum_prefill_tokensmmaxprefill_tokens': 2.036859220608522e-08, 'sum_prefill_tokensmnumprefills': 6.4937593824106964e-06, 'max_prefill_tokenss2': -1.2069094076814565e-08, 'max_prefill_tokensmnumprefills': -1.0222451834015044e-05, 'num_prefillss2': -0.0008897011057088586, 'intercept': 0.005637643707316472, 'schedule_time': 487.64104955074646, 'update_time': 62.57004242779298, 'queue_overhead': 1239.4095728788213, 'vllm_overhead': 5519.123530913591}. Best is trial 0 with value: 0.46004675764612224.\n",
      "[I 2025-07-14 13:56:41,506] Trial 5 finished with value: 0.7626862821397744 and parameters: {'sum_decode_tokens': 3.374464287401047e-05, 'sum_prefill_tokens': 1.2166762464466566e-05, 'max_prefill_tokens': -3.2045383576436715e-06, 'num_prefills': 0.0013663592187656646, 'sum_decode_tokenss2': 4.283720228697374e-08, 'sum_decode_tokensmsumprefill_tokens': -1.0272114879834415e-07, 'sum_decode_tokensmmaxprefill_tokens': 2.2697172627931993e-07, 'sum_decode_tokensmnumprefills': 2.0419042625743174e-05, 'sum_prefill_tokenss2': -7.859070724962068e-09, 'sum_prefill_tokensmmaxprefill_tokens': 3.047076024209256e-08, 'sum_prefill_tokensmnumprefills': 7.990334406677765e-06, 'max_prefill_tokenss2': -1.02306275627494e-08, 'max_prefill_tokensmnumprefills': -1.2961620172038495e-05, 'num_prefillss2': -0.0009885139955964674, 'intercept': 0.005888989962392255, 'schedule_time': 489.5265252994811, 'update_time': 80.49336613094196, 'queue_overhead': 1086.7334626423603, 'vllm_overhead': 4977.58120013428}. Best is trial 0 with value: 0.46004675764612224.\n",
      "[I 2025-07-14 13:56:42,847] Trial 6 finished with value: 0.873818220195567 and parameters: {'sum_decode_tokens': 2.6225082663940882e-05, 'sum_prefill_tokens': 9.02686340309315e-06, 'max_prefill_tokens': -3.72229698799161e-06, 'num_prefills': 0.0012616282457672335, 'sum_decode_tokenss2': 5.060021311794597e-08, 'sum_decode_tokensmsumprefill_tokens': -1.1409351102308618e-07, 'sum_decode_tokensmmaxprefill_tokens': 1.657277084269335e-07, 'sum_decode_tokensmnumprefills': 2.9330970782345277e-05, 'sum_prefill_tokenss2': -9.239983916967384e-09, 'sum_prefill_tokensmmaxprefill_tokens': 2.9972082475565045e-08, 'sum_prefill_tokensmnumprefills': 7.094214038804753e-06, 'max_prefill_tokenss2': -1.0165235830270844e-08, 'max_prefill_tokensmnumprefills': -1.2379952253067377e-05, 'num_prefillss2': -0.0010651456483692274, 'intercept': 0.006122705146124028, 'schedule_time': 421.2268177036463, 'update_time': 69.94450031211078, 'queue_overhead': 1021.2042581140021, 'vllm_overhead': 5180.320029810027}. Best is trial 0 with value: 0.46004675764612224.\n",
      "[I 2025-07-14 13:56:44,232] Trial 7 finished with value: 0.7425592817745855 and parameters: {'sum_decode_tokens': 3.182256279954375e-05, 'sum_prefill_tokens': 1.189736395890805e-05, 'max_prefill_tokens': -2.4504371406660943e-06, 'num_prefills': 0.0015530798259848822, 'sum_decode_tokenss2': 4.312720746396832e-08, 'sum_decode_tokensmsumprefill_tokens': -1.3282755194675548e-07, 'sum_decode_tokensmmaxprefill_tokens': 2.389247672076709e-07, 'sum_decode_tokensmnumprefills': 2.699403045344741e-05, 'sum_prefill_tokenss2': -6.595630448740397e-09, 'sum_prefill_tokensmmaxprefill_tokens': 2.7527879363197366e-08, 'sum_prefill_tokensmnumprefills': 8.562011860794074e-06, 'max_prefill_tokenss2': -1.0240388738638122e-08, 'max_prefill_tokensmnumprefills': -9.426349246369228e-06, 'num_prefillss2': -0.0010814732386594695, 'intercept': 0.005504400116822941, 'schedule_time': 596.738098045136, 'update_time': 64.18478978091413, 'queue_overhead': 969.8026188872952, 'vllm_overhead': 4998.606443113601}. Best is trial 0 with value: 0.46004675764612224.\n",
      "[I 2025-07-14 13:56:45,539] Trial 8 finished with value: 0.6242424276098197 and parameters: {'sum_decode_tokens': 3.394642920074092e-05, 'sum_prefill_tokens': 1.139048808956941e-05, 'max_prefill_tokens': -3.7502414740965342e-06, 'num_prefills': 0.0017284095828942162, 'sum_decode_tokenss2': 4.379857777355311e-08, 'sum_decode_tokensmsumprefill_tokens': -1.0212192013106863e-07, 'sum_decode_tokensmmaxprefill_tokens': 1.637347854341598e-07, 'sum_decode_tokensmnumprefills': 2.5211242855519447e-05, 'sum_prefill_tokenss2': -8.510150034956333e-09, 'sum_prefill_tokensmmaxprefill_tokens': 2.0530935996661522e-08, 'sum_prefill_tokensmnumprefills': 5.512786555834548e-06, 'max_prefill_tokenss2': -1.0941097643105113e-08, 'max_prefill_tokensmnumprefills': -9.236815778532963e-06, 'num_prefillss2': -0.0008934777447666089, 'intercept': 0.005380702399080321, 'schedule_time': 453.7158009288723, 'update_time': 93.53045282814772, 'queue_overhead': 1049.5258987307463, 'vllm_overhead': 6848.144454734914}. Best is trial 0 with value: 0.46004675764612224.\n",
      "[I 2025-07-14 13:56:46,872] Trial 9 finished with value: 0.40932119765666336 and parameters: {'sum_decode_tokens': 3.9723143788388645e-05, 'sum_prefill_tokens': 1.0330177811158148e-05, 'max_prefill_tokens': -2.6749889123237807e-06, 'num_prefills': 0.0015898915588133955, 'sum_decode_tokenss2': 3.226188644791113e-08, 'sum_decode_tokensmsumprefill_tokens': -9.351042803891272e-08, 'sum_decode_tokensmmaxprefill_tokens': 1.6160785163447844e-07, 'sum_decode_tokensmnumprefills': 2.5502872643898264e-05, 'sum_prefill_tokenss2': -7.671454434895017e-09, 'sum_prefill_tokensmmaxprefill_tokens': 2.64925384926265e-08, 'sum_prefill_tokensmnumprefills': 8.443343886960492e-06, 'max_prefill_tokenss2': -1.242862394878268e-08, 'max_prefill_tokensmnumprefills': -1.3079818776183036e-05, 'num_prefillss2': -0.0007594271192500329, 'intercept': 0.006401292994338887, 'schedule_time': 532.2217296070868, 'update_time': 76.67593628197511, 'queue_overhead': 808.3647554734816, 'vllm_overhead': 5516.037398968019}. Best is trial 9 with value: 0.40932119765666336.\n",
      "[I 2025-07-14 13:56:48,241] Trial 10 finished with value: 0.6812258738734983 and parameters: {'sum_decode_tokens': 4.133515539762223e-05, 'sum_prefill_tokens': 8.88940148983143e-06, 'max_prefill_tokens': -2.743583209181373e-06, 'num_prefills': 0.001164415771510474, 'sum_decode_tokenss2': 3.2122355009076116e-08, 'sum_decode_tokensmsumprefill_tokens': -8.2216792518055e-08, 'sum_decode_tokensmmaxprefill_tokens': 1.4676439366860564e-07, 'sum_decode_tokensmnumprefills': 2.425595785727652e-05, 'sum_prefill_tokenss2': -6.74497826226454e-09, 'sum_prefill_tokensmmaxprefill_tokens': 2.4222884010376184e-08, 'sum_prefill_tokensmnumprefills': 8.806413952953404e-06, 'max_prefill_tokenss2': -1.3348066629222004e-08, 'max_prefill_tokensmnumprefills': -7.988556083594173e-06, 'num_prefillss2': -0.0006993852747250902, 'intercept': 0.004339154400515587, 'schedule_time': 665.3147838938951, 'update_time': 99.94081492086264, 'queue_overhead': 753.4460088177715, 'vllm_overhead': 6225.890652558564}. Best is trial 9 with value: 0.40932119765666336.\n",
      "[I 2025-07-14 13:56:49,649] Trial 11 finished with value: 0.7685189028853602 and parameters: {'sum_decode_tokens': 3.7767254476032016e-05, 'sum_prefill_tokens': 7.5108303298406314e-06, 'max_prefill_tokens': -2.849538091305801e-06, 'num_prefills': 0.0018718104243674858, 'sum_decode_tokenss2': 3.7161183144096914e-08, 'sum_decode_tokensmsumprefill_tokens': -1.246229201107453e-07, 'sum_decode_tokensmmaxprefill_tokens': 1.475224451053984e-07, 'sum_decode_tokensmnumprefills': 3.1731584129706964e-05, 'sum_prefill_tokenss2': -9.645469103190548e-09, 'sum_prefill_tokensmmaxprefill_tokens': 2.4520936874574688e-08, 'sum_prefill_tokensmnumprefills': 8.127501921798912e-06, 'max_prefill_tokenss2': -8.103787594241856e-09, 'max_prefill_tokensmnumprefills': -1.1920214105815731e-05, 'num_prefillss2': -0.0008007113852006624, 'intercept': 0.007102771993545267, 'schedule_time': 564.1924403434754, 'update_time': 85.41374956041568, 'queue_overhead': 861.6692326823, 'vllm_overhead': 6328.021689094456}. Best is trial 9 with value: 0.40932119765666336.\n",
      "[I 2025-07-14 13:56:51,070] Trial 12 finished with value: 0.4419266057772607 and parameters: {'sum_decode_tokens': 3.792054270627541e-05, 'sum_prefill_tokens': 7.711750077248811e-06, 'max_prefill_tokens': -2.7517837367408937e-06, 'num_prefills': 0.0016650059655680758, 'sum_decode_tokenss2': 3.813394342824734e-08, 'sum_decode_tokensmsumprefill_tokens': -9.32590700482199e-08, 'sum_decode_tokensmmaxprefill_tokens': 1.651229464033096e-07, 'sum_decode_tokensmnumprefills': 3.0511633732598655e-05, 'sum_prefill_tokenss2': -7.259153000669854e-09, 'sum_prefill_tokensmmaxprefill_tokens': 2.459024244380043e-08, 'sum_prefill_tokensmnumprefills': 8.118326822946208e-06, 'max_prefill_tokenss2': -9.188087788006755e-09, 'max_prefill_tokensmnumprefills': -1.313579414018562e-05, 'num_prefillss2': -0.0008057304557348, 'intercept': 0.0064636693621645145, 'schedule_time': 598.7750605670791, 'update_time': 88.86228804341597, 'queue_overhead': 880.0828738315392, 'vllm_overhead': 5704.435607318268}. Best is trial 9 with value: 0.40932119765666336.\n",
      "[I 2025-07-14 13:56:52,449] Trial 13 finished with value: 0.5915992488038017 and parameters: {'sum_decode_tokens': 3.6520220128714637e-05, 'sum_prefill_tokens': 9.04804678472474e-06, 'max_prefill_tokens': -2.631805172102173e-06, 'num_prefills': 0.0016215384187698418, 'sum_decode_tokenss2': 3.1986927497418504e-08, 'sum_decode_tokensmsumprefill_tokens': -9.320779864380931e-08, 'sum_decode_tokensmmaxprefill_tokens': 1.7514623572265487e-07, 'sum_decode_tokensmnumprefills': 3.163708851797119e-05, 'sum_prefill_tokenss2': -7.198756294669362e-09, 'sum_prefill_tokensmmaxprefill_tokens': 2.509661170739409e-08, 'sum_prefill_tokensmnumprefills': 8.9996026207301e-06, 'max_prefill_tokenss2': -9.21963836785671e-09, 'max_prefill_tokensmnumprefills': -1.1793056516568617e-05, 'num_prefillss2': -0.0008019712749333919, 'intercept': 0.006375909676898102, 'schedule_time': 618.721076519174, 'update_time': 79.21958882520386, 'queue_overhead': 825.4606063412888, 'vllm_overhead': 5717.2609047586975}. Best is trial 9 with value: 0.40932119765666336.\n",
      "[I 2025-07-14 13:56:53,803] Trial 14 finished with value: 0.48663538373217835 and parameters: {'sum_decode_tokens': 4.2012548578235684e-05, 'sum_prefill_tokens': 8.281786453393776e-06, 'max_prefill_tokens': -3.281642519603769e-06, 'num_prefills': 0.0018288703015233532, 'sum_decode_tokenss2': 3.763756350181343e-08, 'sum_decode_tokensmsumprefill_tokens': -9.461272409353877e-08, 'sum_decode_tokensmmaxprefill_tokens': 1.5743808703209517e-07, 'sum_decode_tokensmnumprefills': 2.324566181482079e-05, 'sum_prefill_tokenss2': -7.213253880510051e-09, 'sum_prefill_tokensmmaxprefill_tokens': 2.644297829009403e-08, 'sum_prefill_tokensmnumprefills': 8.326240112582576e-06, 'max_prefill_tokenss2': -1.3167541508293613e-08, 'max_prefill_tokensmnumprefills': -1.241565146469425e-05, 'num_prefillss2': -0.0007977777682182884, 'intercept': 0.0070227169917511535, 'schedule_time': 533.185585431648, 'update_time': 93.85569426628193, 'queue_overhead': 758.5971261509184, 'vllm_overhead': 5848.784513906893}. Best is trial 9 with value: 0.40932119765666336.\n",
      "[I 2025-07-14 13:56:55,157] Trial 15 finished with value: 0.4749675966716706 and parameters: {'sum_decode_tokens': 3.9860596776207005e-05, 'sum_prefill_tokens': 1.0636683166384108e-05, 'max_prefill_tokens': -2.384509197453982e-06, 'num_prefills': 0.0015075986248453393, 'sum_decode_tokenss2': 3.4614808003633296e-08, 'sum_decode_tokensmsumprefill_tokens': -9.503803703056026e-08, 'sum_decode_tokensmmaxprefill_tokens': 1.9199617769868418e-07, 'sum_decode_tokensmnumprefills': 2.7471188728001683e-05, 'sum_prefill_tokenss2': -5.861603845659191e-09, 'sum_prefill_tokensmmaxprefill_tokens': 2.259419119261927e-08, 'sum_prefill_tokensmnumprefills': 7.36029785794581e-06, 'max_prefill_tokenss2': -1.1126913501257223e-08, 'max_prefill_tokensmnumprefills': -1.1143034198579161e-05, 'num_prefillss2': -0.0007622002220395875, 'intercept': 0.00629969916758871, 'schedule_time': 640.8411611924754, 'update_time': 80.60198209277016, 'queue_overhead': 946.6946556157633, 'vllm_overhead': 5466.398096484476}. Best is trial 9 with value: 0.40932119765666336.\n",
      "[I 2025-07-14 13:56:56,465] Trial 16 finished with value: 0.470035314068074 and parameters: {'sum_decode_tokens': 3.587573597683084e-05, 'sum_prefill_tokens': 9.705526635869109e-06, 'max_prefill_tokens': -2.6894750375144745e-06, 'num_prefills': 0.0016585713944399548, 'sum_decode_tokenss2': 3.969385328814119e-08, 'sum_decode_tokensmsumprefill_tokens': -8.023835696421464e-08, 'sum_decode_tokensmmaxprefill_tokens': 1.7523587685419717e-07, 'sum_decode_tokensmnumprefills': 2.1775790732088213e-05, 'sum_prefill_tokenss2': -7.612210746618713e-09, 'sum_prefill_tokensmmaxprefill_tokens': 2.6867164322972628e-08, 'sum_prefill_tokensmnumprefills': 8.477211313224889e-06, 'max_prefill_tokenss2': -9.131745306947677e-09, 'max_prefill_tokensmnumprefills': -1.2381479117513478e-05, 'num_prefillss2': -0.0008346385690082169, 'intercept': 0.006693242883467768, 'schedule_time': 530.3326786895807, 'update_time': 67.97079353210503, 'queue_overhead': 840.2535570760159, 'vllm_overhead': 6270.828417489957}. Best is trial 9 with value: 0.40932119765666336.\n",
      "[I 2025-07-14 13:56:57,772] Trial 17 finished with value: 0.7482702901015346 and parameters: {'sum_decode_tokens': 2.9924290440428754e-05, 'sum_prefill_tokens': 8.217580292289075e-06, 'max_prefill_tokens': -2.8622955611602476e-06, 'num_prefills': 0.001800245119044762, 'sum_decode_tokenss2': 3.9806103391797143e-08, 'sum_decode_tokensmsumprefill_tokens': -8.81343090601543e-08, 'sum_decode_tokensmmaxprefill_tokens': 2.1477629739665172e-07, 'sum_decode_tokensmnumprefills': 2.5257503717722653e-05, 'sum_prefill_tokenss2': -6.511562362970416e-09, 'sum_prefill_tokensmmaxprefill_tokens': 2.3116595932377543e-08, 'sum_prefill_tokensmnumprefills': 7.698868495303721e-06, 'max_prefill_tokenss2': -1.242271541426335e-08, 'max_prefill_tokensmnumprefills': -1.1500236659644601e-05, 'num_prefillss2': -0.0009794766207162882, 'intercept': 0.004952622450751894, 'schedule_time': 596.3152366845785, 'update_time': 76.04271515948824, 'queue_overhead': 1134.1578297294666, 'vllm_overhead': 6564.9234322753855}. Best is trial 9 with value: 0.40932119765666336.\n",
      "[I 2025-07-14 13:56:59,143] Trial 18 finished with value: 0.4864090685366122 and parameters: {'sum_decode_tokens': 3.930078149994642e-05, 'sum_prefill_tokens': 9.613591702445087e-06, 'max_prefill_tokens': -3.0510002193897454e-06, 'num_prefills': 0.0014770607167360998, 'sum_decode_tokenss2': 3.432926123565532e-08, 'sum_decode_tokensmsumprefill_tokens': -9.834401522146652e-08, 'sum_decode_tokensmmaxprefill_tokens': 1.5694985536002488e-07, 'sum_decode_tokensmnumprefills': 3.051103423742195e-05, 'sum_prefill_tokenss2': -7.0352056625698846e-09, 'sum_prefill_tokensmmaxprefill_tokens': 2.6105723440722317e-08, 'sum_prefill_tokensmnumprefills': 6.8641924563725675e-06, 'max_prefill_tokenss2': -9.586599113452053e-09, 'max_prefill_tokensmnumprefills': -1.2922600962376748e-05, 'num_prefillss2': -0.0008631932065023122, 'intercept': 0.005997359733695288, 'schedule_time': 556.1023671266531, 'update_time': 89.26245649245647, 'queue_overhead': 886.4612721050261, 'vllm_overhead': 4594.319327192639}. Best is trial 9 with value: 0.40932119765666336.\n",
      "[I 2025-07-14 13:57:00,501] Trial 19 finished with value: 0.3690442527451581 and parameters: {'sum_decode_tokens': 3.635539786581018e-05, 'sum_prefill_tokens': 8.257720111274625e-06, 'max_prefill_tokens': -2.334528329334996e-06, 'num_prefills': 0.001604288302861073, 'sum_decode_tokenss2': 3.9655673096997786e-08, 'sum_decode_tokensmsumprefill_tokens': -8.808198939892247e-08, 'sum_decode_tokensmmaxprefill_tokens': 1.8259914662437136e-07, 'sum_decode_tokensmnumprefills': 2.6080105896223974e-05, 'sum_prefill_tokenss2': -7.981620662229067e-09, 'sum_prefill_tokensmmaxprefill_tokens': 2.275280914487542e-08, 'sum_prefill_tokensmnumprefills': 5.875198678790067e-06, 'max_prefill_tokenss2': -1.1576123144444818e-08, 'max_prefill_tokensmnumprefills': -1.2484669609557846e-05, 'num_prefillss2': -0.0006972730987324997, 'intercept': 0.006797713843926472, 'schedule_time': 679.5607560015219, 'update_time': 84.3627395339766, 'queue_overhead': 802.6242759838958, 'vllm_overhead': 5379.38480430192}. Best is trial 19 with value: 0.3690442527451581.\n",
      "[I 2025-07-14 13:57:01,844] Trial 20 finished with value: 0.4167150311017335 and parameters: {'sum_decode_tokens': 3.5859394832195045e-05, 'sum_prefill_tokens': 1.0114494080739285e-05, 'max_prefill_tokens': -2.341126090182889e-06, 'num_prefills': 0.001294563377337059, 'sum_decode_tokenss2': 4.769637254289597e-08, 'sum_decode_tokensmsumprefill_tokens': -8.685579894827525e-08, 'sum_decode_tokensmmaxprefill_tokens': 1.8507069351263448e-07, 'sum_decode_tokensmnumprefills': 2.60303143078033e-05, 'sum_prefill_tokenss2': -7.997961529176894e-09, 'sum_prefill_tokensmmaxprefill_tokens': 3.3296099496635684e-08, 'sum_prefill_tokensmnumprefills': 5.4368586426651725e-06, 'max_prefill_tokenss2': -1.157860473705842e-08, 'max_prefill_tokensmnumprefills': -1.0906768392531215e-05, 'num_prefillss2': -0.0006952931183250166, 'intercept': 0.006833767856457782, 'schedule_time': 511.43187269887915, 'update_time': 83.77475039344199, 'queue_overhead': 802.3068380387322, 'vllm_overhead': 5306.287557106936}. Best is trial 19 with value: 0.3690442527451581.\n",
      "[I 2025-07-14 13:57:03,188] Trial 21 finished with value: 0.4302868246449253 and parameters: {'sum_decode_tokens': 3.516837208139741e-05, 'sum_prefill_tokens': 1.0464329810338828e-05, 'max_prefill_tokens': -2.359388497811254e-06, 'num_prefills': 0.0013241377420674838, 'sum_decode_tokenss2': 4.708078039844532e-08, 'sum_decode_tokensmsumprefill_tokens': -8.792896538433825e-08, 'sum_decode_tokensmmaxprefill_tokens': 1.834485217413032e-07, 'sum_decode_tokensmnumprefills': 2.640597775012931e-05, 'sum_prefill_tokenss2': -8.138809356080473e-09, 'sum_prefill_tokensmmaxprefill_tokens': 3.3313678726311786e-08, 'sum_prefill_tokensmnumprefills': 5.5014856344335495e-06, 'max_prefill_tokenss2': -1.1568523606153765e-08, 'max_prefill_tokensmnumprefills': -9.832943709322922e-06, 'num_prefillss2': -0.0007078426206478299, 'intercept': 0.006859972104112305, 'schedule_time': 514.0090036377744, 'update_time': 84.37431617647638, 'queue_overhead': 800.0694699483321, 'vllm_overhead': 5304.246120179302}. Best is trial 19 with value: 0.3690442527451581.\n",
      "[I 2025-07-14 13:57:04,516] Trial 22 finished with value: 0.4337983817262183 and parameters: {'sum_decode_tokens': 3.525583728124115e-05, 'sum_prefill_tokens': 1.0005992807044185e-05, 'max_prefill_tokens': -2.5236408122150973e-06, 'num_prefills': 0.0012026677679994684, 'sum_decode_tokenss2': 4.854351460206457e-08, 'sum_decode_tokensmsumprefill_tokens': -8.459858755216099e-08, 'sum_decode_tokensmmaxprefill_tokens': 2.0023026909802967e-07, 'sum_decode_tokensmnumprefills': 2.5525287389984335e-05, 'sum_prefill_tokenss2': -7.964372349141227e-09, 'sum_prefill_tokensmmaxprefill_tokens': 2.8161040027180612e-08, 'sum_prefill_tokensmnumprefills': 5.914433066744218e-06, 'max_prefill_tokenss2': -1.1775305675206864e-08, 'max_prefill_tokensmnumprefills': -1.0930275348187553e-05, 'num_prefillss2': -0.0006934835994908009, 'intercept': 0.006855689623661212, 'schedule_time': 672.8406410243658, 'update_time': 75.15514302132736, 'queue_overhead': 792.23453779419, 'vllm_overhead': 5964.867340102888}. Best is trial 19 with value: 0.3690442527451581.\n",
      "[I 2025-07-14 13:57:05,884] Trial 23 finished with value: 0.4983464575789471 and parameters: {'sum_decode_tokens': 3.0599334704228197e-05, 'sum_prefill_tokens': 9.388786007279566e-06, 'max_prefill_tokens': -2.5719229636095646e-06, 'num_prefills': 0.0015507544017034159, 'sum_decode_tokenss2': 4.057214398159845e-08, 'sum_decode_tokensmsumprefill_tokens': -8.916960906640486e-08, 'sum_decode_tokensmmaxprefill_tokens': 1.9313653481587362e-07, 'sum_decode_tokensmnumprefills': 2.3650187732897423e-05, 'sum_prefill_tokenss2': -7.496214458028229e-09, 'sum_prefill_tokensmmaxprefill_tokens': 2.2672324702301536e-08, 'sum_prefill_tokensmnumprefills': 5.953328952176695e-06, 'max_prefill_tokenss2': -1.2659351832200135e-08, 'max_prefill_tokensmnumprefills': -1.2038878223270782e-05, 'num_prefillss2': -0.0007518496911066431, 'intercept': 0.0061436738624075305, 'schedule_time': 513.3906004455167, 'update_time': 82.0310754979896, 'queue_overhead': 760.2807111383854, 'vllm_overhead': 4925.616950815012}. Best is trial 19 with value: 0.3690442527451581.\n",
      "[I 2025-07-14 13:57:07,254] Trial 24 finished with value: 0.42440987192397633 and parameters: {'sum_decode_tokens': 3.628189562954448e-05, 'sum_prefill_tokens': 1.069878016848242e-05, 'max_prefill_tokens': -2.3373103816528522e-06, 'num_prefills': 0.001327316266433246, 'sum_decode_tokenss2': 5.2570602762640686e-08, 'sum_decode_tokensmsumprefill_tokens': -8.51875062845661e-08, 'sum_decode_tokensmmaxprefill_tokens': 1.722775103285057e-07, 'sum_decode_tokensmnumprefills': 2.8155685206060298e-05, 'sum_prefill_tokenss2': -8.919135541339635e-09, 'sum_prefill_tokensmmaxprefill_tokens': 3.005468299321363e-08, 'sum_prefill_tokensmnumprefills': 5.963751053683744e-06, 'max_prefill_tokenss2': -1.1264670403465185e-08, 'max_prefill_tokensmnumprefills': -1.2574013868774749e-05, 'num_prefillss2': -0.0007382170435618511, 'intercept': 0.006796795787431058, 'schedule_time': 478.4632457364703, 'update_time': 78.05694801862651, 'queue_overhead': 845.099515503896, 'vllm_overhead': 5413.426026202876}. Best is trial 19 with value: 0.3690442527451581.\n",
      "[I 2025-07-14 13:57:08,648] Trial 25 finished with value: 0.5420798476410068 and parameters: {'sum_decode_tokens': 4.076634289119239e-05, 'sum_prefill_tokens': 8.498644697323566e-06, 'max_prefill_tokens': -2.465194660127544e-06, 'num_prefills': 0.001598873475624523, 'sum_decode_tokenss2': 4.8412106111968615e-08, 'sum_decode_tokensmsumprefill_tokens': -9.732560812183472e-08, 'sum_decode_tokensmmaxprefill_tokens': 2.1157770548295842e-07, 'sum_decode_tokensmnumprefills': 2.6242616017992425e-05, 'sum_prefill_tokenss2': -8.076732082650193e-09, 'sum_prefill_tokensmmaxprefill_tokens': 3.3194696646429846e-08, 'sum_prefill_tokensmnumprefills': 6.200189451399498e-06, 'max_prefill_tokenss2': -1.2796925442584325e-08, 'max_prefill_tokensmnumprefills': -1.1453596041614243e-05, 'num_prefillss2': -0.0007671759463907187, 'intercept': 0.007036491996964182, 'schedule_time': 515.7211841477776, 'update_time': 93.05417577969212, 'queue_overhead': 928.9411711321676, 'vllm_overhead': 5636.346472751578}. Best is trial 19 with value: 0.3690442527451581.\n",
      "[I 2025-07-14 13:57:10,042] Trial 26 finished with value: 0.43803878283059006 and parameters: {'sum_decode_tokens': 3.8841343373179983e-05, 'sum_prefill_tokens': 1.0088591927102937e-05, 'max_prefill_tokens': -2.6312528765137258e-06, 'num_prefills': 0.0015035501028545096, 'sum_decode_tokenss2': 4.133025177129003e-08, 'sum_decode_tokensmsumprefill_tokens': -9.049752028137553e-08, 'sum_decode_tokensmmaxprefill_tokens': 1.8670360469742117e-07, 'sum_decode_tokensmnumprefills': 2.1908603279330463e-05, 'sum_prefill_tokenss2': -7.47447604675225e-09, 'sum_prefill_tokensmmaxprefill_tokens': 3.102249288739504e-08, 'sum_prefill_tokensmnumprefills': 5.716003334774895e-06, 'max_prefill_tokenss2': -1.2146037392470088e-08, 'max_prefill_tokensmnumprefills': -8.446075910576158e-06, 'num_prefillss2': -0.0007261762395377644, 'intercept': 0.0064208427796299695, 'schedule_time': 549.0238117929458, 'update_time': 83.00299916575312, 'queue_overhead': 793.7893145927582, 'vllm_overhead': 5172.439208784946}. Best is trial 19 with value: 0.3690442527451581.\n",
      "[I 2025-07-14 13:57:11,391] Trial 27 finished with value: 0.6348954098447289 and parameters: {'sum_decode_tokens': 3.699729870309805e-05, 'sum_prefill_tokens': 1.0996975672490768e-05, 'max_prefill_tokens': -3.881581391673558e-06, 'num_prefills': 0.0012870342454153665, 'sum_decode_tokenss2': 4.5335407045167724e-08, 'sum_decode_tokensmsumprefill_tokens': -1.0113965097033742e-07, 'sum_decode_tokensmmaxprefill_tokens': 1.5455009645917274e-07, 'sum_decode_tokensmnumprefills': 2.454478966789986e-05, 'sum_prefill_tokenss2': -8.84335716415143e-09, 'sum_prefill_tokensmmaxprefill_tokens': 2.8750102337124214e-08, 'sum_prefill_tokensmnumprefills': 5.421717291039986e-06, 'max_prefill_tokenss2': -1.1981690304766206e-08, 'max_prefill_tokensmnumprefills': -1.0748617490400925e-05, 'num_prefillss2': -0.0008462951021009676, 'intercept': 0.005848277284440973, 'schedule_time': 644.3541629169035, 'update_time': 73.3555496027654, 'queue_overhead': 989.0740006710154, 'vllm_overhead': 4787.244727387533}. Best is trial 19 with value: 0.3690442527451581.\n",
      "[I 2025-07-14 13:57:12,773] Trial 28 finished with value: 0.3665688701894796 and parameters: {'sum_decode_tokens': 3.471863135169232e-05, 'sum_prefill_tokens': 9.370072350339175e-06, 'max_prefill_tokens': -2.4480574824300213e-06, 'num_prefills': 0.001419673022376724, 'sum_decode_tokenss2': 3.349324788062366e-08, 'sum_decode_tokensmsumprefill_tokens': -8.493910590259189e-08, 'sum_decode_tokensmmaxprefill_tokens': 1.952561667034112e-07, 'sum_decode_tokensmnumprefills': 2.6397618441340512e-05, 'sum_prefill_tokenss2': -8.325647001685312e-09, 'sum_prefill_tokensmmaxprefill_tokens': 2.5647481959021965e-08, 'sum_prefill_tokensmnumprefills': 6.918342404299187e-06, 'max_prefill_tokenss2': -1.051762630200832e-08, 'max_prefill_tokensmnumprefills': -1.2753984125139207e-05, 'num_prefillss2': -0.0006937079670319303, 'intercept': 0.006219692309705042, 'schedule_time': 577.231386135994, 'update_time': 67.41112495857823, 'queue_overhead': 902.2649410310612, 'vllm_overhead': 6068.687478898343}. Best is trial 28 with value: 0.3665688701894796.\n",
      "[I 2025-07-14 13:57:14,190] Trial 29 finished with value: 0.6857047451791033 and parameters: {'sum_decode_tokens': 3.215965372834042e-05, 'sum_prefill_tokens': 7.909338962750492e-06, 'max_prefill_tokens': -2.9333574807413407e-06, 'num_prefills': 0.0014127718536767662, 'sum_decode_tokenss2': 3.3924896102601506e-08, 'sum_decode_tokensmsumprefill_tokens': -1.1120948285252395e-07, 'sum_decode_tokensmmaxprefill_tokens': 2.1421247412581987e-07, 'sum_decode_tokensmnumprefills': 2.7887630174377933e-05, 'sum_prefill_tokenss2': -8.363118046809964e-09, 'sum_prefill_tokensmmaxprefill_tokens': 2.5656298656111768e-08, 'sum_prefill_tokensmnumprefills': 6.878045635362106e-06, 'max_prefill_tokenss2': -1.0728782031035475e-08, 'max_prefill_tokensmnumprefills': -1.2743099513340391e-05, 'num_prefillss2': -0.0009772608018666854, 'intercept': 0.006212081360995921, 'schedule_time': 574.2227295888649, 'update_time': 67.10473553044493, 'queue_overhead': 910.5107129645584, 'vllm_overhead': 6108.224496990573}. Best is trial 28 with value: 0.3665688701894796.\n",
      "[I 2025-07-14 13:57:15,611] Trial 30 finished with value: 0.5744016092027827 and parameters: {'sum_decode_tokens': 2.846234420626838e-05, 'sum_prefill_tokens': 8.57489348907537e-06, 'max_prefill_tokens': -2.459921066815173e-06, 'num_prefills': 0.001472567885360798, 'sum_decode_tokenss2': 3.3043397363257753e-08, 'sum_decode_tokensmsumprefill_tokens': -8.32208714995527e-08, 'sum_decode_tokensmmaxprefill_tokens': 1.6952753635481873e-07, 'sum_decode_tokensmnumprefills': 2.8878231607607862e-05, 'sum_prefill_tokenss2': -8.751921036853276e-09, 'sum_prefill_tokensmmaxprefill_tokens': 2.3355606543939612e-08, 'sum_prefill_tokensmnumprefills': 7.408509996690203e-06, 'max_prefill_tokenss2': -1.042555541188379e-08, 'max_prefill_tokensmnumprefills': -1.2680760777767493e-05, 'num_prefillss2': -0.0009419348860759396, 'intercept': 0.006506355477741339, 'schedule_time': 621.2561107104332, 'update_time': 61.238314241843455, 'queue_overhead': 861.9293294635954, 'vllm_overhead': 5913.679478978583}. Best is trial 28 with value: 0.3665688701894796.\n",
      "[I 2025-07-14 13:57:17,006] Trial 31 finished with value: 0.37946048587405873 and parameters: {'sum_decode_tokens': 3.471250120548753e-05, 'sum_prefill_tokens': 9.441091863463884e-06, 'max_prefill_tokens': -2.3392396845865203e-06, 'num_prefills': 0.0013845633576192774, 'sum_decode_tokenss2': 3.5785702201281833e-08, 'sum_decode_tokensmsumprefill_tokens': -9.1763081518557e-08, 'sum_decode_tokensmmaxprefill_tokens': 1.9315817524159742e-07, 'sum_decode_tokensmnumprefills': 2.653890323876402e-05, 'sum_prefill_tokenss2': -7.815199505122789e-09, 'sum_prefill_tokensmmaxprefill_tokens': 2.7138450911478538e-08, 'sum_prefill_tokensmnumprefills': 6.156622763780131e-06, 'max_prefill_tokenss2': -1.1373280754056632e-08, 'max_prefill_tokensmnumprefills': -1.2103907917152571e-05, 'num_prefillss2': -0.0006968571473617365, 'intercept': 0.006660603553951417, 'schedule_time': 468.3119072351791, 'update_time': 88.30190006513554, 'queue_overhead': 820.4994738013161, 'vllm_overhead': 5300.007287074091}. Best is trial 28 with value: 0.3665688701894796.\n",
      "[I 2025-07-14 13:57:18,439] Trial 32 finished with value: 0.40729258140914043 and parameters: {'sum_decode_tokens': 3.4766187395895566e-05, 'sum_prefill_tokens': 9.130291650071012e-06, 'max_prefill_tokens': -2.5735724093661986e-06, 'num_prefills': 0.001382942194068514, 'sum_decode_tokenss2': 3.5829114119875556e-08, 'sum_decode_tokensmsumprefill_tokens': -9.107405013330432e-08, 'sum_decode_tokensmmaxprefill_tokens': 1.9338536474865444e-07, 'sum_decode_tokensmnumprefills': 2.670048466808819e-05, 'sum_prefill_tokenss2': -7.782118016845657e-09, 'sum_prefill_tokensmmaxprefill_tokens': 2.7357065774749348e-08, 'sum_prefill_tokensmnumprefills': 6.227581965377287e-06, 'max_prefill_tokenss2': -1.1267334132029232e-08, 'max_prefill_tokensmnumprefills': -1.2177634247742795e-05, 'num_prefillss2': -0.0007279018150846676, 'intercept': 0.006622328593070252, 'schedule_time': 463.30713104342993, 'update_time': 88.26876768368368, 'queue_overhead': 824.7606009966373, 'vllm_overhead': 6592.484997193178}. Best is trial 28 with value: 0.3665688701894796.\n",
      "[I 2025-07-14 13:57:19,915] Trial 33 finished with value: 0.3958025946542921 and parameters: {'sum_decode_tokens': 3.470505965487656e-05, 'sum_prefill_tokens': 9.326673824844975e-06, 'max_prefill_tokens': -2.5578460826635016e-06, 'num_prefills': 0.0014058571885942747, 'sum_decode_tokenss2': 3.607698386327858e-08, 'sum_decode_tokensmsumprefill_tokens': -9.084901810756382e-08, 'sum_decode_tokensmmaxprefill_tokens': 1.9494699211627574e-07, 'sum_decode_tokensmnumprefills': 2.6933058808676703e-05, 'sum_prefill_tokenss2': -7.816992472909834e-09, 'sum_prefill_tokensmmaxprefill_tokens': 2.907385444144959e-08, 'sum_prefill_tokensmnumprefills': 6.184680814165224e-06, 'max_prefill_tokenss2': -1.0670501512132164e-08, 'max_prefill_tokensmnumprefills': -1.215703356725747e-05, 'num_prefillss2': -0.0007222518840302807, 'intercept': 0.0066150139769636995, 'schedule_time': 456.22961754989734, 'update_time': 87.55627832875257, 'queue_overhead': 890.0876937860983, 'vllm_overhead': 6561.556447713517}. Best is trial 28 with value: 0.3665688701894796.\n",
      "[I 2025-07-14 13:57:21,427] Trial 34 finished with value: 0.394855312037819 and parameters: {'sum_decode_tokens': 3.30850298794545e-05, 'sum_prefill_tokens': 9.385048466995358e-06, 'max_prefill_tokens': -2.448460534872079e-06, 'num_prefills': 0.001422195438351116, 'sum_decode_tokenss2': 3.5757988446365304e-08, 'sum_decode_tokensmsumprefill_tokens': -9.884086869800407e-08, 'sum_decode_tokensmmaxprefill_tokens': 2.0766832260468015e-07, 'sum_decode_tokensmnumprefills': 2.7075551241966127e-05, 'sum_prefill_tokenss2': -9.176295901721354e-09, 'sum_prefill_tokensmmaxprefill_tokens': 2.8968186754125475e-08, 'sum_prefill_tokensmnumprefills': 6.280985826630434e-06, 'max_prefill_tokenss2': -9.948134684144858e-09, 'max_prefill_tokensmnumprefills': -1.1506056964041975e-05, 'num_prefillss2': -0.0007252287329706929, 'intercept': 0.006618724954550727, 'schedule_time': 408.69681121518386, 'update_time': 91.03505109058753, 'queue_overhead': 896.7627239327775, 'vllm_overhead': 6500.056654568722}. Best is trial 28 with value: 0.3665688701894796.\n",
      "[I 2025-07-14 13:57:22,847] Trial 35 finished with value: 0.4234377127990835 and parameters: {'sum_decode_tokens': 3.2437765231099896e-05, 'sum_prefill_tokens': 8.782141792999444e-06, 'max_prefill_tokens': -2.4432210950175193e-06, 'num_prefills': 0.00143487727411697, 'sum_decode_tokenss2': 3.590870312773092e-08, 'sum_decode_tokensmsumprefill_tokens': -9.811816395282346e-08, 'sum_decode_tokensmmaxprefill_tokens': 2.1018630550933194e-07, 'sum_decode_tokensmnumprefills': 2.8686014392871578e-05, 'sum_prefill_tokenss2': -9.217370012935814e-09, 'sum_prefill_tokensmmaxprefill_tokens': 2.1475456257951306e-08, 'sum_prefill_tokensmnumprefills': 6.633144709761598e-06, 'max_prefill_tokenss2': -9.714924177080794e-09, 'max_prefill_tokensmnumprefills': -1.1614959641068073e-05, 'num_prefillss2': -0.0007817213241511738, 'intercept': 0.006751252689195002, 'schedule_time': 410.7519908927148, 'update_time': 90.95402628327552, 'queue_overhead': 948.7002703544747, 'vllm_overhead': 6387.691507271239}. Best is trial 28 with value: 0.3665688701894796.\n",
      "[I 2025-07-14 13:57:24,241] Trial 36 finished with value: 0.41457312565432936 and parameters: {'sum_decode_tokens': 3.357762313536637e-05, 'sum_prefill_tokens': 9.54255602932857e-06, 'max_prefill_tokens': -3.4627418479564584e-06, 'num_prefills': 0.001237228787475853, 'sum_decode_tokenss2': 3.867189777273106e-08, 'sum_decode_tokensmsumprefill_tokens': -8.019210645792929e-08, 'sum_decode_tokensmmaxprefill_tokens': 2.0518832446118552e-07, 'sum_decode_tokensmnumprefills': 2.4658120208491097e-05, 'sum_prefill_tokenss2': -9.580535160101023e-09, 'sum_prefill_tokensmmaxprefill_tokens': 2.7945375342227946e-08, 'sum_prefill_tokensmnumprefills': 6.412074048044743e-06, 'max_prefill_tokenss2': -9.82412393402096e-09, 'max_prefill_tokensmnumprefills': -1.1271282997221656e-05, 'num_prefillss2': -0.0006906573543767042, 'intercept': 0.00691712001967582, 'schedule_time': 429.03980461632455, 'update_time': 99.49871449613794, 'queue_overhead': 860.7743533680058, 'vllm_overhead': 7180.691052436792}. Best is trial 28 with value: 0.3665688701894796.\n",
      "[I 2025-07-14 13:57:25,640] Trial 37 finished with value: 0.4586230496463193 and parameters: {'sum_decode_tokens': 3.0688762727252974e-05, 'sum_prefill_tokens': 9.835590189534986e-06, 'max_prefill_tokens': -2.414030234245362e-06, 'num_prefills': 0.0013395606652248833, 'sum_decode_tokenss2': 3.6916438534742956e-08, 'sum_decode_tokensmsumprefill_tokens': -1.088216471250168e-07, 'sum_decode_tokensmmaxprefill_tokens': 2.217894614895879e-07, 'sum_decode_tokensmnumprefills': 2.7383383870447607e-05, 'sum_prefill_tokenss2': -8.6613838056877e-09, 'sum_prefill_tokensmmaxprefill_tokens': 2.5538129378823695e-08, 'sum_prefill_tokensmnumprefills': 6.782210127272218e-06, 'max_prefill_tokenss2': -1.0706485291820859e-08, 'max_prefill_tokensmnumprefills': -1.0498309105851385e-05, 'num_prefillss2': -0.0007387676050686626, 'intercept': 0.0059930383625742155, 'schedule_time': 446.4002980240021, 'update_time': 96.51802018221684, 'queue_overhead': 908.1206245965625, 'vllm_overhead': 6776.067511511076}. Best is trial 28 with value: 0.3665688701894796.\n",
      "[I 2025-07-14 13:57:27,002] Trial 38 finished with value: 0.3834618156126825 and parameters: {'sum_decode_tokens': 3.289119422672441e-05, 'sum_prefill_tokens': 8.07059036291393e-06, 'max_prefill_tokens': -2.7752600652728986e-06, 'num_prefills': 0.0015252697416271292, 'sum_decode_tokenss2': 3.516556826910341e-08, 'sum_decode_tokensmsumprefill_tokens': -9.676755572821042e-08, 'sum_decode_tokensmmaxprefill_tokens': 1.9725653295239617e-07, 'sum_decode_tokensmnumprefills': 2.8435777505781594e-05, 'sum_prefill_tokenss2': -9.15687541603039e-09, 'sum_prefill_tokensmmaxprefill_tokens': 2.1735909498485273e-08, 'sum_prefill_tokensmnumprefills': 7.1228571559117265e-06, 'max_prefill_tokenss2': -1.0038166898733015e-08, 'max_prefill_tokensmnumprefills': -1.1745757803661697e-05, 'num_prefillss2': -0.0007167477722350892, 'intercept': 0.006565508149960702, 'schedule_time': 470.80066310964975, 'update_time': 91.42423792078137, 'queue_overhead': 1193.7716296140459, 'vllm_overhead': 6074.647197005016}. Best is trial 28 with value: 0.3665688701894796.\n",
      "[I 2025-07-14 13:57:28,426] Trial 39 finished with value: 0.6545724113217922 and parameters: {'sum_decode_tokens': 3.4197695118492224e-05, 'sum_prefill_tokens': 8.074442566099712e-06, 'max_prefill_tokens': -2.7793511535740077e-06, 'num_prefills': 0.0015179803048722522, 'sum_decode_tokenss2': 3.3374622202492376e-08, 'sum_decode_tokensmsumprefill_tokens': -8.560810716776432e-08, 'sum_decode_tokensmmaxprefill_tokens': 1.9804617562056516e-07, 'sum_decode_tokensmnumprefills': 3.029994917968567e-05, 'sum_prefill_tokenss2': -8.277704851716842e-09, 'sum_prefill_tokensmmaxprefill_tokens': 2.1940353238159582e-08, 'sum_prefill_tokensmnumprefills': 7.109359721968325e-06, 'max_prefill_tokenss2': -8.656257894250034e-09, 'max_prefill_tokensmnumprefills': -1.17259810098522e-05, 'num_prefillss2': -0.0010213386340931058, 'intercept': 0.005839525335913629, 'schedule_time': 475.4395550410984, 'update_time': 86.31074637891906, 'queue_overhead': 1144.145902059572, 'vllm_overhead': 6093.327835096679}. Best is trial 28 with value: 0.3665688701894796.\n",
      "[I 2025-07-14 13:57:29,808] Trial 40 finished with value: 0.4060791130993454 and parameters: {'sum_decode_tokens': 3.1410711591761094e-05, 'sum_prefill_tokens': 7.432438475119246e-06, 'max_prefill_tokens': -2.9513160194859447e-06, 'num_prefills': 0.001713572660007084, 'sum_decode_tokenss2': 3.511160886946864e-08, 'sum_decode_tokensmsumprefill_tokens': -1.049461031028032e-07, 'sum_decode_tokensmmaxprefill_tokens': 1.7955811496599768e-07, 'sum_decode_tokensmnumprefills': 2.8318644669340564e-05, 'sum_prefill_tokenss2': -8.511196993112879e-09, 'sum_prefill_tokensmmaxprefill_tokens': 2.3610813348997432e-08, 'sum_prefill_tokensmnumprefills': 7.756039437264181e-06, 'max_prefill_tokenss2': -1.0438364043252726e-08, 'max_prefill_tokensmnumprefills': -1.0167618869133465e-05, 'num_prefillss2': -0.0008257278912115643, 'intercept': 0.006266056441224204, 'schedule_time': 501.2042971638844, 'update_time': 90.62718029084262, 'queue_overhead': 1203.2697551459278, 'vllm_overhead': 5821.666711804722}. Best is trial 28 with value: 0.3665688701894796.\n",
      "[I 2025-07-14 13:57:31,157] Trial 41 finished with value: 0.35220644853711414 and parameters: {'sum_decode_tokens': 3.288782355011105e-05, 'sum_prefill_tokens': 8.55894758215939e-06, 'max_prefill_tokens': -2.4970850534060385e-06, 'num_prefills': 0.0015454574075105612, 'sum_decode_tokenss2': 3.9068361964701595e-08, 'sum_decode_tokensmsumprefill_tokens': -1.0022561990659032e-07, 'sum_decode_tokensmmaxprefill_tokens': 2.0563790209404654e-07, 'sum_decode_tokensmnumprefills': 2.9451862655370328e-05, 'sum_prefill_tokenss2': -9.339595941291628e-09, 'sum_prefill_tokensmmaxprefill_tokens': 2.1890939393469083e-08, 'sum_prefill_tokensmnumprefills': 5.748435072314131e-06, 'max_prefill_tokenss2': -9.963639032775763e-09, 'max_prefill_tokensmnumprefills': -1.2197502132329396e-05, 'num_prefillss2': -0.0007197535690689294, 'intercept': 0.006502217538788364, 'schedule_time': 442.5417692397553, 'update_time': 95.74686254664769, 'queue_overhead': 1060.7807483442455, 'vllm_overhead': 6092.570259829491}. Best is trial 41 with value: 0.35220644853711414.\n",
      "[I 2025-07-14 13:57:32,521] Trial 42 finished with value: 0.3467531607443963 and parameters: {'sum_decode_tokens': 3.291420709403066e-05, 'sum_prefill_tokens': 8.481100629749332e-06, 'max_prefill_tokens': -2.511233765714897e-06, 'num_prefills': 0.0015602084832691038, 'sum_decode_tokenss2': 3.913219149533068e-08, 'sum_decode_tokensmsumprefill_tokens': -1.0221140911683159e-07, 'sum_decode_tokensmmaxprefill_tokens': 1.8839046330927073e-07, 'sum_decode_tokensmnumprefills': 2.9369929811353227e-05, 'sum_prefill_tokenss2': -9.34480931010944e-09, 'sum_prefill_tokensmmaxprefill_tokens': 2.0849509630209487e-08, 'sum_prefill_tokensmnumprefills': 5.7755419159400835e-06, 'max_prefill_tokenss2': -9.41869194796641e-09, 'max_prefill_tokensmnumprefills': -1.2224295354444624e-05, 'num_prefillss2': -0.0007151803081785816, 'intercept': 0.006611096729966064, 'schedule_time': 437.7897187749737, 'update_time': 96.85737790902417, 'queue_overhead': 1068.5686761450208, 'vllm_overhead': 6089.197081304182}. Best is trial 42 with value: 0.3467531607443963.\n",
      "[I 2025-07-14 13:57:33,906] Trial 43 finished with value: 0.3527217055706131 and parameters: {'sum_decode_tokens': 2.9107453673387114e-05, 'sum_prefill_tokens': 8.604173101679789e-06, 'max_prefill_tokens': -2.5031119769907186e-06, 'num_prefills': 0.0016363689331799075, 'sum_decode_tokenss2': 3.87231307673404e-08, 'sum_decode_tokensmsumprefill_tokens': -1.1655022644816669e-07, 'sum_decode_tokensmmaxprefill_tokens': 1.8799413315259342e-07, 'sum_decode_tokensmnumprefills': 2.9640588524841678e-05, 'sum_prefill_tokenss2': -9.47335321694132e-09, 'sum_prefill_tokensmmaxprefill_tokens': 2.0701487349236178e-08, 'sum_prefill_tokensmnumprefills': 5.779194230491489e-06, 'max_prefill_tokenss2': -8.716597320216691e-09, 'max_prefill_tokensmnumprefills': -1.2854501207622622e-05, 'num_prefillss2': -0.0007510759103254196, 'intercept': 0.006949435784195395, 'schedule_time': 445.76192639179163, 'update_time': 95.90275519022252, 'queue_overhead': 1047.946077300784, 'vllm_overhead': 5591.53228703179}. Best is trial 42 with value: 0.3467531607443963.\n",
      "[I 2025-07-14 13:57:35,256] Trial 44 finished with value: 0.3690296146213858 and parameters: {'sum_decode_tokens': 2.811031928091306e-05, 'sum_prefill_tokens': 8.53424227171264e-06, 'max_prefill_tokens': -2.511475246970427e-06, 'num_prefills': 0.001633229048417337, 'sum_decode_tokenss2': 4.21035665690916e-08, 'sum_decode_tokensmsumprefill_tokens': -1.1757071631105053e-07, 'sum_decode_tokensmmaxprefill_tokens': 1.8801298571280266e-07, 'sum_decode_tokensmnumprefills': 2.9963307204407567e-05, 'sum_prefill_tokenss2': -9.430917256942341e-09, 'sum_prefill_tokensmmaxprefill_tokens': 2.0039927803979463e-08, 'sum_prefill_tokensmnumprefills': 5.703400910416117e-06, 'max_prefill_tokenss2': -8.623693479533763e-09, 'max_prefill_tokensmnumprefills': -1.2814034908905681e-05, 'num_prefillss2': -0.0007766065034878953, 'intercept': 0.006957615540259083, 'schedule_time': 435.39409250824474, 'update_time': 96.68567644568097, 'queue_overhead': 1053.3203551866316, 'vllm_overhead': 5613.907228062998}. Best is trial 42 with value: 0.3467531607443963.\n",
      "[I 2025-07-14 13:57:36,600] Trial 45 finished with value: 0.3702390342511835 and parameters: {'sum_decode_tokens': 2.7554626343421014e-05, 'sum_prefill_tokens': 8.930035725704903e-06, 'max_prefill_tokens': -2.505551441854345e-06, 'num_prefills': 0.0016529682376204215, 'sum_decode_tokenss2': 4.169019124999268e-08, 'sum_decode_tokensmsumprefill_tokens': -1.1544342247346903e-07, 'sum_decode_tokensmmaxprefill_tokens': 1.8984046189972688e-07, 'sum_decode_tokensmnumprefills': 2.9499568652087288e-05, 'sum_prefill_tokenss2': -9.427692673063168e-09, 'sum_prefill_tokensmmaxprefill_tokens': 2.0608780730348705e-08, 'sum_prefill_tokensmnumprefills': 5.684569635112671e-06, 'max_prefill_tokenss2': -8.691200981255786e-09, 'max_prefill_tokensmnumprefills': -1.2916685650538461e-05, 'num_prefillss2': -0.0007759217766388578, 'intercept': 0.007114849807678399, 'schedule_time': 438.9543719054008, 'update_time': 97.76200077860092, 'queue_overhead': 1049.5494832281443, 'vllm_overhead': 5668.513050712944}. Best is trial 42 with value: 0.3467531607443963.\n",
      "[I 2025-07-14 13:57:37,931] Trial 46 finished with value: 0.33897331765132516 and parameters: {'sum_decode_tokens': 2.5393549893857302e-05, 'sum_prefill_tokens': 8.648237081112394e-06, 'max_prefill_tokens': -2.6214263617790736e-06, 'num_prefills': 0.0017747731661955015, 'sum_decode_tokenss2': 4.3759893564223593e-08, 'sum_decode_tokensmsumprefill_tokens': -1.2001481546046458e-07, 'sum_decode_tokensmmaxprefill_tokens': 2.0463977317647763e-07, 'sum_decode_tokensmnumprefills': 3.121186216753269e-05, 'sum_prefill_tokenss2': -9.40929994549403e-09, 'sum_prefill_tokensmmaxprefill_tokens': 2.0230200273742242e-08, 'sum_prefill_tokensmnumprefills': 5.721811431143857e-06, 'max_prefill_tokenss2': -8.570782204065301e-09, 'max_prefill_tokensmnumprefills': -1.2788187527815096e-05, 'num_prefillss2': -0.0007478056265800009, 'intercept': 0.006983994306017221, 'schedule_time': 426.9071348131869, 'update_time': 96.17707526193145, 'queue_overhead': 1077.6247572873008, 'vllm_overhead': 5579.054920093678}. Best is trial 46 with value: 0.33897331765132516.\n",
      "[I 2025-07-14 13:57:39,264] Trial 47 finished with value: 1.0756891043099945 and parameters: {'sum_decode_tokens': 2.596642802559728e-05, 'sum_prefill_tokens': 8.715485729718209e-06, 'max_prefill_tokens': -2.650436335640283e-06, 'num_prefills': 0.0017686367637415783, 'sum_decode_tokenss2': 4.404089053120004e-08, 'sum_decode_tokensmsumprefill_tokens': -1.2260425343216166e-07, 'sum_decode_tokensmmaxprefill_tokens': 2.2223310380716586e-07, 'sum_decode_tokensmnumprefills': 3.1138832108525054e-05, 'sum_prefill_tokenss2': -9.352335727706725e-09, 'sum_prefill_tokensmmaxprefill_tokens': 2.066591566373329e-08, 'sum_prefill_tokensmnumprefills': 5.63433135117599e-06, 'max_prefill_tokenss2': -9.454586566796259e-09, 'max_prefill_tokensmnumprefills': -1.3102511297204607e-05, 'num_prefillss2': -0.0011492586427135818, 'intercept': 0.004974207042613064, 'schedule_time': 419.9498674215306, 'update_time': 94.36842318396425, 'queue_overhead': 1081.705838823707, 'vllm_overhead': 6185.456061724874}. Best is trial 46 with value: 0.33897331765132516.\n",
      "[I 2025-07-14 13:57:40,614] Trial 48 finished with value: 0.3258190796614659 and parameters: {'sum_decode_tokens': 2.542694133551065e-05, 'sum_prefill_tokens': 9.135040745291564e-06, 'max_prefill_tokens': -3.237481375745408e-06, 'num_prefills': 0.001695789959319646, 'sum_decode_tokenss2': 4.3033129531207915e-08, 'sum_decode_tokensmsumprefill_tokens': -1.2676452724698701e-07, 'sum_decode_tokensmmaxprefill_tokens': 2.0213098491564592e-07, 'sum_decode_tokensmnumprefills': 3.2323229569633637e-05, 'sum_prefill_tokenss2': -9.027083807592392e-09, 'sum_prefill_tokensmmaxprefill_tokens': 2.094078903125064e-08, 'sum_prefill_tokensmnumprefills': 6.077604203461844e-06, 'max_prefill_tokenss2': -8.273162842216082e-09, 'max_prefill_tokensmnumprefills': -1.228529171737353e-05, 'num_prefillss2': -0.0007478686564106654, 'intercept': 0.00635421890523762, 'schedule_time': 446.6538951908466, 'update_time': 95.34336914029721, 'queue_overhead': 1022.6244841827056, 'vllm_overhead': 5790.047761610458}. Best is trial 48 with value: 0.3258190796614659.\n",
      "[I 2025-07-14 13:57:41,959] Trial 49 finished with value: 0.37271740075836707 and parameters: {'sum_decode_tokens': 2.70362787814749e-05, 'sum_prefill_tokens': 8.392244550411077e-06, 'max_prefill_tokens': -3.2365639607493093e-06, 'num_prefills': 0.0017523023559622758, 'sum_decode_tokenss2': 4.312778632265719e-08, 'sum_decode_tokensmsumprefill_tokens': -1.294687084667967e-07, 'sum_decode_tokensmmaxprefill_tokens': 2.0295231901213356e-07, 'sum_decode_tokensmnumprefills': 3.207751169416138e-05, 'sum_prefill_tokenss2': -9.019541539125185e-09, 'sum_prefill_tokensmmaxprefill_tokens': 2.0999252230784363e-08, 'sum_prefill_tokensmnumprefills': 6.059331336355252e-06, 'max_prefill_tokenss2': -8.325181693774971e-09, 'max_prefill_tokensmnumprefills': -1.2365387108461274e-05, 'num_prefillss2': -0.0007500984514165963, 'intercept': 0.005690864675452808, 'schedule_time': 447.8854086464309, 'update_time': 95.56824526890458, 'queue_overhead': 1012.5054658558407, 'vllm_overhead': 5792.905683345425}. Best is trial 48 with value: 0.3258190796614659.\n",
      "[I 2025-07-14 13:57:43,392] Trial 50 finished with value: 0.38396623813901926 and parameters: {'sum_decode_tokens': 2.9322564900581416e-05, 'sum_prefill_tokens': 7.69392648105073e-06, 'max_prefill_tokens': -3.1300541266666227e-06, 'num_prefills': 0.0017103408222563304, 'sum_decode_tokenss2': 3.880392771361725e-08, 'sum_decode_tokensmsumprefill_tokens': -1.2731557301047305e-07, 'sum_decode_tokensmmaxprefill_tokens': 2.3750171621950452e-07, 'sum_decode_tokensmnumprefills': 3.2552424117040196e-05, 'sum_prefill_tokenss2': -9.640301100270778e-09, 'sum_prefill_tokensmmaxprefill_tokens': 2.2194345863280287e-08, 'sum_prefill_tokensmnumprefills': 5.808631966439732e-06, 'max_prefill_tokenss2': -8.85180605985869e-09, 'max_prefill_tokensmnumprefills': -1.1940430925967296e-05, 'num_prefillss2': -0.0008183602963260114, 'intercept': 0.006362446855765359, 'schedule_time': 428.06181928947956, 'update_time': 99.17669580503615, 'queue_overhead': 1111.8501614379477, 'vllm_overhead': 5137.241182864031}. Best is trial 48 with value: 0.3258190796614659.\n",
      "[I 2025-07-14 13:57:44,753] Trial 51 finished with value: 0.3811189451197408 and parameters: {'sum_decode_tokens': 2.53836384940207e-05, 'sum_prefill_tokens': 9.172256959439256e-06, 'max_prefill_tokens': -3.368433746701427e-06, 'num_prefills': 0.0015607830464961228, 'sum_decode_tokenss2': 4.5580402903063936e-08, 'sum_decode_tokensmsumprefill_tokens': -1.201633042692479e-07, 'sum_decode_tokensmmaxprefill_tokens': 2.053467714124561e-07, 'sum_decode_tokensmnumprefills': 3.123031691348532e-05, 'sum_prefill_tokenss2': -9.059293061031875e-09, 'sum_prefill_tokensmmaxprefill_tokens': 2.122985382945838e-08, 'sum_prefill_tokensmnumprefills': 6.39150068096793e-06, 'max_prefill_tokenss2': -8.345113482645641e-09, 'max_prefill_tokensmnumprefills': -1.2637766271391784e-05, 'num_prefillss2': -0.0007435917401578125, 'intercept': 0.0060517131879995086, 'schedule_time': 420.46968210214044, 'update_time': 95.01348066006011, 'queue_overhead': 1078.2386510093236, 'vllm_overhead': 6037.644319725352}. Best is trial 48 with value: 0.3258190796614659.\n",
      "[I 2025-07-14 13:57:46,104] Trial 52 finished with value: 0.3724884892364208 and parameters: {'sum_decode_tokens': 2.6724158897079932e-05, 'sum_prefill_tokens': 8.756548725257876e-06, 'max_prefill_tokens': -3.352255227659409e-06, 'num_prefills': 0.0016920060915988477, 'sum_decode_tokenss2': 4.097189784165759e-08, 'sum_decode_tokensmsumprefill_tokens': -1.324049805969647e-07, 'sum_decode_tokensmmaxprefill_tokens': 1.9983726078607914e-07, 'sum_decode_tokensmnumprefills': 3.107185705080235e-05, 'sum_prefill_tokenss2': -9.355858282874942e-09, 'sum_prefill_tokensmmaxprefill_tokens': 2.0973260088417057e-08, 'sum_prefill_tokensmnumprefills': 5.593328277686459e-06, 'max_prefill_tokenss2': -9.41448191344466e-09, 'max_prefill_tokensmnumprefills': -1.2248903998642669e-05, 'num_prefillss2': -0.000781192816803545, 'intercept': 0.0064545485640505875, 'schedule_time': 457.35435427970896, 'update_time': 97.81544145597519, 'queue_overhead': 1025.776139264895, 'vllm_overhead': 5935.496750988702}. Best is trial 48 with value: 0.3258190796614659.\n",
      "[I 2025-07-14 13:57:47,462] Trial 53 finished with value: 0.3435926844499702 and parameters: {'sum_decode_tokens': 2.9267777729455743e-05, 'sum_prefill_tokens': 9.19018704104135e-06, 'max_prefill_tokens': -3.145521911799643e-06, 'num_prefills': 0.0017850378565313608, 'sum_decode_tokenss2': 4.3032747308581634e-08, 'sum_decode_tokensmsumprefill_tokens': -1.1324023037187952e-07, 'sum_decode_tokensmmaxprefill_tokens': 2.1787361473647973e-07, 'sum_decode_tokensmnumprefills': 2.9456505239611416e-05, 'sum_prefill_tokenss2': -9.491495670822747e-09, 'sum_prefill_tokensmmaxprefill_tokens': 2.018138478050426e-08, 'sum_prefill_tokensmnumprefills': 5.806335380750728e-06, 'max_prefill_tokenss2': -8.047496169750629e-09, 'max_prefill_tokensmnumprefills': -1.2875485306118808e-05, 'num_prefillss2': -0.000757424758651228, 'intercept': 0.00617736032117435, 'schedule_time': 442.1656094368036, 'update_time': 92.66529805709577, 'queue_overhead': 1105.033654120888, 'vllm_overhead': 5546.495200649544}. Best is trial 48 with value: 0.3258190796614659.\n",
      "[I 2025-07-14 13:57:48,821] Trial 54 finished with value: 0.3795573406007288 and parameters: {'sum_decode_tokens': 2.9108530879339044e-05, 'sum_prefill_tokens': 8.99172778514189e-06, 'max_prefill_tokens': -3.150293104840668e-06, 'num_prefills': 0.001844550669119407, 'sum_decode_tokenss2': 4.270123979833301e-08, 'sum_decode_tokensmsumprefill_tokens': -1.1273607359330869e-07, 'sum_decode_tokensmmaxprefill_tokens': 2.1883853621190922e-07, 'sum_decode_tokensmnumprefills': 2.97734121910292e-05, 'sum_prefill_tokenss2': -9.458462892768803e-09, 'sum_prefill_tokensmmaxprefill_tokens': 2.0061466142599247e-08, 'sum_prefill_tokensmnumprefills': 5.801102273103942e-06, 'max_prefill_tokenss2': -8.054053067205712e-09, 'max_prefill_tokensmnumprefills': -1.2971689136767503e-05, 'num_prefillss2': -0.000788978953171523, 'intercept': 0.00698767640594302, 'schedule_time': 441.4283477462355, 'update_time': 92.80367225844603, 'queue_overhead': 1098.2797288646432, 'vllm_overhead': 5539.621094040746}. Best is trial 48 with value: 0.3258190796614659.\n",
      "[I 2025-07-14 13:57:50,233] Trial 55 finished with value: 0.7378948920550343 and parameters: {'sum_decode_tokens': 2.5429332834907608e-05, 'sum_prefill_tokens': 9.210316193261097e-06, 'max_prefill_tokens': -2.995394887517363e-06, 'num_prefills': 0.0017821335701078064, 'sum_decode_tokenss2': 4.4354680888914504e-08, 'sum_decode_tokensmsumprefill_tokens': -1.1843927869109333e-07, 'sum_decode_tokensmmaxprefill_tokens': 2.159032639981074e-07, 'sum_decode_tokensmnumprefills': 2.9262785206311347e-05, 'sum_prefill_tokenss2': -9.536489572786344e-09, 'sum_prefill_tokensmmaxprefill_tokens': 2.2284318806961127e-08, 'sum_prefill_tokensmnumprefills': 6.02676956702002e-06, 'max_prefill_tokenss2': -8.913108179843016e-09, 'max_prefill_tokensmnumprefills': -1.2522713180983948e-05, 'num_prefillss2': -0.0007590015809541812, 'intercept': 0.0043108457907934826, 'schedule_time': 490.0829391134969, 'update_time': 98.12117745214213, 'queue_overhead': 1130.7765519016214, 'vllm_overhead': 5783.790883273374}. Best is trial 48 with value: 0.3258190796614659.\n",
      "[I 2025-07-14 13:57:51,654] Trial 56 finished with value: 0.44190700061699695 and parameters: {'sum_decode_tokens': 2.638702134789927e-05, 'sum_prefill_tokens': 8.569010447065553e-06, 'max_prefill_tokens': -3.2071374140223627e-06, 'num_prefills': 0.0018160816155099527, 'sum_decode_tokenss2': 4.0089085580804404e-08, 'sum_decode_tokensmsumprefill_tokens': -1.2408156584229967e-07, 'sum_decode_tokensmmaxprefill_tokens': 2.0902587855369108e-07, 'sum_decode_tokensmnumprefills': 3.0727396758406774e-05, 'sum_prefill_tokenss2': -9.27078377835794e-09, 'sum_prefill_tokensmmaxprefill_tokens': 2.1574036932394866e-08, 'sum_prefill_tokensmnumprefills': 5.551368880952262e-06, 'max_prefill_tokenss2': -8.345334581711833e-09, 'max_prefill_tokensmnumprefills': -1.3149623800910866e-05, 'num_prefillss2': -0.0008799990688966981, 'intercept': 0.006550455952811826, 'schedule_time': 427.1875149940945, 'update_time': 95.95362365030913, 'queue_overhead': 1066.690533553525, 'vllm_overhead': 5534.185976307274}. Best is trial 48 with value: 0.3258190796614659.\n",
      "[I 2025-07-14 13:57:53,065] Trial 57 finished with value: 0.39757554035411347 and parameters: {'sum_decode_tokens': 3.1254474072064885e-05, 'sum_prefill_tokens': 8.746070268695221e-06, 'max_prefill_tokens': -2.834763515066557e-06, 'num_prefills': 0.0018767341575327628, 'sum_decode_tokenss2': 3.896678707180168e-08, 'sum_decode_tokensmsumprefill_tokens': -1.061574943370732e-07, 'sum_decode_tokensmmaxprefill_tokens': 2.033034385261394e-07, 'sum_decode_tokensmnumprefills': 3.229604229307821e-05, 'sum_prefill_tokenss2': -9.112120742955183e-09, 'sum_prefill_tokensmmaxprefill_tokens': 2.0233433970772456e-08, 'sum_prefill_tokensmnumprefills': 5.827623082440737e-06, 'max_prefill_tokenss2': -8.517471559274379e-09, 'max_prefill_tokensmnumprefills': -1.2352133927885596e-05, 'num_prefillss2': -0.0008053452051039478, 'intercept': 0.006728537909838004, 'schedule_time': 451.12583863704856, 'update_time': 92.95132522011538, 'queue_overhead': 1032.3401491676047, 'vllm_overhead': 6345.08284537083}. Best is trial 48 with value: 0.3258190796614659.\n",
      "[I 2025-07-14 13:57:54,478] Trial 58 finished with value: 0.6171697346333328 and parameters: {'sum_decode_tokens': 2.749393626223568e-05, 'sum_prefill_tokens': 8.045903538802818e-06, 'max_prefill_tokens': -3.079318313047015e-06, 'num_prefills': 0.0016873788058455856, 'sum_decode_tokenss2': 4.366687014336849e-08, 'sum_decode_tokensmsumprefill_tokens': -1.0868773282385696e-07, 'sum_decode_tokensmmaxprefill_tokens': 2.3113898965651875e-07, 'sum_decode_tokensmnumprefills': 3.169604101347888e-05, 'sum_prefill_tokenss2': -8.896332628118889e-09, 'sum_prefill_tokensmmaxprefill_tokens': 2.0801114607544237e-08, 'sum_prefill_tokensmnumprefills': 6.074637028464096e-06, 'max_prefill_tokenss2': -8.96744839155472e-09, 'max_prefill_tokensmnumprefills': -1.1894930041615241e-05, 'num_prefillss2': -0.0009108018540075429, 'intercept': 0.0055391173940884005, 'schedule_time': 482.858795725343, 'update_time': 97.09518862967745, 'queue_overhead': 994.0083468717598, 'vllm_overhead': 5717.523005155181}. Best is trial 48 with value: 0.3258190796614659.\n",
      "[I 2025-07-14 13:57:55,829] Trial 59 finished with value: 0.44043425308451445 and parameters: {'sum_decode_tokens': 3.0080492342297567e-05, 'sum_prefill_tokens': 8.337828537785524e-06, 'max_prefill_tokens': -2.6985049264936143e-06, 'num_prefills': 0.0017395897483815947, 'sum_decode_tokenss2': 3.7747083029053776e-08, 'sum_decode_tokensmsumprefill_tokens': -1.166503693191797e-07, 'sum_decode_tokensmmaxprefill_tokens': 1.8040067807864275e-07, 'sum_decode_tokensmnumprefills': 3.016977218250537e-05, 'sum_prefill_tokenss2': -8.661158466560997e-09, 'sum_prefill_tokensmmaxprefill_tokens': 2.4021755503581773e-08, 'sum_prefill_tokensmnumprefills': 6.325795841046231e-06, 'max_prefill_tokenss2': -8.128684520170334e-09, 'max_prefill_tokensmnumprefills': -1.2925552137634264e-05, 'num_prefillss2': -0.0007117678642389387, 'intercept': 0.007135644706120067, 'schedule_time': 463.8287646836131, 'update_time': 94.77581635093951, 'queue_overhead': 1164.0302569145472, 'vllm_overhead': 6193.502903852308}. Best is trial 48 with value: 0.3258190796614659.\n",
      "[I 2025-07-14 13:57:57,225] Trial 60 finished with value: 0.36277371354460985 and parameters: {'sum_decode_tokens': 2.884211088590843e-05, 'sum_prefill_tokens': 7.816150448837446e-06, 'max_prefill_tokens': -3.59545510351459e-06, 'num_prefills': 0.001628501778057833, 'sum_decode_tokenss2': 4.638648701264015e-08, 'sum_decode_tokensmsumprefill_tokens': -1.2020335877730843e-07, 'sum_decode_tokensmmaxprefill_tokens': 2.2916490376832052e-07, 'sum_decode_tokensmnumprefills': 2.903613469456451e-05, 'sum_prefill_tokenss2': -9.300566010407983e-09, 'sum_prefill_tokensmmaxprefill_tokens': 2.1424317048003295e-08, 'sum_prefill_tokensmnumprefills': 6.569587049569929e-06, 'max_prefill_tokenss2': -9.283616528204828e-09, 'max_prefill_tokensmnumprefills': -1.2566275523688167e-05, 'num_prefillss2': -0.000752511415470529, 'intercept': 0.006336742806256211, 'schedule_time': 416.7697627410668, 'update_time': 99.91523934150017, 'queue_overhead': 1114.3890837175131, 'vllm_overhead': 5072.313471741521}. Best is trial 48 with value: 0.3258190796614659.\n",
      "[I 2025-07-14 13:57:58,625] Trial 61 finished with value: 0.3879693617923135 and parameters: {'sum_decode_tokens': 2.8605093066821246e-05, 'sum_prefill_tokens': 7.809602824986588e-06, 'max_prefill_tokens': -3.297801740142625e-06, 'num_prefills': 0.0016347939708970668, 'sum_decode_tokenss2': 4.481960668836347e-08, 'sum_decode_tokensmsumprefill_tokens': -1.2011361494363882e-07, 'sum_decode_tokensmmaxprefill_tokens': 2.3290813656837293e-07, 'sum_decode_tokensmnumprefills': 2.8937996670450148e-05, 'sum_prefill_tokenss2': -9.283250723375815e-09, 'sum_prefill_tokensmmaxprefill_tokens': 2.128529721010946e-08, 'sum_prefill_tokensmnumprefills': 5.779855877254834e-06, 'max_prefill_tokenss2': -9.301286252576232e-09, 'max_prefill_tokensmnumprefills': -1.2601251961154804e-05, 'num_prefillss2': -0.0007620028063049463, 'intercept': 0.006327097680626235, 'schedule_time': 421.26063608134496, 'update_time': 98.96805562213457, 'queue_overhead': 1109.515675552309, 'vllm_overhead': 5044.439251853621}. Best is trial 48 with value: 0.3258190796614659.\n",
      "[I 2025-07-14 13:58:00,109] Trial 62 finished with value: 0.37044665607138083 and parameters: {'sum_decode_tokens': 2.9565761765127545e-05, 'sum_prefill_tokens': 7.596429428844948e-06, 'max_prefill_tokens': -3.5780901598821396e-06, 'num_prefills': 0.0015625026934735014, 'sum_decode_tokenss2': 4.646745369950347e-08, 'sum_decode_tokensmsumprefill_tokens': -1.1376638129362925e-07, 'sum_decode_tokensmmaxprefill_tokens': 2.2737865480846968e-07, 'sum_decode_tokensmnumprefills': 2.9418655371829348e-05, 'sum_prefill_tokenss2': -9.54419686044526e-09, 'sum_prefill_tokensmmaxprefill_tokens': 2.063616732091824e-08, 'sum_prefill_tokensmnumprefills': 6.526375616584072e-06, 'max_prefill_tokenss2': -9.106579757850137e-09, 'max_prefill_tokensmnumprefills': -1.2327327561866036e-05, 'num_prefillss2': -0.0007346660036851361, 'intercept': 0.0061106762108733385, 'schedule_time': 435.93117634809425, 'update_time': 92.35150259215095, 'queue_overhead': 1066.9186611366729, 'vllm_overhead': 4749.253509694423}. Best is trial 48 with value: 0.3258190796614659.\n",
      "[I 2025-07-14 13:58:01,472] Trial 63 finished with value: 0.33869146529533284 and parameters: {'sum_decode_tokens': 2.7739324399535622e-05, 'sum_prefill_tokens': 8.214667546889043e-06, 'max_prefill_tokens': -3.612246851487685e-06, 'num_prefills': 0.0016745715970072949, 'sum_decode_tokenss2': 4.204945700472696e-08, 'sum_decode_tokensmsumprefill_tokens': -1.2727175766696668e-07, 'sum_decode_tokensmmaxprefill_tokens': 2.2214625591177227e-07, 'sum_decode_tokensmnumprefills': 3.072312323413185e-05, 'sum_prefill_tokenss2': -9.01705763559417e-09, 'sum_prefill_tokensmmaxprefill_tokens': 2.2107181543694655e-08, 'sum_prefill_tokensmnumprefills': 5.9634271962853225e-06, 'max_prefill_tokenss2': -8.456159487235444e-09, 'max_prefill_tokensmnumprefills': -1.2755335329123173e-05, 'num_prefillss2': -0.0007458034330736668, 'intercept': 0.006472637284101116, 'schedule_time': 412.91954927965844, 'update_time': 99.76993309417078, 'queue_overhead': 1032.8922005886334, 'vllm_overhead': 5408.766422269949}. Best is trial 48 with value: 0.3258190796614659.\n",
      "[I 2025-07-14 13:58:02,815] Trial 64 finished with value: 0.3920870710002911 and parameters: {'sum_decode_tokens': 2.7610473400600884e-05, 'sum_prefill_tokens': 8.187687895300514e-06, 'max_prefill_tokens': -3.7677352184851762e-06, 'num_prefills': 0.0016739366052023622, 'sum_decode_tokenss2': 4.050196652200705e-08, 'sum_decode_tokensmsumprefill_tokens': -1.2833359538667237e-07, 'sum_decode_tokensmmaxprefill_tokens': 2.2132023114846994e-07, 'sum_decode_tokensmnumprefills': 3.073798655944895e-05, 'sum_prefill_tokenss2': -8.940235349872554e-09, 'sum_prefill_tokensmmaxprefill_tokens': 2.2329088896820574e-08, 'sum_prefill_tokensmnumprefills': 5.927446381271644e-06, 'max_prefill_tokenss2': -8.483358496218953e-09, 'max_prefill_tokensmnumprefills': -1.2844900768630671e-05, 'num_prefillss2': -0.0007937976821507567, 'intercept': 0.006478193337573516, 'schedule_time': 444.2316945764379, 'update_time': 93.89494363402497, 'queue_overhead': 971.0290067694062, 'vllm_overhead': 5365.8520946309}. Best is trial 48 with value: 0.3258190796614659.\n",
      "[I 2025-07-14 13:58:04,190] Trial 65 finished with value: 0.35825681014500393 and parameters: {'sum_decode_tokens': 2.595373945860579e-05, 'sum_prefill_tokens': 8.868594150743225e-06, 'max_prefill_tokens': -2.595963097852357e-06, 'num_prefills': 0.0016052857829075991, 'sum_decode_tokenss2': 4.2065441402445435e-08, 'sum_decode_tokensmsumprefill_tokens': -1.253186919493608e-07, 'sum_decode_tokensmmaxprefill_tokens': 1.9005720538593452e-07, 'sum_decode_tokensmnumprefills': 3.153058124632635e-05, 'sum_prefill_tokenss2': -9.471883573771135e-09, 'sum_prefill_tokensmmaxprefill_tokens': 2.3059913079082978e-08, 'sum_prefill_tokensmnumprefills': 5.527530248471066e-06, 'max_prefill_tokenss2': -8.789248998593249e-09, 'max_prefill_tokensmnumprefills': -1.203230967048104e-05, 'num_prefillss2': -0.0007685957463914432, 'intercept': 0.006899442613491309, 'schedule_time': 457.81144149236144, 'update_time': 95.84851271934691, 'queue_overhead': 1032.6988155655665, 'vllm_overhead': 5468.951047018021}. Best is trial 48 with value: 0.3258190796614659.\n",
      "[I 2025-07-14 13:58:05,559] Trial 66 finished with value: 0.35705023889469023 and parameters: {'sum_decode_tokens': 2.6832027249962652e-05, 'sum_prefill_tokens': 8.46486668515731e-06, 'max_prefill_tokens': -3.818846899336829e-06, 'num_prefills': 0.001474102195763704, 'sum_decode_tokenss2': 4.349777606303442e-08, 'sum_decode_tokensmsumprefill_tokens': -1.0174981364130208e-07, 'sum_decode_tokensmmaxprefill_tokens': 2.123271739506489e-07, 'sum_decode_tokensmnumprefills': 2.9789798028035224e-05, 'sum_prefill_tokenss2': -9.025237489083219e-09, 'sum_prefill_tokensmmaxprefill_tokens': 2.1925554606798287e-08, 'sum_prefill_tokensmnumprefills': 5.428212059330337e-06, 'max_prefill_tokenss2': -8.115685702399387e-09, 'max_prefill_tokensmnumprefills': -1.2994713771017935e-05, 'num_prefillss2': -0.0007170240216218618, 'intercept': 0.006737740020911115, 'schedule_time': 432.54798680786456, 'update_time': 98.40987326778547, 'queue_overhead': 1010.465885674413, 'vllm_overhead': 5865.804903967729}. Best is trial 48 with value: 0.3258190796614659.\n",
      "[I 2025-07-14 13:58:06,959] Trial 67 finished with value: 0.4042400124743021 and parameters: {'sum_decode_tokens': 2.7885851175759654e-05, 'sum_prefill_tokens': 8.638411014284232e-06, 'max_prefill_tokens': -3.0041952893497405e-06, 'num_prefills': 0.0017878502250075839, 'sum_decode_tokenss2': 4.296748896932543e-08, 'sum_decode_tokensmsumprefill_tokens': -1.305768909629272e-07, 'sum_decode_tokensmmaxprefill_tokens': 2.181129251685832e-07, 'sum_decode_tokensmnumprefills': 3.0695935537436626e-05, 'sum_prefill_tokenss2': -8.786050558033167e-09, 'sum_prefill_tokensmmaxprefill_tokens': 2.0399867623318355e-08, 'sum_prefill_tokensmnumprefills': 6.107978009151485e-06, 'max_prefill_tokenss2': -8.504631539730286e-09, 'max_prefill_tokensmnumprefills': -1.2768698742358931e-05, 'num_prefillss2': -0.000853481691780911, 'intercept': 0.0070282063652408735, 'schedule_time': 413.34534007439123, 'update_time': 97.09463555048477, 'queue_overhead': 1092.7051446744495, 'vllm_overhead': 5578.77180138686}. Best is trial 48 with value: 0.3258190796614659.\n",
      "[I 2025-07-14 13:58:08,348] Trial 68 finished with value: 0.4077448530258312 and parameters: {'sum_decode_tokens': 3.0362577966187315e-05, 'sum_prefill_tokens': 9.087380319163201e-06, 'max_prefill_tokens': -3.440426402165112e-06, 'num_prefills': 0.001715925663951024, 'sum_decode_tokenss2': 3.936336788149788e-08, 'sum_decode_tokensmsumprefill_tokens': -1.259114062289628e-07, 'sum_decode_tokensmmaxprefill_tokens': 2.2404310406878272e-07, 'sum_decode_tokensmnumprefills': 3.212101744888992e-05, 'sum_prefill_tokenss2': -6.0616351739560806e-09, 'sum_prefill_tokensmmaxprefill_tokens': 2.1073317384818273e-08, 'sum_prefill_tokensmnumprefills': 5.976196956723839e-06, 'max_prefill_tokenss2': -8.245511763664632e-09, 'max_prefill_tokensmnumprefills': -8.72905481077528e-06, 'num_prefillss2': -0.0007106585585837145, 'intercept': 0.006189768126213027, 'schedule_time': 497.2007100038688, 'update_time': 90.1787339785636, 'queue_overhead': 1042.3492074846174, 'vllm_overhead': 5290.989041857451}. Best is trial 48 with value: 0.3258190796614659.\n",
      "[I 2025-07-14 13:58:09,792] Trial 69 finished with value: 0.9649939000120759 and parameters: {'sum_decode_tokens': 2.7122529299954905e-05, 'sum_prefill_tokens': 8.214262406724416e-06, 'max_prefill_tokens': -2.6147328214263537e-06, 'num_prefills': 0.0015827863819299886, 'sum_decode_tokenss2': 4.117126438575328e-08, 'sum_decode_tokensmsumprefill_tokens': -1.035952533345069e-07, 'sum_decode_tokensmmaxprefill_tokens': 2.07157420930299e-07, 'sum_decode_tokensmnumprefills': 2.780851454856503e-05, 'sum_prefill_tokenss2': -9.076996301795625e-09, 'sum_prefill_tokensmmaxprefill_tokens': 2.2680831726273477e-08, 'sum_prefill_tokensmnumprefills': 5.653525435374131e-06, 'max_prefill_tokenss2': -9.02679297463377e-09, 'max_prefill_tokensmnumprefills': -1.2461833807335508e-05, 'num_prefillss2': -0.0008168220548310863, 'intercept': 0.004452347217652559, 'schedule_time': 426.8735497154798, 'update_time': 94.64227753846087, 'queue_overhead': 1063.0496051042167, 'vllm_overhead': 5731.552961630324}. Best is trial 48 with value: 0.3258190796614659.\n",
      "[I 2025-07-14 13:58:11,186] Trial 70 finished with value: 0.3284253978600607 and parameters: {'sum_decode_tokens': 2.6350179779255227e-05, 'sum_prefill_tokens': 8.940638802667107e-06, 'max_prefill_tokens': -3.635778465031446e-06, 'num_prefills': 0.0017479226354943822, 'sum_decode_tokenss2': 4.034457041390778e-08, 'sum_decode_tokensmsumprefill_tokens': -1.0010639756862274e-07, 'sum_decode_tokensmmaxprefill_tokens': 2.0076384716970804e-07, 'sum_decode_tokensmnumprefills': 3.0323329394348543e-05, 'sum_prefill_tokenss2': -9.186413452979274e-09, 'sum_prefill_tokensmmaxprefill_tokens': 2.036916857853119e-08, 'sum_prefill_tokensmnumprefills': 5.903796228400299e-06, 'max_prefill_tokenss2': -8.01968201792419e-09, 'max_prefill_tokensmnumprefills': -1.2179602782134079e-05, 'num_prefillss2': -0.0007403065137669406, 'intercept': 0.006682052824171944, 'schedule_time': 441.0271410066905, 'update_time': 91.9608619424986, 'queue_overhead': 979.0005251854416, 'vllm_overhead': 6002.117544922205}. Best is trial 48 with value: 0.3258190796614659.\n",
      "[I 2025-07-14 13:58:12,548] Trial 71 finished with value: 0.3248690982623274 and parameters: {'sum_decode_tokens': 2.6319746833228737e-05, 'sum_prefill_tokens': 8.888639733893344e-06, 'max_prefill_tokens': -3.6527367892614377e-06, 'num_prefills': 0.0017619154704135909, 'sum_decode_tokenss2': 4.2375895224537686e-08, 'sum_decode_tokensmsumprefill_tokens': -1.2246655156288526e-07, 'sum_decode_tokensmmaxprefill_tokens': 1.9602129133893253e-07, 'sum_decode_tokensmnumprefills': 3.1391031788525234e-05, 'sum_prefill_tokenss2': -9.630423248119073e-09, 'sum_prefill_tokensmmaxprefill_tokens': 2.0367385853541515e-08, 'sum_prefill_tokensmnumprefills': 5.889021685121055e-06, 'max_prefill_tokenss2': -8.238442814539653e-09, 'max_prefill_tokensmnumprefills': -1.2193143401644539e-05, 'num_prefillss2': -0.00073840590904797, 'intercept': 0.006818326946511927, 'schedule_time': 441.66334376514953, 'update_time': 92.34689947459559, 'queue_overhead': 982.1183504853274, 'vllm_overhead': 5952.316695714942}. Best is trial 71 with value: 0.3248690982623274.\n",
      "[I 2025-07-14 13:58:13,940] Trial 72 finished with value: 0.3142166469553589 and parameters: {'sum_decode_tokens': 2.6404465356659487e-05, 'sum_prefill_tokens': 8.858729337594044e-06, 'max_prefill_tokens': -3.668539502159692e-06, 'num_prefills': 0.0018430935357211802, 'sum_decode_tokenss2': 4.227600912280471e-08, 'sum_decode_tokensmsumprefill_tokens': -1.2654962609683013e-07, 'sum_decode_tokensmmaxprefill_tokens': 2.0106453237451554e-07, 'sum_decode_tokensmnumprefills': 3.1423498901030636e-05, 'sum_prefill_tokenss2': -9.643827564441115e-09, 'sum_prefill_tokensmmaxprefill_tokens': 2.029982619415943e-08, 'sum_prefill_tokensmnumprefills': 5.8737625798799845e-06, 'max_prefill_tokenss2': -8.237098444418765e-09, 'max_prefill_tokensmnumprefills': -1.2220912784116607e-05, 'num_prefillss2': -0.0007357419397652925, 'intercept': 0.006683343968437, 'schedule_time': 439.7942280701582, 'update_time': 91.60759718961467, 'queue_overhead': 968.6400903215554, 'vllm_overhead': 5979.090206186261}. Best is trial 72 with value: 0.3142166469553589.\n",
      "[I 2025-07-14 13:58:15,300] Trial 73 finished with value: 0.3323683985192502 and parameters: {'sum_decode_tokens': 2.634512016466449e-05, 'sum_prefill_tokens': 8.902346747642147e-06, 'max_prefill_tokens': -3.672654852023566e-06, 'num_prefills': 0.001815907241196548, 'sum_decode_tokenss2': 4.237852535154172e-08, 'sum_decode_tokensmsumprefill_tokens': -1.2252520079841895e-07, 'sum_decode_tokensmmaxprefill_tokens': 1.9782472470786235e-07, 'sum_decode_tokensmnumprefills': 3.134756516483667e-05, 'sum_prefill_tokenss2': -9.601924803166034e-09, 'sum_prefill_tokensmmaxprefill_tokens': 2.0191926326171817e-08, 'sum_prefill_tokensmnumprefills': 6.00240220979141e-06, 'max_prefill_tokenss2': -8.03157218757785e-09, 'max_prefill_tokensmnumprefills': -1.1958628689080646e-05, 'num_prefillss2': -0.0007353746894001201, 'intercept': 0.006816112422537298, 'schedule_time': 454.67347657559935, 'update_time': 86.43281425911928, 'queue_overhead': 981.016898671272, 'vllm_overhead': 5952.444862247872}. Best is trial 72 with value: 0.3142166469553589.\n",
      "[I 2025-07-14 13:58:16,622] Trial 74 finished with value: 0.33654298623971574 and parameters: {'sum_decode_tokens': 2.6356794945860047e-05, 'sum_prefill_tokens': 9.720958743087265e-06, 'max_prefill_tokens': -3.658495706274066e-06, 'num_prefills': 0.0018503565467564436, 'sum_decode_tokenss2': 4.237966204233588e-08, 'sum_decode_tokensmsumprefill_tokens': -1.2229369232403552e-07, 'sum_decode_tokensmmaxprefill_tokens': 1.9676936735997647e-07, 'sum_decode_tokensmnumprefills': 3.143158515447331e-05, 'sum_prefill_tokenss2': -9.63000741459785e-09, 'sum_prefill_tokensmmaxprefill_tokens': 2.027241417412962e-08, 'sum_prefill_tokensmnumprefills': 5.905166908990157e-06, 'max_prefill_tokenss2': -8.213421874003392e-09, 'max_prefill_tokensmnumprefills': -1.1886746685739043e-05, 'num_prefillss2': -0.0007362544653158057, 'intercept': 0.00678103763358329, 'schedule_time': 408.4339275346408, 'update_time': 89.51851610006852, 'queue_overhead': 977.9327478238686, 'vllm_overhead': 5966.1287078537725}. Best is trial 72 with value: 0.3142166469553589.\n",
      "[I 2025-07-14 13:58:17,977] Trial 75 finished with value: 0.3396015734688067 and parameters: {'sum_decode_tokens': 2.6369646431666887e-05, 'sum_prefill_tokens': 9.75917652567384e-06, 'max_prefill_tokens': -3.6609508408008753e-06, 'num_prefills': 0.0018357888197309176, 'sum_decode_tokenss2': 4.2374737164070844e-08, 'sum_decode_tokensmsumprefill_tokens': -1.2330290837576598e-07, 'sum_decode_tokensmmaxprefill_tokens': 1.9963164487300417e-07, 'sum_decode_tokensmnumprefills': 3.1404145242025525e-05, 'sum_prefill_tokenss2': -9.637228283735638e-09, 'sum_prefill_tokensmmaxprefill_tokens': 2.0333877763124893e-08, 'sum_prefill_tokensmnumprefills': 5.906384458806099e-06, 'max_prefill_tokenss2': -8.229365351724867e-09, 'max_prefill_tokensmnumprefills': -1.1845619523734386e-05, 'num_prefillss2': -0.0007364395066385522, 'intercept': 0.006826705336535579, 'schedule_time': 409.62091738000066, 'update_time': 89.46810754907757, 'queue_overhead': 973.8742926127421, 'vllm_overhead': 5978.6530950416345}. Best is trial 72 with value: 0.3142166469553589.\n",
      "[I 2025-07-14 13:58:19,339] Trial 76 finished with value: 0.3214524959767706 and parameters: {'sum_decode_tokens': 2.590307155001387e-05, 'sum_prefill_tokens': 9.536448424852665e-06, 'max_prefill_tokens': -3.6835315174155203e-06, 'num_prefills': 0.0018051786583521778, 'sum_decode_tokenss2': 4.1704869965581035e-08, 'sum_decode_tokensmsumprefill_tokens': -1.267936503116182e-07, 'sum_decode_tokensmmaxprefill_tokens': 1.9573547319564536e-07, 'sum_decode_tokensmnumprefills': 3.1900397675282315e-05, 'sum_prefill_tokenss2': -9.193708496083501e-09, 'sum_prefill_tokensmmaxprefill_tokens': 2.1264235036316537e-08, 'sum_prefill_tokensmnumprefills': 6.14221432824247e-06, 'max_prefill_tokenss2': -8.478292435685591e-09, 'max_prefill_tokensmnumprefills': -1.204233275894028e-05, 'num_prefillss2': -0.000739874351174774, 'intercept': 0.006681721080924175, 'schedule_time': 424.04643043228197, 'update_time': 86.82745007724182, 'queue_overhead': 951.0738808514056, 'vllm_overhead': 5892.398635413211}. Best is trial 72 with value: 0.3142166469553589.\n",
      "[I 2025-07-14 13:58:20,690] Trial 77 finished with value: 0.33933745327613507 and parameters: {'sum_decode_tokens': 2.6032152577345138e-05, 'sum_prefill_tokens': 9.553159371272764e-06, 'max_prefill_tokens': -3.6924355504389295e-06, 'num_prefills': 0.0018540198529600244, 'sum_decode_tokenss2': 4.1552899773329413e-08, 'sum_decode_tokensmsumprefill_tokens': -1.2764087247441821e-07, 'sum_decode_tokensmmaxprefill_tokens': 1.9549046844908286e-07, 'sum_decode_tokensmnumprefills': 3.1876190134548816e-05, 'sum_prefill_tokenss2': -9.216803231944803e-09, 'sum_prefill_tokensmmaxprefill_tokens': 2.1339931957681366e-08, 'sum_prefill_tokensmnumprefills': 6.271501469610471e-06, 'max_prefill_tokenss2': -8.425298014223174e-09, 'max_prefill_tokensmnumprefills': -1.1630713636067509e-05, 'num_prefillss2': -0.0007322873289374832, 'intercept': 0.006680515561419118, 'schedule_time': 452.73598531055967, 'update_time': 85.80167491363268, 'queue_overhead': 943.5198223932598, 'vllm_overhead': 5899.972919358031}. Best is trial 72 with value: 0.3142166469553589.\n",
      "[I 2025-07-14 13:58:22,040] Trial 78 finished with value: 0.41143661853339986 and parameters: {'sum_decode_tokens': 2.653255022082469e-05, 'sum_prefill_tokens': 9.659894293792254e-06, 'max_prefill_tokens': -3.5909739011100047e-06, 'num_prefills': 0.0018135168561753978, 'sum_decode_tokenss2': 4.048199338711152e-08, 'sum_decode_tokensmsumprefill_tokens': -1.2196207308288966e-07, 'sum_decode_tokensmmaxprefill_tokens': 2.011596497500686e-07, 'sum_decode_tokensmnumprefills': 3.241008345246433e-05, 'sum_prefill_tokenss2': -9.625928082594796e-09, 'sum_prefill_tokensmmaxprefill_tokens': 2.1549697079578342e-08, 'sum_prefill_tokensmnumprefills': 6.137821902280981e-06, 'max_prefill_tokenss2': -8.22331094873633e-09, 'max_prefill_tokensmnumprefills': -1.1388311198633616e-05, 'num_prefillss2': -0.0007034346495992742, 'intercept': 0.006723340222716122, 'schedule_time': 417.5728613185764, 'update_time': 86.74344630063109, 'queue_overhead': 983.2476585353602, 'vllm_overhead': 5953.757674488596}. Best is trial 72 with value: 0.3142166469553589.\n",
      "[I 2025-07-14 13:58:23,419] Trial 79 finished with value: 0.36591931691275237 and parameters: {'sum_decode_tokens': 2.590581462125286e-05, 'sum_prefill_tokens': 1.031229485612875e-05, 'max_prefill_tokens': -3.5414177314514378e-06, 'num_prefills': 0.0018082135443753297, 'sum_decode_tokenss2': 4.4898284825577855e-08, 'sum_decode_tokensmsumprefill_tokens': -1.313713194813129e-07, 'sum_decode_tokensmmaxprefill_tokens': 1.9703779435681016e-07, 'sum_decode_tokensmnumprefills': 3.181560035441348e-05, 'sum_prefill_tokenss2': -9.194549156920454e-09, 'sum_prefill_tokensmmaxprefill_tokens': 2.0517741624745514e-08, 'sum_prefill_tokensmnumprefills': 6.7081207829747075e-06, 'max_prefill_tokenss2': -8.409428436382216e-09, 'max_prefill_tokensmnumprefills': -1.2083590699238591e-05, 'num_prefillss2': -0.000768126529952894, 'intercept': 0.006853333041303101, 'schedule_time': 463.3469690625171, 'update_time': 91.88861615967743, 'queue_overhead': 958.0670502918836, 'vllm_overhead': 6280.45210820291}. Best is trial 72 with value: 0.3142166469553589.\n",
      "[I 2025-07-14 13:58:24,746] Trial 80 finished with value: 0.3521510285201359 and parameters: {'sum_decode_tokens': 2.7179848131698053e-05, 'sum_prefill_tokens': 9.86243522942203e-06, 'max_prefill_tokens': -3.6513895242159265e-06, 'num_prefills': 0.0017510684773930293, 'sum_decode_tokenss2': 4.190623526549933e-08, 'sum_decode_tokensmsumprefill_tokens': -1.262233115818092e-07, 'sum_decode_tokensmmaxprefill_tokens': 1.8271807435033567e-07, 'sum_decode_tokensmnumprefills': 3.045367248817605e-05, 'sum_prefill_tokenss2': -8.612515302973832e-09, 'sum_prefill_tokensmmaxprefill_tokens': 2.1061847586578185e-08, 'sum_prefill_tokensmnumprefills': 6.3523873535255066e-06, 'max_prefill_tokenss2': -8.191502506467216e-09, 'max_prefill_tokensmnumprefills': -1.1951226280551457e-05, 'num_prefillss2': -0.0007849210553365163, 'intercept': 0.006795417254088544, 'schedule_time': 432.2622154633326, 'update_time': 87.5085815291433, 'queue_overhead': 931.4112657660955, 'vllm_overhead': 6158.067183824133}. Best is trial 72 with value: 0.3142166469553589.\n",
      "[I 2025-07-14 13:58:26,138] Trial 81 finished with value: 0.3077283617096106 and parameters: {'sum_decode_tokens': 2.5871260893507756e-05, 'sum_prefill_tokens': 8.8892383797392e-06, 'max_prefill_tokens': -3.750817962804433e-06, 'num_prefills': 0.0018569817748277043, 'sum_decode_tokenss2': 4.2325558551240694e-08, 'sum_decode_tokensmsumprefill_tokens': -1.2419075671505112e-07, 'sum_decode_tokensmmaxprefill_tokens': 1.915674024113885e-07, 'sum_decode_tokensmnumprefills': 3.0949970871440525e-05, 'sum_prefill_tokenss2': -9.394153084589263e-09, 'sum_prefill_tokensmmaxprefill_tokens': 2.0042877142223625e-08, 'sum_prefill_tokensmnumprefills': 6.014969099030909e-06, 'max_prefill_tokenss2': -8.624322748136855e-09, 'max_prefill_tokensmnumprefills': -1.1707497400698007e-05, 'num_prefillss2': -0.0007339480068233091, 'intercept': 0.006563045223502677, 'schedule_time': 424.18272294078895, 'update_time': 89.39658867406531, 'queue_overhead': 1000.6670912333483, 'vllm_overhead': 5839.363244464455}. Best is trial 81 with value: 0.3077283617096106.\n",
      "[I 2025-07-14 13:58:27,521] Trial 82 finished with value: 0.6136449790495001 and parameters: {'sum_decode_tokens': 2.593816208988839e-05, 'sum_prefill_tokens': 8.8602405435499e-06, 'max_prefill_tokens': -3.7665079981786078e-06, 'num_prefills': 0.0018500489656982605, 'sum_decode_tokenss2': 4.2433385786419885e-08, 'sum_decode_tokensmsumprefill_tokens': -1.290808340467149e-07, 'sum_decode_tokensmmaxprefill_tokens': 1.913234462263816e-07, 'sum_decode_tokensmnumprefills': 3.0924969114701314e-05, 'sum_prefill_tokenss2': -9.535706394541024e-09, 'sum_prefill_tokensmmaxprefill_tokens': 2.0053489903715758e-08, 'sum_prefill_tokensmnumprefills': 5.98319246618531e-06, 'max_prefill_tokenss2': -8.054996227830304e-09, 'max_prefill_tokensmnumprefills': -1.1693314914924461e-05, 'num_prefillss2': -0.0010710869049845293, 'intercept': 0.006550472384044586, 'schedule_time': 423.62819967549086, 'update_time': 89.47226105280463, 'queue_overhead': 1004.8112058291207, 'vllm_overhead': 5991.8655774021945}. Best is trial 81 with value: 0.3077283617096106.\n",
      "[I 2025-07-14 13:58:28,898] Trial 83 finished with value: 0.3540899448660826 and parameters: {'sum_decode_tokens': 2.6527488750626544e-05, 'sum_prefill_tokens': 9.258169067923408e-06, 'max_prefill_tokens': -3.7104977790855613e-06, 'num_prefills': 0.0018639244450672763, 'sum_decode_tokenss2': 4.099042083733038e-08, 'sum_decode_tokensmsumprefill_tokens': -1.2413133296349008e-07, 'sum_decode_tokensmmaxprefill_tokens': 1.9883272997084472e-07, 'sum_decode_tokensmnumprefills': 3.1496811023157064e-05, 'sum_prefill_tokenss2': -9.115693830391711e-09, 'sum_prefill_tokensmmaxprefill_tokens': 2.0597003181980555e-08, 'sum_prefill_tokensmnumprefills': 6.437828266969519e-06, 'max_prefill_tokenss2': -8.795930036352072e-09, 'max_prefill_tokensmnumprefills': -1.125022122537043e-05, 'num_prefillss2': -0.0007311188178417893, 'intercept': 0.006687019465294329, 'schedule_time': 408.6410377309685, 'update_time': 84.80536403945192, 'queue_overhead': 963.5194505417506, 'vllm_overhead': 5849.305553653637}. Best is trial 81 with value: 0.3077283617096106.\n",
      "[I 2025-07-14 13:58:30,251] Trial 84 finished with value: 0.3073636954975537 and parameters: {'sum_decode_tokens': 2.5672666739428968e-05, 'sum_prefill_tokens': 9.467106224207621e-06, 'max_prefill_tokens': -3.824644418769496e-06, 'num_prefills': 0.0018248565047254454, 'sum_decode_tokenss2': 4.153601793488205e-08, 'sum_decode_tokensmsumprefill_tokens': -1.3336813307123424e-07, 'sum_decode_tokensmmaxprefill_tokens': 1.8456363488534343e-07, 'sum_decode_tokensmnumprefills': 3.20685058410589e-05, 'sum_prefill_tokenss2': -8.958804088459174e-09, 'sum_prefill_tokensmmaxprefill_tokens': 2.1787542222619908e-08, 'sum_prefill_tokensmnumprefills': 6.210504056323946e-06, 'max_prefill_tokenss2': -8.316746242392017e-09, 'max_prefill_tokensmnumprefills': -1.1795463469181193e-05, 'num_prefillss2': -0.0007390334435185887, 'intercept': 0.006425529823756659, 'schedule_time': 472.19483158142106, 'update_time': 82.02930516692336, 'queue_overhead': 982.7984540643175, 'vllm_overhead': 7480.07403441408}. Best is trial 84 with value: 0.3073636954975537.\n",
      "[I 2025-07-14 13:58:31,641] Trial 85 finished with value: 0.3196844675808321 and parameters: {'sum_decode_tokens': 2.8317301479777276e-05, 'sum_prefill_tokens': 9.04627058397348e-06, 'max_prefill_tokens': -3.865628105778169e-06, 'num_prefills': 0.0018110172816140574, 'sum_decode_tokenss2': 3.97836608285749e-08, 'sum_decode_tokensmsumprefill_tokens': -1.3328779073687724e-07, 'sum_decode_tokensmmaxprefill_tokens': 1.760895102776391e-07, 'sum_decode_tokensmnumprefills': 3.210010111459614e-05, 'sum_prefill_tokenss2': -9.651241369286955e-09, 'sum_prefill_tokensmmaxprefill_tokens': 2.166763050562721e-08, 'sum_prefill_tokensmnumprefills': 6.207754619336238e-06, 'max_prefill_tokenss2': -8.269734414432059e-09, 'max_prefill_tokensmnumprefills': -1.0968197814913764e-05, 'num_prefillss2': -0.0007256897846171272, 'intercept': 0.006419745835128525, 'schedule_time': 473.2627618649421, 'update_time': 82.01151687507473, 'queue_overhead': 981.1928318537182, 'vllm_overhead': 7257.034466586687}. Best is trial 84 with value: 0.3073636954975537.\n",
      "[I 2025-07-14 13:58:33,022] Trial 86 finished with value: 0.3273554331095856 and parameters: {'sum_decode_tokens': 2.5773495263381164e-05, 'sum_prefill_tokens': 9.006046130668807e-06, 'max_prefill_tokens': -3.884653799151675e-06, 'num_prefills': 0.001824162189267488, 'sum_decode_tokenss2': 4.012061781400216e-08, 'sum_decode_tokensmsumprefill_tokens': -1.3341722447573844e-07, 'sum_decode_tokensmmaxprefill_tokens': 1.7448120060366333e-07, 'sum_decode_tokensmnumprefills': 3.213185685521358e-05, 'sum_prefill_tokenss2': -9.395863939864509e-09, 'sum_prefill_tokensmmaxprefill_tokens': 2.161255811968771e-08, 'sum_prefill_tokensmnumprefills': 6.179495112143124e-06, 'max_prefill_tokenss2': -8.59789525894743e-09, 'max_prefill_tokensmnumprefills': -1.0989311600092187e-05, 'num_prefillss2': -0.0007183295343944189, 'intercept': 0.006654191613497923, 'schedule_time': 474.1217804182399, 'update_time': 82.40554333498957, 'queue_overhead': 998.2505503775508, 'vllm_overhead': 7429.095798819562}. Best is trial 84 with value: 0.3073636954975537.\n",
      "[I 2025-07-14 13:58:34,376] Trial 87 finished with value: 0.3047472051853379 and parameters: {'sum_decode_tokens': 2.5661406431377106e-05, 'sum_prefill_tokens': 9.034883316118387e-06, 'max_prefill_tokens': -3.8356970405625305e-06, 'num_prefills': 0.0018290259712377052, 'sum_decode_tokenss2': 3.9921783973524016e-08, 'sum_decode_tokensmsumprefill_tokens': -1.3342162604875488e-07, 'sum_decode_tokensmmaxprefill_tokens': 1.7390660822447017e-07, 'sum_decode_tokensmnumprefills': 3.2060346936904425e-05, 'sum_prefill_tokenss2': -8.828741588196116e-09, 'sum_prefill_tokensmmaxprefill_tokens': 2.172866238552169e-08, 'sum_prefill_tokensmnumprefills': 6.204769801590324e-06, 'max_prefill_tokenss2': -8.625970958815678e-09, 'max_prefill_tokensmnumprefills': -1.097275352526533e-05, 'num_prefillss2': -0.0007043129137420051, 'intercept': 0.006409198556463764, 'schedule_time': 475.20624944248743, 'update_time': 80.9766718084956, 'queue_overhead': 995.9346262829126, 'vllm_overhead': 7393.4150605319865}. Best is trial 87 with value: 0.3047472051853379.\n",
      "[I 2025-07-14 13:58:35,798] Trial 88 finished with value: 0.3153888131358387 and parameters: {'sum_decode_tokens': 2.5670795193719963e-05, 'sum_prefill_tokens': 9.528203791200113e-06, 'max_prefill_tokens': -3.880025101552284e-06, 'num_prefills': 0.0018305643749176553, 'sum_decode_tokenss2': 3.9921643092021944e-08, 'sum_decode_tokensmsumprefill_tokens': -1.3162859213172302e-07, 'sum_decode_tokensmmaxprefill_tokens': 1.7672995477467263e-07, 'sum_decode_tokensmnumprefills': 3.208390045904498e-05, 'sum_prefill_tokenss2': -8.842006298498559e-09, 'sum_prefill_tokensmmaxprefill_tokens': 2.1737073130965863e-08, 'sum_prefill_tokensmnumprefills': 6.224195121635464e-06, 'max_prefill_tokenss2': -8.602710566961344e-09, 'max_prefill_tokensmnumprefills': -1.0891458442630523e-05, 'num_prefillss2': -0.0007002591636892918, 'intercept': 0.006399782825813738, 'schedule_time': 480.5433881498381, 'update_time': 81.43819784473543, 'queue_overhead': 954.8547119804235, 'vllm_overhead': 7482.783420271528}. Best is trial 87 with value: 0.3047472051853379.\n",
      "[I 2025-07-14 13:58:37,209] Trial 89 finished with value: 0.30073771901009133 and parameters: {'sum_decode_tokens': 2.560773943104653e-05, 'sum_prefill_tokens': 9.537572266132079e-06, 'max_prefill_tokens': -3.827440601602917e-06, 'num_prefills': 0.0017947884070748296, 'sum_decode_tokenss2': 4.143689553921007e-08, 'sum_decode_tokensmsumprefill_tokens': -1.3065904533455497e-07, 'sum_decode_tokensmmaxprefill_tokens': 1.6692922818711493e-07, 'sum_decode_tokensmnumprefills': 3.19214390518261e-05, 'sum_prefill_tokenss2': -8.47772021801591e-09, 'sum_prefill_tokensmmaxprefill_tokens': 2.34398795510976e-08, 'sum_prefill_tokensmnumprefills': 6.2428932597907055e-06, 'max_prefill_tokenss2': -8.70981773285904e-09, 'max_prefill_tokensmnumprefills': -1.0714494320795808e-05, 'num_prefillss2': -0.0007020461348546141, 'intercept': 0.006266843404358914, 'schedule_time': 524.0816103966373, 'update_time': 79.87549261170815, 'queue_overhead': 954.2067765670907, 'vllm_overhead': 7481.737022477884}. Best is trial 89 with value: 0.30073771901009133.\n",
      "[I 2025-07-14 13:58:38,603] Trial 90 finished with value: 0.31364778266602333 and parameters: {'sum_decode_tokens': 2.8062709826560516e-05, 'sum_prefill_tokens': 9.471414496475908e-06, 'max_prefill_tokens': -3.827987609317407e-06, 'num_prefills': 0.0018010123172872393, 'sum_decode_tokenss2': 3.8200696173401615e-08, 'sum_decode_tokensmsumprefill_tokens': -1.3167257677638194e-07, 'sum_decode_tokensmmaxprefill_tokens': 1.6857165332501694e-07, 'sum_decode_tokensmnumprefills': 3.19316903312016e-05, 'sum_prefill_tokenss2': -8.459842872829366e-09, 'sum_prefill_tokensmmaxprefill_tokens': 2.3551867601677362e-08, 'sum_prefill_tokensmnumprefills': 6.231017413314684e-06, 'max_prefill_tokenss2': -8.68947758520489e-09, 'max_prefill_tokensmnumprefills': -1.0726436872856764e-05, 'num_prefillss2': -0.0006998393293308488, 'intercept': 0.006279999759124495, 'schedule_time': 506.30191309770447, 'update_time': 79.78210629431223, 'queue_overhead': 919.8853617702414, 'vllm_overhead': 7478.027171677322}. Best is trial 89 with value: 0.30073771901009133.\n",
      "[I 2025-07-14 13:58:39,999] Trial 91 finished with value: 0.3097939335576548 and parameters: {'sum_decode_tokens': 2.8280165369818906e-05, 'sum_prefill_tokens': 9.459607608678293e-06, 'max_prefill_tokens': -3.82458490630952e-06, 'num_prefills': 0.001797862913883154, 'sum_decode_tokenss2': 3.969764116536362e-08, 'sum_decode_tokensmsumprefill_tokens': -1.318157522225207e-07, 'sum_decode_tokensmmaxprefill_tokens': 1.6750215052872035e-07, 'sum_decode_tokensmnumprefills': 3.191235870836526e-05, 'sum_prefill_tokenss2': -8.409961277871803e-09, 'sum_prefill_tokensmmaxprefill_tokens': 2.3484961621500693e-08, 'sum_prefill_tokensmnumprefills': 6.2757846160133e-06, 'max_prefill_tokenss2': -8.728338993172288e-09, 'max_prefill_tokensmnumprefills': -1.0767334380751766e-05, 'num_prefillss2': -0.0007033957328631626, 'intercept': 0.006245624338885896, 'schedule_time': 503.76017912722034, 'update_time': 79.58376006409335, 'queue_overhead': 916.2857281277714, 'vllm_overhead': 7495.54549050769}. Best is trial 89 with value: 0.30073771901009133.\n",
      "[I 2025-07-14 13:58:41,358] Trial 92 finished with value: 0.3374680527353283 and parameters: {'sum_decode_tokens': 2.8141847458879676e-05, 'sum_prefill_tokens': 9.989659841906041e-06, 'max_prefill_tokens': -3.8295436631039056e-06, 'num_prefills': 0.001795948564219974, 'sum_decode_tokenss2': 3.8086049523985507e-08, 'sum_decode_tokensmsumprefill_tokens': -1.3203440699550066e-07, 'sum_decode_tokensmmaxprefill_tokens': 1.673576237062121e-07, 'sum_decode_tokensmnumprefills': 3.1938800609846896e-05, 'sum_prefill_tokenss2': -8.460319201232678e-09, 'sum_prefill_tokensmmaxprefill_tokens': 2.3876757851936217e-08, 'sum_prefill_tokensmnumprefills': 6.264919275667069e-06, 'max_prefill_tokenss2': -8.728970901966229e-09, 'max_prefill_tokensmnumprefills': -1.0648152841289121e-05, 'num_prefillss2': -0.0007029152969542635, 'intercept': 0.006401640210249276, 'schedule_time': 503.9368739854938, 'update_time': 79.28458087181427, 'queue_overhead': 924.5834577532715, 'vllm_overhead': 7486.665475737256}. Best is trial 89 with value: 0.30073771901009133.\n",
      "[I 2025-07-14 13:58:42,685] Trial 93 finished with value: 0.38196646057603556 and parameters: {'sum_decode_tokens': 2.7007138182004627e-05, 'sum_prefill_tokens': 9.472308561468245e-06, 'max_prefill_tokens': -3.831063234985988e-06, 'num_prefills': 0.001833750310426061, 'sum_decode_tokenss2': 3.9715924108792096e-08, 'sum_decode_tokensmsumprefill_tokens': -1.3063804709179756e-07, 'sum_decode_tokensmmaxprefill_tokens': 1.6064946263208376e-07, 'sum_decode_tokensmnumprefills': 3.2530839036357877e-05, 'sum_prefill_tokenss2': -8.547483163341194e-09, 'sum_prefill_tokensmmaxprefill_tokens': 2.4360099719677027e-08, 'sum_prefill_tokensmnumprefills': 6.5000429775216604e-06, 'max_prefill_tokenss2': -8.889330218039422e-09, 'max_prefill_tokensmnumprefills': -1.032435925223766e-05, 'num_prefillss2': -0.0006902047234598984, 'intercept': 0.006269956883984326, 'schedule_time': 537.6128197202627, 'update_time': 80.80074173373107, 'queue_overhead': 948.0108441816932, 'vllm_overhead': 7366.661735103282}. Best is trial 89 with value: 0.30073771901009133.\n",
      "[I 2025-07-14 13:58:44,080] Trial 94 finished with value: 0.33706291807705957 and parameters: {'sum_decode_tokens': 2.735396262164998e-05, 'sum_prefill_tokens': 9.338163832667503e-06, 'max_prefill_tokens': -3.7944595481588454e-06, 'num_prefills': 0.001875443095309172, 'sum_decode_tokenss2': 3.683817528068718e-08, 'sum_decode_tokensmsumprefill_tokens': -1.2974564077705632e-07, 'sum_decode_tokensmmaxprefill_tokens': 1.7019788106018316e-07, 'sum_decode_tokensmnumprefills': 3.199648233282642e-05, 'sum_prefill_tokenss2': -8.758636579436352e-09, 'sum_prefill_tokensmmaxprefill_tokens': 2.491531799905053e-08, 'sum_prefill_tokensmnumprefills': 6.447763019677866e-06, 'max_prefill_tokenss2': -8.618574390086885e-09, 'max_prefill_tokensmnumprefills': -1.0779130691976531e-05, 'num_prefillss2': -0.0007059659626866184, 'intercept': 0.006262359010041003, 'schedule_time': 525.9908090594977, 'update_time': 77.47612826378993, 'queue_overhead': 955.4917696050272, 'vllm_overhead': 7193.358241962158}. Best is trial 89 with value: 0.30073771901009133.\n",
      "[I 2025-07-14 13:58:45,457] Trial 95 finished with value: 0.30339026377690503 and parameters: {'sum_decode_tokens': 2.8235565533369273e-05, 'sum_prefill_tokens': 9.521858381683508e-06, 'max_prefill_tokens': -3.743118514191934e-06, 'num_prefills': 0.0017973703907723133, 'sum_decode_tokenss2': 3.829042305693335e-08, 'sum_decode_tokensmsumprefill_tokens': -1.334348976298803e-07, 'sum_decode_tokensmmaxprefill_tokens': 1.7685187706132905e-07, 'sum_decode_tokensmnumprefills': 3.167017821860682e-05, 'sum_prefill_tokenss2': -8.168746743285244e-09, 'sum_prefill_tokensmmaxprefill_tokens': 2.318752687376733e-08, 'sum_prefill_tokensmnumprefills': 6.677047882247551e-06, 'max_prefill_tokenss2': -9.073987422771897e-09, 'max_prefill_tokensmnumprefills': -1.1114654614338732e-05, 'num_prefillss2': -0.0007014607425059231, 'intercept': 0.006102857174044457, 'schedule_time': 486.1375292835514, 'update_time': 81.40027450198119, 'queue_overhead': 915.2824149463021, 'vllm_overhead': 7289.958849468796}. Best is trial 89 with value: 0.30073771901009133.\n",
      "[I 2025-07-14 13:58:46,839] Trial 96 finished with value: 0.35541489185206593 and parameters: {'sum_decode_tokens': 2.8154964710641854e-05, 'sum_prefill_tokens': 9.953223194373163e-06, 'max_prefill_tokens': -3.7563610312175667e-06, 'num_prefills': 0.0018364825662932052, 'sum_decode_tokenss2': 3.835754904943407e-08, 'sum_decode_tokensmsumprefill_tokens': -1.3354246472995257e-07, 'sum_decode_tokensmmaxprefill_tokens': 1.7709023143704502e-07, 'sum_decode_tokensmnumprefills': 3.1683946297391854e-05, 'sum_prefill_tokenss2': -8.103980273603101e-09, 'sum_prefill_tokensmmaxprefill_tokens': 2.3011758413554324e-08, 'sum_prefill_tokensmnumprefills': 7.014810644102271e-06, 'max_prefill_tokenss2': -9.015448104938383e-09, 'max_prefill_tokensmnumprefills': -1.0158652820180909e-05, 'num_prefillss2': -0.0007006094721882309, 'intercept': 0.006068269840351866, 'schedule_time': 523.0839332238975, 'update_time': 81.24795533769348, 'queue_overhead': 912.2542517470044, 'vllm_overhead': 7046.355617203501}. Best is trial 89 with value: 0.30073771901009133.\n",
      "[I 2025-07-14 13:58:48,155] Trial 97 finished with value: 0.2967295873585531 and parameters: {'sum_decode_tokens': 2.6767467478073975e-05, 'sum_prefill_tokens': 9.272955223448104e-06, 'max_prefill_tokens': -3.848575363650911e-06, 'num_prefills': 0.0018614051384372317, 'sum_decode_tokenss2': 3.942817936261217e-08, 'sum_decode_tokensmsumprefill_tokens': -1.3180926543393788e-07, 'sum_decode_tokensmmaxprefill_tokens': 1.7288418105282142e-07, 'sum_decode_tokensmnumprefills': 3.2255771395990245e-05, 'sum_prefill_tokenss2': -8.379510816958161e-09, 'sum_prefill_tokensmmaxprefill_tokens': 2.3349343903126635e-08, 'sum_prefill_tokensmnumprefills': 6.6359197759790216e-06, 'max_prefill_tokenss2': -9.202985053100423e-09, 'max_prefill_tokensmnumprefills': -1.1093847048583478e-05, 'num_prefillss2': -0.0007236057043910465, 'intercept': 0.005900491604217366, 'schedule_time': 480.9439102502282, 'update_time': 79.5862241786455, 'queue_overhead': 932.4663781783416, 'vllm_overhead': 7307.619423886293}. Best is trial 97 with value: 0.2967295873585531.\n",
      "[I 2025-07-14 13:58:49,501] Trial 98 finished with value: 0.29415470051199405 and parameters: {'sum_decode_tokens': 2.6758023136891742e-05, 'sum_prefill_tokens': 9.643532949494179e-06, 'max_prefill_tokens': -3.730431939188947e-06, 'num_prefills': 0.0017312221397174647, 'sum_decode_tokenss2': 3.742892671220979e-08, 'sum_decode_tokensmsumprefill_tokens': -1.3153804633086502e-07, 'sum_decode_tokensmmaxprefill_tokens': 1.7161533063354276e-07, 'sum_decode_tokensmnumprefills': 3.2540995232806116e-05, 'sum_prefill_tokenss2': -8.216806277138048e-09, 'sum_prefill_tokensmmaxprefill_tokens': 2.3477927791302358e-08, 'sum_prefill_tokensmnumprefills': 6.660294065492269e-06, 'max_prefill_tokenss2': -9.206507370726549e-09, 'max_prefill_tokensmnumprefills': -1.1093006372074044e-05, 'num_prefillss2': -0.0006905157939234758, 'intercept': 0.005963778128899133, 'schedule_time': 482.59631424972446, 'update_time': 79.42343619289996, 'queue_overhead': 917.8670116797571, 'vllm_overhead': 7351.820211703291}. Best is trial 98 with value: 0.29415470051199405.\n",
      "[I 2025-07-14 13:58:50,921] Trial 99 finished with value: 0.31992908190027664 and parameters: {'sum_decode_tokens': 2.68140785377324e-05, 'sum_prefill_tokens': 9.287913324397583e-06, 'max_prefill_tokens': -3.7369127625667697e-06, 'num_prefills': 0.0018598330439595623, 'sum_decode_tokenss2': 3.639618997430574e-08, 'sum_decode_tokensmsumprefill_tokens': -1.3051395027374281e-07, 'sum_decode_tokensmmaxprefill_tokens': 1.7205534691120448e-07, 'sum_decode_tokensmnumprefills': 3.2339283624029105e-05, 'sum_prefill_tokenss2': -8.20433225789545e-09, 'sum_prefill_tokensmmaxprefill_tokens': 2.3570724172338105e-08, 'sum_prefill_tokensmnumprefills': 6.67415594055493e-06, 'max_prefill_tokenss2': -9.154478505186079e-09, 'max_prefill_tokensmnumprefills': -1.0558760259273653e-05, 'num_prefillss2': -0.0006909791644254133, 'intercept': 0.005977514264500944, 'schedule_time': 505.8130787608279, 'update_time': 74.30357239414683, 'queue_overhead': 935.8214965335716, 'vllm_overhead': 7355.938171342739}. Best is trial 98 with value: 0.29415470051199405.\n",
      "[I 2025-07-14 13:58:52,302] Trial 100 finished with value: 0.3087505663600723 and parameters: {'sum_decode_tokens': 2.6774521390118568e-05, 'sum_prefill_tokens': 9.410124298987427e-06, 'max_prefill_tokens': -3.8027932594158682e-06, 'num_prefills': 0.0017952457247842402, 'sum_decode_tokenss2': 3.751782673334838e-08, 'sum_decode_tokensmsumprefill_tokens': -1.2861467670497677e-07, 'sum_decode_tokensmmaxprefill_tokens': 1.6284005208649418e-07, 'sum_decode_tokensmnumprefills': 3.11124287382837e-05, 'sum_prefill_tokenss2': -8.407008632288773e-09, 'sum_prefill_tokensmmaxprefill_tokens': 2.464984647398946e-08, 'sum_prefill_tokensmnumprefills': 6.581947011292787e-06, 'max_prefill_tokenss2': -9.575279688823213e-09, 'max_prefill_tokensmnumprefills': -1.1167190973823654e-05, 'num_prefillss2': -0.0007106659681317744, 'intercept': 0.005781527556438256, 'schedule_time': 488.1785903655027, 'update_time': 79.73192235755226, 'queue_overhead': 889.0262293972111, 'vllm_overhead': 7072.598126831887}. Best is trial 98 with value: 0.29415470051199405.\n",
      "[I 2025-07-14 13:58:53,667] Trial 101 finished with value: 0.3055153353377294 and parameters: {'sum_decode_tokens': 2.788155237367268e-05, 'sum_prefill_tokens': 1.018727548306317e-05, 'max_prefill_tokens': -3.7936076807752243e-06, 'num_prefills': 0.0017667922720227432, 'sum_decode_tokenss2': 3.743063784099162e-08, 'sum_decode_tokensmsumprefill_tokens': -1.2860777039471245e-07, 'sum_decode_tokensmmaxprefill_tokens': 1.6224827407880935e-07, 'sum_decode_tokensmnumprefills': 3.161950487690038e-05, 'sum_prefill_tokenss2': -8.366997513593306e-09, 'sum_prefill_tokensmmaxprefill_tokens': 2.345003607970091e-08, 'sum_prefill_tokensmnumprefills': 6.805355707215372e-06, 'max_prefill_tokenss2': -9.60474045550726e-09, 'max_prefill_tokensmnumprefills': -1.1122292697466168e-05, 'num_prefillss2': -0.0007139425019501987, 'intercept': 0.005779501359629015, 'schedule_time': 488.6593981484529, 'update_time': 79.84957465388253, 'queue_overhead': 874.0911546883186, 'vllm_overhead': 7285.130360582853}. Best is trial 98 with value: 0.29415470051199405.\n",
      "[I 2025-07-14 13:58:55,061] Trial 102 finished with value: 0.49941801355475307 and parameters: {'sum_decode_tokens': 2.852189646597684e-05, 'sum_prefill_tokens': 1.0216888975923866e-05, 'max_prefill_tokens': -3.7880548356539755e-06, 'num_prefills': 0.001731276209145769, 'sum_decode_tokenss2': 3.743331271061155e-08, 'sum_decode_tokensmsumprefill_tokens': -1.28739145779111e-07, 'sum_decode_tokensmmaxprefill_tokens': 1.6144143848116037e-07, 'sum_decode_tokensmnumprefills': 1.9640523458157488e-05, 'sum_prefill_tokenss2': -8.400804793860397e-09, 'sum_prefill_tokensmmaxprefill_tokens': 2.4661834124112733e-08, 'sum_prefill_tokensmnumprefills': 6.812710990806498e-06, 'max_prefill_tokenss2': -9.70811805281124e-09, 'max_prefill_tokensmnumprefills': -1.1110600481420893e-05, 'num_prefillss2': -0.0007100692468358166, 'intercept': 0.005781059599910884, 'schedule_time': 492.82510186095215, 'update_time': 79.6606406112105, 'queue_overhead': 869.3897377076862, 'vllm_overhead': 7073.9686565624625}. Best is trial 98 with value: 0.29415470051199405.\n",
      "[I 2025-07-14 13:58:56,417] Trial 103 finished with value: 0.3032107675859592 and parameters: {'sum_decode_tokens': 2.7895933312578477e-05, 'sum_prefill_tokens': 9.875292581075276e-06, 'max_prefill_tokens': -3.850635873852885e-06, 'num_prefills': 0.0017908791400245922, 'sum_decode_tokenss2': 3.811314511426466e-08, 'sum_decode_tokensmsumprefill_tokens': -1.3234411884342923e-07, 'sum_decode_tokensmmaxprefill_tokens': 1.587523248151822e-07, 'sum_decode_tokensmnumprefills': 3.1006572588057386e-05, 'sum_prefill_tokenss2': -8.199478542919103e-09, 'sum_prefill_tokensmmaxprefill_tokens': 2.3287036359986644e-08, 'sum_prefill_tokensmnumprefills': 7.264997593207302e-06, 'max_prefill_tokenss2': -9.584738855264998e-09, 'max_prefill_tokensmnumprefills': -1.1258317492460009e-05, 'num_prefillss2': -0.0007199969537275846, 'intercept': 0.005924453772451578, 'schedule_time': 485.35272089005923, 'update_time': 78.41705687773144, 'queue_overhead': 877.5062623779503, 'vllm_overhead': 7268.789096366417}. Best is trial 98 with value: 0.29415470051199405.\n",
      "[I 2025-07-14 13:58:57,837] Trial 104 finished with value: 0.311612488804323 and parameters: {'sum_decode_tokens': 2.7253937683333962e-05, 'sum_prefill_tokens': 9.875791889969921e-06, 'max_prefill_tokens': -3.725483792260359e-06, 'num_prefills': 0.0017702198470199834, 'sum_decode_tokenss2': 3.720908289489312e-08, 'sum_decode_tokensmsumprefill_tokens': -1.3022292327536967e-07, 'sum_decode_tokensmmaxprefill_tokens': 1.536425862669289e-07, 'sum_decode_tokensmnumprefills': 3.099590486676885e-05, 'sum_prefill_tokenss2': -8.220345304621555e-09, 'sum_prefill_tokensmmaxprefill_tokens': 2.3345825187160043e-08, 'sum_prefill_tokensmnumprefills': 6.998614527915213e-06, 'max_prefill_tokenss2': -9.551997762054472e-09, 'max_prefill_tokensmnumprefills': -1.127165582426228e-05, 'num_prefillss2': -0.0007230666625021892, 'intercept': 0.005904094632721245, 'schedule_time': 487.87027729301036, 'update_time': 78.55141951029307, 'queue_overhead': 880.360750927317, 'vllm_overhead': 7302.3493710591765}. Best is trial 98 with value: 0.29415470051199405.\n",
      "[I 2025-07-14 13:58:59,213] Trial 105 finished with value: 0.3218682282804067 and parameters: {'sum_decode_tokens': 2.774182307722209e-05, 'sum_prefill_tokens': 1.0092942428971502e-05, 'max_prefill_tokens': -3.852279143861802e-06, 'num_prefills': 0.0017877201764229798, 'sum_decode_tokenss2': 3.7715997805587004e-08, 'sum_decode_tokensmsumprefill_tokens': -1.2837878198033723e-07, 'sum_decode_tokensmmaxprefill_tokens': 1.634852204204459e-07, 'sum_decode_tokensmnumprefills': 3.0084467721741124e-05, 'sum_prefill_tokenss2': -7.953872134526234e-09, 'sum_prefill_tokensmmaxprefill_tokens': 2.397394997719966e-08, 'sum_prefill_tokensmnumprefills': 7.384971096500936e-06, 'max_prefill_tokenss2': -9.224294677968916e-09, 'max_prefill_tokensmnumprefills': -1.1369778100677642e-05, 'num_prefillss2': -0.0007120395412415042, 'intercept': 0.00558951889987167, 'schedule_time': 485.00814410590965, 'update_time': 76.11912452506088, 'queue_overhead': 849.572439140975, 'vllm_overhead': 7152.793084915938}. Best is trial 98 with value: 0.29415470051199405.\n",
      "[I 2025-07-14 13:59:00,579] Trial 106 finished with value: 0.32287603606156595 and parameters: {'sum_decode_tokens': 2.6827190123482312e-05, 'sum_prefill_tokens': 9.754489795265222e-06, 'max_prefill_tokens': -3.798171446522582e-06, 'num_prefills': 0.0017679470747269054, 'sum_decode_tokenss2': 3.6542329460864975e-08, 'sum_decode_tokensmsumprefill_tokens': -1.3255970509921718e-07, 'sum_decode_tokensmmaxprefill_tokens': 1.5790036129839194e-07, 'sum_decode_tokensmnumprefills': 3.2552176333878166e-05, 'sum_prefill_tokenss2': -8.32765805188043e-09, 'sum_prefill_tokensmmaxprefill_tokens': 2.290631744431793e-08, 'sum_prefill_tokensmnumprefills': 7.574362741555964e-06, 'max_prefill_tokenss2': -9.676658516815531e-09, 'max_prefill_tokensmnumprefills': -1.1211697974113168e-05, 'num_prefillss2': -0.0007225153857934347, 'intercept': 0.0054290245132176205, 'schedule_time': 518.503675613403, 'update_time': 83.41001055915228, 'queue_overhead': 893.109669269765, 'vllm_overhead': 6850.097978887039}. Best is trial 98 with value: 0.29415470051199405.\n",
      "[I 2025-07-14 13:59:01,968] Trial 107 finished with value: 0.3093715139301525 and parameters: {'sum_decode_tokens': 2.8921661635217913e-05, 'sum_prefill_tokens': 9.641495508743535e-06, 'max_prefill_tokens': -3.845118948841935e-06, 'num_prefills': 0.0017233090142312754, 'sum_decode_tokenss2': 3.8502425763777056e-08, 'sum_decode_tokensmsumprefill_tokens': -1.3150284498417438e-07, 'sum_decode_tokensmmaxprefill_tokens': 1.668458741618863e-07, 'sum_decode_tokensmnumprefills': 3.163899053824619e-05, 'sum_prefill_tokenss2': -8.229492221330876e-09, 'sum_prefill_tokensmmaxprefill_tokens': 2.336656398775212e-08, 'sum_prefill_tokensmnumprefills': 7.250775980321968e-06, 'max_prefill_tokenss2': -9.848390077379964e-09, 'max_prefill_tokensmnumprefills': -1.1087291290653664e-05, 'num_prefillss2': -0.0007156800718872082, 'intercept': 0.005769752211841601, 'schedule_time': 496.61882038867935, 'update_time': 77.15737290042908, 'queue_overhead': 904.2655885614053, 'vllm_overhead': 7373.977502450466}. Best is trial 98 with value: 0.29415470051199405.\n",
      "[I 2025-07-14 13:59:03,360] Trial 108 finished with value: 0.6715557702913267 and parameters: {'sum_decode_tokens': 2.882333924060027e-05, 'sum_prefill_tokens': 1.0555258601614962e-05, 'max_prefill_tokens': -3.859455042133015e-06, 'num_prefills': 0.0017284304991997776, 'sum_decode_tokenss2': 3.788325722907812e-08, 'sum_decode_tokensmsumprefill_tokens': -1.2967502966772476e-07, 'sum_decode_tokensmmaxprefill_tokens': 1.6445126714921995e-07, 'sum_decode_tokensmnumprefills': 3.107698993546303e-05, 'sum_prefill_tokenss2': -8.173341912968603e-09, 'sum_prefill_tokensmmaxprefill_tokens': 2.260527765205544e-08, 'sum_prefill_tokensmnumprefills': 7.243976211313892e-06, 'max_prefill_tokenss2': -1.0211235057616538e-08, 'max_prefill_tokensmnumprefills': -1.1053930532929486e-05, 'num_prefillss2': -0.0010235069029186329, 'intercept': 0.005740926259580271, 'schedule_time': 495.9859287244704, 'update_time': 77.28606293871819, 'queue_overhead': 900.6129788765899, 'vllm_overhead': 7391.543198846397}. Best is trial 98 with value: 0.29415470051199405.\n",
      "[I 2025-07-14 13:59:04,724] Trial 109 finished with value: 0.30415123596987526 and parameters: {'sum_decode_tokens': 2.5644169431015957e-05, 'sum_prefill_tokens': 9.614500339327129e-06, 'max_prefill_tokens': -3.7392878101891683e-06, 'num_prefills': 0.001761738908280723, 'sum_decode_tokenss2': 3.9293136618435256e-08, 'sum_decode_tokensmsumprefill_tokens': -1.3275478865207894e-07, 'sum_decode_tokensmmaxprefill_tokens': 1.503241398592146e-07, 'sum_decode_tokensmnumprefills': 3.164392874341844e-05, 'sum_prefill_tokenss2': -8.00896055263148e-09, 'sum_prefill_tokensmmaxprefill_tokens': 2.3196515305606103e-08, 'sum_prefill_tokensmnumprefills': 7.249215564691677e-06, 'max_prefill_tokenss2': -9.479523119649275e-09, 'max_prefill_tokensmnumprefills': -1.1479225331783715e-05, 'num_prefillss2': -0.0007146687961128333, 'intercept': 0.0059251490692737736, 'schedule_time': 468.1547541724678, 'update_time': 78.55781531223363, 'queue_overhead': 875.9691521036924, 'vllm_overhead': 7243.022658354503}. Best is trial 98 with value: 0.29415470051199405.\n",
      "[I 2025-07-14 13:59:06,090] Trial 110 finished with value: 0.36538190704230644 and parameters: {'sum_decode_tokens': 2.5599221403405714e-05, 'sum_prefill_tokens': 1.0211985897966631e-05, 'max_prefill_tokens': -3.7237481774899927e-06, 'num_prefills': 0.0017544345194049256, 'sum_decode_tokenss2': 3.945114104959969e-08, 'sum_decode_tokensmsumprefill_tokens': -1.3277443930122313e-07, 'sum_decode_tokensmmaxprefill_tokens': 1.4485607451587958e-07, 'sum_decode_tokensmnumprefills': 3.0899300803672285e-05, 'sum_prefill_tokenss2': -8.053786540419799e-09, 'sum_prefill_tokensmmaxprefill_tokens': 2.3815944058181497e-08, 'sum_prefill_tokensmnumprefills': 6.588921143245703e-06, 'max_prefill_tokenss2': -9.352762623756209e-09, 'max_prefill_tokensmnumprefills': -1.1555503433029148e-05, 'num_prefillss2': -0.0007260548661872377, 'intercept': 0.005665715985140317, 'schedule_time': 477.6506850186495, 'update_time': 78.41678638206159, 'queue_overhead': 877.2888485604461, 'vllm_overhead': 7263.232702939421}. Best is trial 98 with value: 0.29415470051199405.\n",
      "[I 2025-07-14 13:59:07,434] Trial 111 finished with value: 0.30153067044401966 and parameters: {'sum_decode_tokens': 2.670925113431777e-05, 'sum_prefill_tokens': 9.597261681232213e-06, 'max_prefill_tokens': -3.7839046790177094e-06, 'num_prefills': 0.0017836570421527495, 'sum_decode_tokenss2': 3.8706602393693485e-08, 'sum_decode_tokensmsumprefill_tokens': -1.309523442690469e-07, 'sum_decode_tokensmmaxprefill_tokens': 1.5120839678177413e-07, 'sum_decode_tokensmnumprefills': 3.170423037156219e-05, 'sum_prefill_tokenss2': -7.879828395453857e-09, 'sum_prefill_tokensmmaxprefill_tokens': 2.326220709551129e-08, 'sum_prefill_tokensmnumprefills': 7.219258356610155e-06, 'max_prefill_tokenss2': -9.878531812473597e-09, 'max_prefill_tokensmnumprefills': -1.1431482535171428e-05, 'num_prefillss2': -0.0007122695761668989, 'intercept': 0.005843155836974862, 'schedule_time': 468.09207669419783, 'update_time': 70.99286506340114, 'queue_overhead': 853.2040620390238, 'vllm_overhead': 7140.030113550697}. Best is trial 98 with value: 0.29415470051199405.\n",
      "[I 2025-07-14 13:59:08,795] Trial 112 finished with value: 0.7047633714449848 and parameters: {'sum_decode_tokens': 2.672134948015827e-05, 'sum_prefill_tokens': 1.1760686816115695e-05, 'max_prefill_tokens': -3.7872392030169114e-06, 'num_prefills': 0.0018241113761124268, 'sum_decode_tokenss2': 3.909849176174684e-08, 'sum_decode_tokensmsumprefill_tokens': -1.2809938373947517e-07, 'sum_decode_tokensmmaxprefill_tokens': 1.5006010434172323e-07, 'sum_decode_tokensmnumprefills': 3.171352324902575e-05, 'sum_prefill_tokenss2': -7.884240239387744e-09, 'sum_prefill_tokensmmaxprefill_tokens': 2.4209424586717033e-08, 'sum_prefill_tokensmnumprefills': 7.490635805570829e-06, 'max_prefill_tokenss2': -9.600449045559306e-09, 'max_prefill_tokensmnumprefills': -1.1420052310423604e-05, 'num_prefillss2': -0.001106661737978644, 'intercept': 0.005924611848431363, 'schedule_time': 468.0005703617676, 'update_time': 71.69236068683558, 'queue_overhead': 839.1178024452029, 'vllm_overhead': 6942.8750869035375}. Best is trial 98 with value: 0.29415470051199405.\n",
      "[I 2025-07-14 13:59:10,143] Trial 113 finished with value: 0.2901542826719438 and parameters: {'sum_decode_tokens': 2.7535638010574852e-05, 'sum_prefill_tokens': 9.379111708271418e-06, 'max_prefill_tokens': -3.7457336010365298e-06, 'num_prefills': 0.0017826560101428606, 'sum_decode_tokenss2': 4.0716649403615644e-08, 'sum_decode_tokensmsumprefill_tokens': -1.335795031500939e-07, 'sum_decode_tokensmmaxprefill_tokens': 1.5128244585873253e-07, 'sum_decode_tokensmnumprefills': 3.231473280527086e-05, 'sum_prefill_tokenss2': -8.29036804582561e-09, 'sum_prefill_tokensmmaxprefill_tokens': 2.2493318078361285e-08, 'sum_prefill_tokensmnumprefills': 6.760770007438045e-06, 'max_prefill_tokenss2': -9.523677947670812e-09, 'max_prefill_tokensmnumprefills': -1.086424279097747e-05, 'num_prefillss2': -0.0006905189432722198, 'intercept': 0.005844747531465015, 'schedule_time': 483.5652843059742, 'update_time': 75.02007843929434, 'queue_overhead': 858.1151986297928, 'vllm_overhead': 7115.772913915529}. Best is trial 113 with value: 0.2901542826719438.\n",
      "[I 2025-07-14 13:59:11,467] Trial 114 finished with value: 0.3002017632727428 and parameters: {'sum_decode_tokens': 2.7515867671024317e-05, 'sum_prefill_tokens': 9.616566202143126e-06, 'max_prefill_tokens': -3.7524101070895384e-06, 'num_prefills': 0.0017757766794287944, 'sum_decode_tokenss2': 4.113286587019528e-08, 'sum_decode_tokensmsumprefill_tokens': -1.3087619671345324e-07, 'sum_decode_tokensmmaxprefill_tokens': 1.5083591990501988e-07, 'sum_decode_tokensmnumprefills': 3.223327602357047e-05, 'sum_prefill_tokenss2': -7.689656838317659e-09, 'sum_prefill_tokensmmaxprefill_tokens': 2.317192680660229e-08, 'sum_prefill_tokensmnumprefills': 7.165380844310686e-06, 'max_prefill_tokenss2': -9.474384909076613e-09, 'max_prefill_tokensmnumprefills': -1.0843831557324865e-05, 'num_prefillss2': -0.0006908880424420406, 'intercept': 0.005848885524466354, 'schedule_time': 467.3374943489759, 'update_time': 69.29834502950858, 'queue_overhead': 859.4025940598831, 'vllm_overhead': 7314.929119250611}. Best is trial 113 with value: 0.2901542826719438.\n",
      "[I 2025-07-14 13:59:12,868] Trial 115 finished with value: 0.30471523276197726 and parameters: {'sum_decode_tokens': 2.7307059466186883e-05, 'sum_prefill_tokens': 9.79687454636564e-06, 'max_prefill_tokens': -3.7129150710370634e-06, 'num_prefills': 0.001779274129542022, 'sum_decode_tokenss2': 3.881376983740611e-08, 'sum_decode_tokensmsumprefill_tokens': -1.3074255056239695e-07, 'sum_decode_tokensmmaxprefill_tokens': 1.500701645072955e-07, 'sum_decode_tokensmnumprefills': 3.2223653131315924e-05, 'sum_prefill_tokenss2': -7.678810901614732e-09, 'sum_prefill_tokensmmaxprefill_tokens': 2.2414457698616296e-08, 'sum_prefill_tokensmnumprefills': 7.157592884743605e-06, 'max_prefill_tokenss2': -9.444206883316654e-09, 'max_prefill_tokensmnumprefills': -1.0854428982077682e-05, 'num_prefillss2': -0.0006936749854524624, 'intercept': 0.005962003649598261, 'schedule_time': 466.6019950164699, 'update_time': 68.97708091203897, 'queue_overhead': 859.4207313665058, 'vllm_overhead': 7311.355358499502}. Best is trial 113 with value: 0.2901542826719438.\n",
      "[I 2025-07-14 13:59:14,270] Trial 116 finished with value: 0.30174954932358694 and parameters: {'sum_decode_tokens': 2.7483303757924973e-05, 'sum_prefill_tokens': 9.884152869531357e-06, 'max_prefill_tokens': -3.7148998208543572e-06, 'num_prefills': 0.0017718702706046314, 'sum_decode_tokenss2': 4.0833404579998686e-08, 'sum_decode_tokensmsumprefill_tokens': -1.3094711073643833e-07, 'sum_decode_tokensmmaxprefill_tokens': 1.5045732860287947e-07, 'sum_decode_tokensmnumprefills': 3.2285696112306964e-05, 'sum_prefill_tokenss2': -7.65218083850807e-09, 'sum_prefill_tokensmmaxprefill_tokens': 2.239068354812697e-08, 'sum_prefill_tokensmnumprefills': 7.178330599898412e-06, 'max_prefill_tokenss2': -9.492539423329186e-09, 'max_prefill_tokensmnumprefills': -1.0859092035734542e-05, 'num_prefillss2': -0.0006937706807051603, 'intercept': 0.005847624842477807, 'schedule_time': 481.8781822436043, 'update_time': 68.91510228316675, 'queue_overhead': 862.0247003759033, 'vllm_overhead': 7314.684591270428}. Best is trial 113 with value: 0.2901542826719438.\n",
      "[I 2025-07-14 13:59:15,630] Trial 117 finished with value: 0.29913794146585604 and parameters: {'sum_decode_tokens': 2.749779224835735e-05, 'sum_prefill_tokens': 9.9382195014024e-06, 'max_prefill_tokens': -3.709299074936259e-06, 'num_prefills': 0.0017062828395492582, 'sum_decode_tokenss2': 4.104477831679335e-08, 'sum_decode_tokensmsumprefill_tokens': -1.3086167495329557e-07, 'sum_decode_tokensmmaxprefill_tokens': 1.5188695562931873e-07, 'sum_decode_tokensmnumprefills': 3.2282869756805437e-05, 'sum_prefill_tokenss2': -7.685618198806394e-09, 'sum_prefill_tokensmmaxprefill_tokens': 2.2465451597590765e-08, 'sum_prefill_tokensmnumprefills': 7.179332344814968e-06, 'max_prefill_tokenss2': -9.818190642820814e-09, 'max_prefill_tokensmnumprefills': -1.0847721062933966e-05, 'num_prefillss2': -0.0006900199064385015, 'intercept': 0.005859150957450477, 'schedule_time': 465.96443915722676, 'update_time': 69.86307513325426, 'queue_overhead': 855.6418744899914, 'vllm_overhead': 7151.829060360588}. Best is trial 113 with value: 0.2901542826719438.\n",
      "[I 2025-07-14 13:59:17,005] Trial 118 finished with value: 0.3035365319627278 and parameters: {'sum_decode_tokens': 2.75292880627224e-05, 'sum_prefill_tokens': 9.899590527383474e-06, 'max_prefill_tokens': -3.5536724440695397e-06, 'num_prefills': 0.0017416084285562317, 'sum_decode_tokenss2': 4.124060086934648e-08, 'sum_decode_tokensmsumprefill_tokens': -1.307193145691965e-07, 'sum_decode_tokensmmaxprefill_tokens': 1.4980261226196016e-07, 'sum_decode_tokensmnumprefills': 3.2387030270592965e-05, 'sum_prefill_tokenss2': -7.602268394539846e-09, 'sum_prefill_tokensmmaxprefill_tokens': 2.2393368649195937e-08, 'sum_prefill_tokensmnumprefills': 7.311705757747874e-06, 'max_prefill_tokenss2': -1.0073770948182158e-08, 'max_prefill_tokensmnumprefills': -1.085675748154415e-05, 'num_prefillss2': -0.0006981476903434198, 'intercept': 0.005845317816608864, 'schedule_time': 466.27174281150053, 'update_time': 69.79357079698443, 'queue_overhead': 833.6627125173973, 'vllm_overhead': 7184.990644528912}. Best is trial 113 with value: 0.2901542826719438.\n",
      "[I 2025-07-14 13:59:18,367] Trial 119 finished with value: 0.30341676583234284 and parameters: {'sum_decode_tokens': 2.7614969950519022e-05, 'sum_prefill_tokens': 9.92474508343081e-06, 'max_prefill_tokens': -3.5137024227602815e-06, 'num_prefills': 0.0017033219698072927, 'sum_decode_tokenss2': 4.101162750405558e-08, 'sum_decode_tokensmsumprefill_tokens': -1.2948258151352623e-07, 'sum_decode_tokensmmaxprefill_tokens': 1.5384738765849603e-07, 'sum_decode_tokensmnumprefills': 3.235753019911365e-05, 'sum_prefill_tokenss2': -7.549803354217831e-09, 'sum_prefill_tokensmmaxprefill_tokens': 2.28349242918425e-08, 'sum_prefill_tokensmnumprefills': 7.3034576907731514e-06, 'max_prefill_tokenss2': -9.996058089934584e-09, 'max_prefill_tokensmnumprefills': -1.06426356238483e-05, 'num_prefillss2': -0.0006932655953449939, 'intercept': 0.005840230205170092, 'schedule_time': 462.6051318338238, 'update_time': 66.0859350411145, 'queue_overhead': 814.1084781731199, 'vllm_overhead': 7194.7007770730115}. Best is trial 113 with value: 0.2901542826719438.\n",
      "[I 2025-07-14 13:59:19,726] Trial 120 finished with value: 0.2997010335426995 and parameters: {'sum_decode_tokens': 2.7609227600905614e-05, 'sum_prefill_tokens': 9.941613274024217e-06, 'max_prefill_tokens': -3.5431967477045882e-06, 'num_prefills': 0.0017039913892113773, 'sum_decode_tokenss2': 4.1268223854310314e-08, 'sum_decode_tokensmsumprefill_tokens': -1.2972763536130824e-07, 'sum_decode_tokensmmaxprefill_tokens': 1.5322310726303484e-07, 'sum_decode_tokensmnumprefills': 3.236688255632012e-05, 'sum_prefill_tokenss2': -7.509840090334503e-09, 'sum_prefill_tokensmmaxprefill_tokens': 2.279513784805063e-08, 'sum_prefill_tokensmnumprefills': 7.013658988793146e-06, 'max_prefill_tokenss2': -1.0139198692026369e-08, 'max_prefill_tokensmnumprefills': -1.044370568225568e-05, 'num_prefillss2': -0.0006910081977795235, 'intercept': 0.005837759498217074, 'schedule_time': 460.42276268023227, 'update_time': 65.09123706023537, 'queue_overhead': 781.4585193624032, 'vllm_overhead': 7113.602961693389}. Best is trial 113 with value: 0.2901542826719438.\n",
      "[I 2025-07-14 13:59:21,120] Trial 121 finished with value: 0.30508889101913206 and parameters: {'sum_decode_tokens': 2.7621480008872214e-05, 'sum_prefill_tokens': 9.91248389971378e-06, 'max_prefill_tokens': -3.548807078690861e-06, 'num_prefills': 0.0017015278566571118, 'sum_decode_tokenss2': 4.0761734611885476e-08, 'sum_decode_tokensmsumprefill_tokens': -1.2985487844087578e-07, 'sum_decode_tokensmmaxprefill_tokens': 1.5456329790287505e-07, 'sum_decode_tokensmnumprefills': 3.2359373618161995e-05, 'sum_prefill_tokenss2': -7.53875645217464e-09, 'sum_prefill_tokensmmaxprefill_tokens': 2.283547520829998e-08, 'sum_prefill_tokensmnumprefills': 7.328556125201704e-06, 'max_prefill_tokenss2': -1.0118626102906836e-08, 'max_prefill_tokensmnumprefills': -1.0529581285088875e-05, 'num_prefillss2': -0.0006902349755758745, 'intercept': 0.005846899698410086, 'schedule_time': 458.1435529642065, 'update_time': 65.19047919838222, 'queue_overhead': 816.9055362515714, 'vllm_overhead': 7149.532964307399}. Best is trial 113 with value: 0.2901542826719438.\n",
      "[I 2025-07-14 13:59:22,464] Trial 122 finished with value: 0.42093523486192996 and parameters: {'sum_decode_tokens': 2.7401358262361168e-05, 'sum_prefill_tokens': 1.007021936600554e-05, 'max_prefill_tokens': -3.473257977079543e-06, 'num_prefills': 0.0017408569388894378, 'sum_decode_tokenss2': 4.1128304858784994e-08, 'sum_decode_tokensmsumprefill_tokens': -1.3100341854504178e-07, 'sum_decode_tokensmmaxprefill_tokens': 1.5212934251426803e-07, 'sum_decode_tokensmnumprefills': 2.1080422227814782e-05, 'sum_prefill_tokenss2': -7.2939555595359066e-09, 'sum_prefill_tokensmmaxprefill_tokens': 2.2537979570225677e-08, 'sum_prefill_tokensmnumprefills': 7.0503968144789674e-06, 'max_prefill_tokenss2': -9.848254419768078e-09, 'max_prefill_tokensmnumprefills': -1.0400857733957039e-05, 'num_prefillss2': -0.00069775096773048, 'intercept': 0.006033741407126126, 'schedule_time': 480.7778457564303, 'update_time': 71.21183619009273, 'queue_overhead': 787.6367040169192, 'vllm_overhead': 6949.962885453267}. Best is trial 113 with value: 0.2901542826719438.\n",
      "[I 2025-07-14 13:59:23,851] Trial 123 finished with value: 0.30878524891718434 and parameters: {'sum_decode_tokens': 2.85871683276901e-05, 'sum_prefill_tokens': 1.0410933113021516e-05, 'max_prefill_tokens': -3.622878351581621e-06, 'num_prefills': 0.001682539104120986, 'sum_decode_tokenss2': 4.051371412414385e-08, 'sum_decode_tokensmsumprefill_tokens': -1.2941434737674748e-07, 'sum_decode_tokensmmaxprefill_tokens': 1.4675970483990327e-07, 'sum_decode_tokensmnumprefills': 3.2348761712596016e-05, 'sum_prefill_tokenss2': -7.400198018495425e-09, 'sum_prefill_tokensmmaxprefill_tokens': 2.208562775154737e-08, 'sum_prefill_tokensmnumprefills': 6.9410676355759205e-06, 'max_prefill_tokenss2': -9.97738761086268e-09, 'max_prefill_tokensmnumprefills': -1.0634290510599528e-05, 'num_prefillss2': -0.0006902900945556952, 'intercept': 0.005614115582236685, 'schedule_time': 481.8348972091899, 'update_time': 65.84170888467328, 'queue_overhead': 769.8408053557324, 'vllm_overhead': 7007.8408069314555}. Best is trial 113 with value: 0.2901542826719438.\n",
      "[I 2025-07-14 13:59:25,238] Trial 124 finished with value: 0.31950770261691747 and parameters: {'sum_decode_tokens': 2.9683334747418028e-05, 'sum_prefill_tokens': 9.689656512435571e-06, 'max_prefill_tokens': -3.553295490050222e-06, 'num_prefills': 0.0017384570492096087, 'sum_decode_tokenss2': 4.135562485388737e-08, 'sum_decode_tokensmsumprefill_tokens': -1.2537838611228374e-07, 'sum_decode_tokensmmaxprefill_tokens': 1.5853814785647304e-07, 'sum_decode_tokensmnumprefills': 3.2493852406038375e-05, 'sum_prefill_tokenss2': -7.775985999852107e-09, 'sum_prefill_tokensmmaxprefill_tokens': 2.288842429692191e-08, 'sum_prefill_tokensmnumprefills': 7.139721926997447e-06, 'max_prefill_tokenss2': -1.0264521765897435e-08, 'max_prefill_tokensmnumprefills': -1.0264485304796541e-05, 'num_prefillss2': -0.0007027502656581056, 'intercept': 0.005853561859304465, 'schedule_time': 459.35520254323444, 'update_time': 70.53688549082298, 'queue_overhead': 832.823097703997, 'vllm_overhead': 7117.607741741586}. Best is trial 113 with value: 0.2901542826719438.\n",
      "[I 2025-07-14 13:59:26,608] Trial 125 finished with value: 0.32870352746023396 and parameters: {'sum_decode_tokens': 2.787896395338749e-05, 'sum_prefill_tokens': 9.993177515595275e-06, 'max_prefill_tokens': -3.6901290791853475e-06, 'num_prefills': 0.0017120785012160506, 'sum_decode_tokenss2': 4.079501545718564e-08, 'sum_decode_tokensmsumprefill_tokens': -1.3214961199881492e-07, 'sum_decode_tokensmmaxprefill_tokens': 1.5486782352844165e-07, 'sum_decode_tokensmnumprefills': 3.240308946478023e-05, 'sum_prefill_tokenss2': -7.60620711194051e-09, 'sum_prefill_tokensmmaxprefill_tokens': 2.322750258246632e-08, 'sum_prefill_tokensmnumprefills': 7.318987851206457e-06, 'max_prefill_tokenss2': -9.785973595688522e-09, 'max_prefill_tokensmnumprefills': -1.0865522723230357e-05, 'num_prefillss2': -0.0006900573819801305, 'intercept': 0.006097584598711549, 'schedule_time': 477.4237042545727, 'update_time': 62.691127532174335, 'queue_overhead': 853.4586649959132, 'vllm_overhead': 7211.684839326882}. Best is trial 113 with value: 0.2901542826719438.\n",
      "[I 2025-07-14 13:59:27,976] Trial 126 finished with value: 0.32133276683721224 and parameters: {'sum_decode_tokens': 2.7122481170497142e-05, 'sum_prefill_tokens': 9.825833561957253e-06, 'max_prefill_tokens': -3.393142255528848e-06, 'num_prefills': 0.001708311951548847, 'sum_decode_tokenss2': 4.128489445521095e-08, 'sum_decode_tokensmsumprefill_tokens': -1.306066607326564e-07, 'sum_decode_tokensmmaxprefill_tokens': 1.5224142890585815e-07, 'sum_decode_tokensmnumprefills': 3.2198968677119995e-05, 'sum_prefill_tokenss2': -7.077387001038251e-09, 'sum_prefill_tokensmmaxprefill_tokens': 2.2579251413700424e-08, 'sum_prefill_tokensmnumprefills': 7.461717258809032e-06, 'max_prefill_tokenss2': -1.0074354868462606e-08, 'max_prefill_tokensmnumprefills': -1.0445620767306549e-05, 'num_prefillss2': -0.0007218263299363211, 'intercept': 0.005720417556904271, 'schedule_time': 462.7033324980495, 'update_time': 68.94586507768415, 'queue_overhead': 810.58296788709, 'vllm_overhead': 6869.93387704264}. Best is trial 113 with value: 0.2901542826719438.\n",
      "[I 2025-07-14 13:59:29,349] Trial 127 finished with value: 0.31392419814717604 and parameters: {'sum_decode_tokens': 2.7501589535726493e-05, 'sum_prefill_tokens': 9.604867633828935e-06, 'max_prefill_tokens': -3.510228315707128e-06, 'num_prefills': 0.0016543170533430851, 'sum_decode_tokenss2': 4.0445787857416094e-08, 'sum_decode_tokensmsumprefill_tokens': -1.2752511562897622e-07, 'sum_decode_tokensmmaxprefill_tokens': 1.4827538852151956e-07, 'sum_decode_tokensmnumprefills': 3.174789723126431e-05, 'sum_prefill_tokenss2': -7.4024011613975715e-09, 'sum_prefill_tokensmmaxprefill_tokens': 2.2250433407365428e-08, 'sum_prefill_tokensmnumprefills': 7.5983944376970344e-06, 'max_prefill_tokenss2': -1.0364706158038121e-08, 'max_prefill_tokensmnumprefills': -9.8984170101565e-06, 'num_prefillss2': -0.0007087750603468067, 'intercept': 0.006013036642443456, 'schedule_time': 469.60172221298683, 'update_time': 72.84529753438008, 'queue_overhead': 862.3455665990626, 'vllm_overhead': 6725.147465830632}. Best is trial 113 with value: 0.2901542826719438.\n",
      "[I 2025-07-14 13:59:30,685] Trial 128 finished with value: 0.2970812825460497 and parameters: {'sum_decode_tokens': 2.7034003983376162e-05, 'sum_prefill_tokens': 9.92793368460232e-06, 'max_prefill_tokens': -3.7658764578860277e-06, 'num_prefills': 0.0017797308397586652, 'sum_decode_tokenss2': 4.081217634706708e-08, 'sum_decode_tokensmsumprefill_tokens': -1.312583489841974e-07, 'sum_decode_tokensmmaxprefill_tokens': 1.4740683278532743e-07, 'sum_decode_tokensmnumprefills': 3.2539862956794634e-05, 'sum_prefill_tokenss2': -7.89443615510543e-09, 'sum_prefill_tokensmmaxprefill_tokens': 2.3036503544299382e-08, 'sum_prefill_tokensmnumprefills': 6.9092526803887936e-06, 'max_prefill_tokenss2': -1.0568088411904736e-08, 'max_prefill_tokensmnumprefills': -1.0645959445404937e-05, 'num_prefillss2': -0.0006981225800673738, 'intercept': 0.00588651517886268, 'schedule_time': 450.098491655111, 'update_time': 67.7297512431006, 'queue_overhead': 835.6684672413481, 'vllm_overhead': 7128.293809691916}. Best is trial 113 with value: 0.2901542826719438.\n",
      "[I 2025-07-14 13:59:32,013] Trial 129 finished with value: 0.3107548270530152 and parameters: {'sum_decode_tokens': 2.7002266035550374e-05, 'sum_prefill_tokens': 9.758204454412605e-06, 'max_prefill_tokens': -3.779623244741061e-06, 'num_prefills': 0.0017806430395565119, 'sum_decode_tokenss2': 4.021965573531711e-08, 'sum_decode_tokensmsumprefill_tokens': -1.3217176320612988e-07, 'sum_decode_tokensmmaxprefill_tokens': 1.5562052288663979e-07, 'sum_decode_tokensmnumprefills': 3.252603594121275e-05, 'sum_prefill_tokenss2': -7.89953891723827e-09, 'sum_prefill_tokensmmaxprefill_tokens': 2.3115570244115152e-08, 'sum_prefill_tokensmnumprefills': 6.909749670577866e-06, 'max_prefill_tokenss2': -1.1010862089433927e-08, 'max_prefill_tokensmnumprefills': -1.0617396133649544e-05, 'num_prefillss2': -0.0007075845149565056, 'intercept': 0.006143518983706889, 'schedule_time': 559.3652634367107, 'update_time': 66.5917412400905, 'queue_overhead': 776.3264806692277, 'vllm_overhead': 7100.435300805989}. Best is trial 113 with value: 0.2901542826719438.\n",
      "[I 2025-07-14 13:59:33,392] Trial 130 finished with value: 0.3118710038500462 and parameters: {'sum_decode_tokens': 2.790875345105022e-05, 'sum_prefill_tokens': 1.032309992838914e-05, 'max_prefill_tokens': -3.7074884098210403e-06, 'num_prefills': 0.001755362591511315, 'sum_decode_tokenss2': 4.1744315428485226e-08, 'sum_decode_tokensmsumprefill_tokens': -1.2968911389765103e-07, 'sum_decode_tokensmmaxprefill_tokens': 1.591585142830375e-07, 'sum_decode_tokensmnumprefills': 3.126498076913596e-05, 'sum_prefill_tokenss2': -7.751947672785103e-09, 'sum_prefill_tokensmmaxprefill_tokens': 2.3787359240443933e-08, 'sum_prefill_tokensmnumprefills': 6.755318943131674e-06, 'max_prefill_tokenss2': -9.30060200537354e-09, 'max_prefill_tokensmnumprefills': -1.0709376368348642e-05, 'num_prefillss2': -0.0007229881909905296, 'intercept': 0.005955368369058195, 'schedule_time': 461.07019966199084, 'update_time': 67.99607030687223, 'queue_overhead': 824.3289898793824, 'vllm_overhead': 7305.442662348711}. Best is trial 113 with value: 0.2901542826719438.\n",
      "[I 2025-07-14 13:59:34,751] Trial 131 finished with value: 0.29928683922693083 and parameters: {'sum_decode_tokens': 2.7573584010957482e-05, 'sum_prefill_tokens': 9.91768128954258e-06, 'max_prefill_tokens': -3.7628699614412256e-06, 'num_prefills': 0.0017331908507811809, 'sum_decode_tokenss2': 3.9278555374982476e-08, 'sum_decode_tokensmsumprefill_tokens': -1.310758954480251e-07, 'sum_decode_tokensmmaxprefill_tokens': 1.4791707539690508e-07, 'sum_decode_tokensmnumprefills': 3.220392395274619e-05, 'sum_prefill_tokenss2': -7.574431480577092e-09, 'sum_prefill_tokensmmaxprefill_tokens': 2.2798400267779678e-08, 'sum_prefill_tokensmnumprefills': 7.103558161621478e-06, 'max_prefill_tokenss2': -9.912459422003624e-09, 'max_prefill_tokensmnumprefills': -1.0812494883307515e-05, 'num_prefillss2': -0.0006987727523745274, 'intercept': 0.005857956320824221, 'schedule_time': 450.6519564163451, 'update_time': 69.43653645020892, 'queue_overhead': 835.9726889243202, 'vllm_overhead': 7162.447513374841}. Best is trial 113 with value: 0.2901542826719438.\n",
      "[I 2025-07-14 13:59:36,115] Trial 132 finished with value: 0.30250392448319335 and parameters: {'sum_decode_tokens': 2.8436243585033837e-05, 'sum_prefill_tokens': 1.0043983808708156e-05, 'max_prefill_tokens': -3.7688371924446004e-06, 'num_prefills': 0.0017264766443282674, 'sum_decode_tokenss2': 3.9267839997932e-08, 'sum_decode_tokensmsumprefill_tokens': -1.3148713379724734e-07, 'sum_decode_tokensmmaxprefill_tokens': 1.4464658895759682e-07, 'sum_decode_tokensmnumprefills': 3.1839882972827366e-05, 'sum_prefill_tokenss2': -7.673460168518551e-09, 'sum_prefill_tokensmmaxprefill_tokens': 2.2834267080667726e-08, 'sum_prefill_tokensmnumprefills': 7.072783532845544e-06, 'max_prefill_tokenss2': -9.894356541371013e-09, 'max_prefill_tokensmnumprefills': -1.0040686968904758e-05, 'num_prefillss2': -0.0007003544074477119, 'intercept': 0.005885421274374397, 'schedule_time': 451.28842209416916, 'update_time': 64.73595414072074, 'queue_overhead': 843.994832264181, 'vllm_overhead': 7005.224306419248}. Best is trial 113 with value: 0.2901542826719438.\n",
      "[I 2025-07-14 13:59:37,484] Trial 133 finished with value: 0.3071756396594967 and parameters: {'sum_decode_tokens': 2.842162794588828e-05, 'sum_prefill_tokens': 1.0106823071353643e-05, 'max_prefill_tokens': -3.762203810128341e-06, 'num_prefills': 0.001726795200006554, 'sum_decode_tokenss2': 3.8438040922434605e-08, 'sum_decode_tokensmsumprefill_tokens': -1.3137160959733786e-07, 'sum_decode_tokensmmaxprefill_tokens': 1.4472671057397168e-07, 'sum_decode_tokensmnumprefills': 3.186690893665067e-05, 'sum_prefill_tokenss2': -7.453355413684128e-09, 'sum_prefill_tokensmmaxprefill_tokens': 2.3662803308821104e-08, 'sum_prefill_tokensmnumprefills': 7.060164081780483e-06, 'max_prefill_tokenss2': -1.0553995874649297e-08, 'max_prefill_tokensmnumprefills': -9.478731454496097e-06, 'num_prefillss2': -0.0007046476587040843, 'intercept': 0.005888536469396648, 'schedule_time': 450.8035927853739, 'update_time': 68.40611307531309, 'queue_overhead': 850.4500786919307, 'vllm_overhead': 7014.931351186646}. Best is trial 113 with value: 0.2901542826719438.\n",
      "[I 2025-07-14 13:59:38,857] Trial 134 finished with value: 0.31816542347435917 and parameters: {'sum_decode_tokens': 2.6632953131577494e-05, 'sum_prefill_tokens': 9.666934671313488e-06, 'max_prefill_tokens': -3.747311074936492e-06, 'num_prefills': 0.001774799960185841, 'sum_decode_tokenss2': 3.908817592945167e-08, 'sum_decode_tokensmsumprefill_tokens': -1.3240975905517745e-07, 'sum_decode_tokensmmaxprefill_tokens': 1.471059036053527e-07, 'sum_decode_tokensmnumprefills': 3.143394693856067e-05, 'sum_prefill_tokenss2': -7.696440239050022e-09, 'sum_prefill_tokensmmaxprefill_tokens': 2.416022788592834e-08, 'sum_prefill_tokensmnumprefills': 7.18124099902971e-06, 'max_prefill_tokenss2': -9.890014237660816e-09, 'max_prefill_tokensmnumprefills': -1.0035023421083381e-05, 'num_prefillss2': -0.000718897934720842, 'intercept': 0.005702948006491406, 'schedule_time': 451.73022342509364, 'update_time': 64.40062664024427, 'queue_overhead': 837.3413976138042, 'vllm_overhead': 7335.704735001851}. Best is trial 113 with value: 0.2901542826719438.\n",
      "[I 2025-07-14 13:59:40,243] Trial 135 finished with value: 0.44928756003977444 and parameters: {'sum_decode_tokens': 2.7099401843647326e-05, 'sum_prefill_tokens': 9.99116877542863e-06, 'max_prefill_tokens': -3.6915988181719266e-06, 'num_prefills': 0.0011448809781147763, 'sum_decode_tokenss2': 3.8739540724298793e-08, 'sum_decode_tokensmsumprefill_tokens': -1.3169282082192548e-07, 'sum_decode_tokensmmaxprefill_tokens': 1.5177065839193963e-07, 'sum_decode_tokensmnumprefills': 3.2117879294347414e-05, 'sum_prefill_tokenss2': -7.852414943217055e-09, 'sum_prefill_tokensmmaxprefill_tokens': 2.3068802974200948e-08, 'sum_prefill_tokensmnumprefills': 6.994972194002223e-06, 'max_prefill_tokenss2': -9.737439270570172e-09, 'max_prefill_tokensmnumprefills': -1.1016683698883467e-05, 'num_prefillss2': -0.0007002421450783483, 'intercept': 0.006028693716110673, 'schedule_time': 485.6055303349235, 'update_time': 67.24003816719453, 'queue_overhead': 865.6538527672791, 'vllm_overhead': 6934.020988753275}. Best is trial 113 with value: 0.2901542826719438.\n",
      "[I 2025-07-14 13:59:41,661] Trial 136 finished with value: 0.7269174683712801 and parameters: {'sum_decode_tokens': 2.879939495509582e-05, 'sum_prefill_tokens': 9.340886986353852e-06, 'max_prefill_tokens': -3.626045216874012e-06, 'num_prefills': 0.0017897634570311115, 'sum_decode_tokenss2': 3.96246905562264e-08, 'sum_decode_tokensmsumprefill_tokens': -1.2775870978216534e-07, 'sum_decode_tokensmmaxprefill_tokens': 1.4831222926756712e-07, 'sum_decode_tokensmnumprefills': 2.2680266720860858e-05, 'sum_prefill_tokenss2': -8.121568696814626e-09, 'sum_prefill_tokensmmaxprefill_tokens': 2.27433487000409e-08, 'sum_prefill_tokensmnumprefills': 6.88966977413535e-06, 'max_prefill_tokenss2': -1.032950761369912e-08, 'max_prefill_tokensmnumprefills': -1.134304611599184e-05, 'num_prefillss2': -0.0009378487799252194, 'intercept': 0.0058973219842176905, 'schedule_time': 473.7280245653607, 'update_time': 72.79761347544586, 'queue_overhead': 750.2719940862266, 'vllm_overhead': 7423.544142223032}. Best is trial 113 with value: 0.2901542826719438.\n",
      "[I 2025-07-14 13:59:43,036] Trial 137 finished with value: 0.3304309765851795 and parameters: {'sum_decode_tokens': 2.8060735288369222e-05, 'sum_prefill_tokens': 9.823999728679936e-06, 'max_prefill_tokens': -3.7617211982496663e-06, 'num_prefills': 0.00166517779176182, 'sum_decode_tokenss2': 3.805140668904603e-08, 'sum_decode_tokensmsumprefill_tokens': -1.3255089248278444e-07, 'sum_decode_tokensmmaxprefill_tokens': 1.4629407453783488e-07, 'sum_decode_tokensmnumprefills': 3.183947249574206e-05, 'sum_prefill_tokenss2': -7.29414959756226e-09, 'sum_prefill_tokensmmaxprefill_tokens': 2.3201547376774353e-08, 'sum_prefill_tokensmnumprefills': 7.1098764785461845e-06, 'max_prefill_tokenss2': -9.130235818600731e-09, 'max_prefill_tokensmnumprefills': -1.0795172178019371e-05, 'num_prefillss2': -0.0007108800050620568, 'intercept': 0.005650377749325068, 'schedule_time': 492.7784851463984, 'update_time': 70.17199533052461, 'queue_overhead': 846.4590216259921, 'vllm_overhead': 7117.729543974763}. Best is trial 113 with value: 0.2901542826719438.\n",
      "[I 2025-07-14 13:59:44,376] Trial 138 finished with value: 0.3164633325099625 and parameters: {'sum_decode_tokens': 2.7284897023567816e-05, 'sum_prefill_tokens': 1.0181682947570424e-05, 'max_prefill_tokens': -3.875832562492256e-06, 'num_prefills': 0.0017443073661777022, 'sum_decode_tokenss2': 4.011585318675963e-08, 'sum_decode_tokensmsumprefill_tokens': -1.3079320373006502e-07, 'sum_decode_tokensmmaxprefill_tokens': 1.4851822925762517e-07, 'sum_decode_tokensmnumprefills': 3.1501505843791125e-05, 'sum_prefill_tokenss2': -7.924795317147035e-09, 'sum_prefill_tokensmmaxprefill_tokens': 2.199848527585149e-08, 'sum_prefill_tokensmnumprefills': 6.959321119724482e-06, 'max_prefill_tokenss2': -1.0871228655331117e-08, 'max_prefill_tokensmnumprefills': -9.575774573849204e-06, 'num_prefillss2': -0.0007279036447819006, 'intercept': 0.005820288900178934, 'schedule_time': 578.2646699988468, 'update_time': 62.47818357611012, 'queue_overhead': 824.6841209712412, 'vllm_overhead': 7241.920148834362}. Best is trial 113 with value: 0.2901542826719438.\n",
      "[I 2025-07-14 13:59:45,703] Trial 139 finished with value: 0.29637955497526436 and parameters: {'sum_decode_tokens': 2.6139754383872578e-05, 'sum_prefill_tokens': 9.568509108086145e-06, 'max_prefill_tokens': -3.733780858331664e-06, 'num_prefills': 0.0017223404146946978, 'sum_decode_tokenss2': 4.070532344051447e-08, 'sum_decode_tokensmsumprefill_tokens': -1.2902886340586461e-07, 'sum_decode_tokensmmaxprefill_tokens': 1.5584610464091511e-07, 'sum_decode_tokensmnumprefills': 3.2121267303023174e-05, 'sum_prefill_tokenss2': -7.725195099007897e-09, 'sum_prefill_tokensmmaxprefill_tokens': 2.2439411111576644e-08, 'sum_prefill_tokensmnumprefills': 6.704825707698583e-06, 'max_prefill_tokenss2': -9.36901649610592e-09, 'max_prefill_tokensmnumprefills': -1.0379051184320908e-05, 'num_prefillss2': -0.0006978786803062084, 'intercept': 0.006084931491674388, 'schedule_time': 449.3758190323695, 'update_time': 75.23721324068644, 'queue_overhead': 884.470596594633, 'vllm_overhead': 7152.454388824274}. Best is trial 113 with value: 0.2901542826719438.\n",
      "[I 2025-07-14 13:59:47,052] Trial 140 finished with value: 0.31147441901845885 and parameters: {'sum_decode_tokens': 2.6321640375592124e-05, 'sum_prefill_tokens': 1.0042398784299495e-05, 'max_prefill_tokens': -3.890152722034474e-06, 'num_prefills': 0.0016864857409671602, 'sum_decode_tokenss2': 4.073979406024977e-08, 'sum_decode_tokensmsumprefill_tokens': -1.2900946757979473e-07, 'sum_decode_tokensmmaxprefill_tokens': 1.566713298118064e-07, 'sum_decode_tokensmnumprefills': 3.217746217434672e-05, 'sum_prefill_tokenss2': -7.638887431331087e-09, 'sum_prefill_tokensmmaxprefill_tokens': 2.2424720279721706e-08, 'sum_prefill_tokensmnumprefills': 6.8456285704693946e-06, 'max_prefill_tokenss2': -9.510349285819351e-09, 'max_prefill_tokensmnumprefills': -1.0072545467581596e-05, 'num_prefillss2': -0.0007167944500794418, 'intercept': 0.005973966885360444, 'schedule_time': 454.9731763273822, 'update_time': 74.80784222623599, 'queue_overhead': 884.4671161717819, 'vllm_overhead': 7034.444730358817}. Best is trial 113 with value: 0.2901542826719438.\n",
      "[I 2025-07-14 13:59:48,428] Trial 141 finished with value: 0.29680962350474693 and parameters: {'sum_decode_tokens': 2.61797597820931e-05, 'sum_prefill_tokens': 9.58354386323153e-06, 'max_prefill_tokens': -3.7306765700373504e-06, 'num_prefills': 0.0017218417216427158, 'sum_decode_tokenss2': 3.914895282813951e-08, 'sum_decode_tokensmsumprefill_tokens': -1.3014077552775537e-07, 'sum_decode_tokensmmaxprefill_tokens': 1.5225444798872236e-07, 'sum_decode_tokensmnumprefills': 3.2537046738708603e-05, 'sum_prefill_tokenss2': -7.773049808073972e-09, 'sum_prefill_tokensmmaxprefill_tokens': 2.2694708124985487e-08, 'sum_prefill_tokensmnumprefills': 6.7263729812967705e-06, 'max_prefill_tokenss2': -9.397205911264565e-09, 'max_prefill_tokensmnumprefills': -1.0353822393381299e-05, 'num_prefillss2': -0.0006985844711728226, 'intercept': 0.006090913747651316, 'schedule_time': 448.2790867412747, 'update_time': 69.592081329427, 'queue_overhead': 854.6596083794591, 'vllm_overhead': 7147.656613692696}. Best is trial 113 with value: 0.2901542826719438.\n",
      "[I 2025-07-14 13:59:49,808] Trial 142 finished with value: 0.2968981989241618 and parameters: {'sum_decode_tokens': 2.614272486792019e-05, 'sum_prefill_tokens': 9.705310580834804e-06, 'max_prefill_tokens': -3.8020440720475295e-06, 'num_prefills': 0.0017199837245267277, 'sum_decode_tokenss2': 3.9373494788157676e-08, 'sum_decode_tokensmsumprefill_tokens': -1.2679086317593644e-07, 'sum_decode_tokensmmaxprefill_tokens': 1.5315810569268008e-07, 'sum_decode_tokensmnumprefills': 3.212932505638311e-05, 'sum_prefill_tokenss2': -7.738077337285715e-09, 'sum_prefill_tokensmmaxprefill_tokens': 2.2760254111607088e-08, 'sum_prefill_tokensmnumprefills': 6.728827211279019e-06, 'max_prefill_tokenss2': -9.381906381208325e-09, 'max_prefill_tokensmnumprefills': -1.0400975848355873e-05, 'num_prefillss2': -0.000691135434429704, 'intercept': 0.006167859957547811, 'schedule_time': 447.7428159742721, 'update_time': 70.83979166542063, 'queue_overhead': 857.174676028009, 'vllm_overhead': 7133.774387487008}. Best is trial 113 with value: 0.2901542826719438.\n",
      "[I 2025-07-14 13:59:51,156] Trial 143 finished with value: 0.302924474239787 and parameters: {'sum_decode_tokens': 2.612473695951024e-05, 'sum_prefill_tokens': 9.225912155165025e-06, 'max_prefill_tokens': -3.804055380905708e-06, 'num_prefills': 0.001716654514880846, 'sum_decode_tokenss2': 5.060521740551741e-08, 'sum_decode_tokensmsumprefill_tokens': -1.2702245950633788e-07, 'sum_decode_tokensmmaxprefill_tokens': 1.5226373382971322e-07, 'sum_decode_tokensmnumprefills': 3.2532617778848835e-05, 'sum_prefill_tokenss2': -7.739207052738775e-09, 'sum_prefill_tokensmmaxprefill_tokens': 2.27476488256373e-08, 'sum_prefill_tokensmnumprefills': 6.746370003287041e-06, 'max_prefill_tokenss2': -9.41231985051892e-09, 'max_prefill_tokensmnumprefills': -1.0356703173747667e-05, 'num_prefillss2': -0.0006979172323167067, 'intercept': 0.006159418833309206, 'schedule_time': 448.09824485157037, 'update_time': 69.63064100116463, 'queue_overhead': 857.2005096909859, 'vllm_overhead': 7129.496764399348}. Best is trial 113 with value: 0.2901542826719438.\n",
      "[I 2025-07-14 13:59:52,498] Trial 144 finished with value: 0.2929795981847353 and parameters: {'sum_decode_tokens': 2.666954852384211e-05, 'sum_prefill_tokens': 9.586059649122851e-06, 'max_prefill_tokens': -3.723081885704958e-06, 'num_prefills': 0.0017313168653102806, 'sum_decode_tokenss2': 4.0244062034422624e-08, 'sum_decode_tokensmsumprefill_tokens': -1.3014754538781446e-07, 'sum_decode_tokensmmaxprefill_tokens': 1.5621514096894286e-07, 'sum_decode_tokensmnumprefills': 3.2138753870339746e-05, 'sum_prefill_tokenss2': -7.800432267974526e-09, 'sum_prefill_tokensmmaxprefill_tokens': 2.2200411061472724e-08, 'sum_prefill_tokensmnumprefills': 6.638084743210347e-06, 'max_prefill_tokenss2': -9.687623977759825e-09, 'max_prefill_tokensmnumprefills': -1.0196695370182361e-05, 'num_prefillss2': -0.0006906357818261959, 'intercept': 0.006046178858615013, 'schedule_time': 456.0449841946286, 'update_time': 70.49677600571404, 'queue_overhead': 799.1119514399802, 'vllm_overhead': 7195.4754924762}. Best is trial 113 with value: 0.2901542826719438.\n",
      "[I 2025-07-14 13:59:53,875] Trial 145 finished with value: 0.3059176168247333 and parameters: {'sum_decode_tokens': 2.6132343160051075e-05, 'sum_prefill_tokens': 9.607065740211353e-06, 'max_prefill_tokens': -3.7144828088663704e-06, 'num_prefills': 0.0017016704350769174, 'sum_decode_tokenss2': 4.0164724518573476e-08, 'sum_decode_tokensmsumprefill_tokens': -1.261593838939018e-07, 'sum_decode_tokensmmaxprefill_tokens': 1.5653692390794852e-07, 'sum_decode_tokensmnumprefills': 3.218034464671325e-05, 'sum_prefill_tokenss2': -7.849767812807649e-09, 'sum_prefill_tokensmmaxprefill_tokens': 2.2171749032665006e-08, 'sum_prefill_tokensmnumprefills': 6.631952000752598e-06, 'max_prefill_tokenss2': -9.340905700378546e-09, 'max_prefill_tokensmnumprefills': -1.054503150132888e-05, 'num_prefillss2': -0.000708673486895011, 'intercept': 0.006042723720888256, 'schedule_time': 446.4944346610256, 'update_time': 71.08420274921056, 'queue_overhead': 803.6432410855605, 'vllm_overhead': 7205.595668922376}. Best is trial 113 with value: 0.2901542826719438.\n",
      "[I 2025-07-14 13:59:55,346] Trial 146 finished with value: 0.2965020906029942 and parameters: {'sum_decode_tokens': 2.6655787111291585e-05, 'sum_prefill_tokens': 9.32279761076916e-06, 'max_prefill_tokens': -3.684605690054246e-06, 'num_prefills': 0.0017504395398971592, 'sum_decode_tokenss2': 4.082786487222814e-08, 'sum_decode_tokensmsumprefill_tokens': -1.2972812432680313e-07, 'sum_decode_tokensmmaxprefill_tokens': 1.5121598076681255e-07, 'sum_decode_tokensmnumprefills': 3.199917293768538e-05, 'sum_prefill_tokenss2': -7.794140962065883e-09, 'sum_prefill_tokensmmaxprefill_tokens': 2.2497107831936574e-08, 'sum_prefill_tokensmnumprefills': 6.853357606910219e-06, 'max_prefill_tokenss2': -9.215269805625472e-09, 'max_prefill_tokensmnumprefills': -1.0238600812051402e-05, 'num_prefillss2': -0.0006923901195654835, 'intercept': 0.0060907304836689225, 'schedule_time': 458.01139357812514, 'update_time': 73.85774246297198, 'queue_overhead': 831.8416545513383, 'vllm_overhead': 7076.54749416052}. Best is trial 113 with value: 0.2901542826719438.\n",
      "[I 2025-07-14 13:59:56,702] Trial 147 finished with value: 0.2946788885349351 and parameters: {'sum_decode_tokens': 2.656514841358897e-05, 'sum_prefill_tokens': 9.376847577847096e-06, 'max_prefill_tokens': -3.6674682843498443e-06, 'num_prefills': 0.0017543552216296317, 'sum_decode_tokenss2': 4.1706232105499036e-08, 'sum_decode_tokensmsumprefill_tokens': -1.282708248519058e-07, 'sum_decode_tokensmmaxprefill_tokens': 1.521134473474843e-07, 'sum_decode_tokensmnumprefills': 3.2003699622910656e-05, 'sum_prefill_tokenss2': -7.508553138478681e-09, 'sum_prefill_tokensmmaxprefill_tokens': 2.206963111447049e-08, 'sum_prefill_tokensmnumprefills': 6.849585810634383e-06, 'max_prefill_tokenss2': -9.240491836966126e-09, 'max_prefill_tokensmnumprefills': -1.023497952626474e-05, 'num_prefillss2': -0.0006901303001619454, 'intercept': 0.006061018020571772, 'schedule_time': 457.5417013050004, 'update_time': 72.19761172458357, 'queue_overhead': 791.0756468335766, 'vllm_overhead': 7062.656146524035}. Best is trial 113 with value: 0.2901542826719438.\n",
      "[I 2025-07-14 13:59:58,150] Trial 148 finished with value: 0.2994995456004678 and parameters: {'sum_decode_tokens': 2.6118927967579243e-05, 'sum_prefill_tokens': 9.311540708616396e-06, 'max_prefill_tokens': -3.6580746696063736e-06, 'num_prefills': 0.0017512129828225027, 'sum_decode_tokenss2': 4.1741390564697214e-08, 'sum_decode_tokensmsumprefill_tokens': -1.287394363600639e-07, 'sum_decode_tokensmmaxprefill_tokens': 1.547590269457001e-07, 'sum_decode_tokensmnumprefills': 3.200479400902506e-05, 'sum_prefill_tokenss2': -7.50017971426381e-09, 'sum_prefill_tokensmmaxprefill_tokens': 2.2057289649897053e-08, 'sum_prefill_tokensmnumprefills': 6.845535823308435e-06, 'max_prefill_tokenss2': -9.2688262096905e-09, 'max_prefill_tokensmnumprefills': -1.0283704905928971e-05, 'num_prefillss2': -0.000690357638585982, 'intercept': 0.0062202373017906576, 'schedule_time': 433.7684128045562, 'update_time': 72.13549690368112, 'queue_overhead': 791.2510343132186, 'vllm_overhead': 7082.927250280095}. Best is trial 113 with value: 0.2901542826719438.\n",
      "[I 2025-07-14 13:59:59,562] Trial 149 finished with value: 0.29732321179374577 and parameters: {'sum_decode_tokens': 2.6525275550069867e-05, 'sum_prefill_tokens': 9.131809587534947e-06, 'max_prefill_tokens': -3.6444814289933113e-06, 'num_prefills': 0.0016730638093684974, 'sum_decode_tokenss2': 4.1855882861650555e-08, 'sum_decode_tokensmsumprefill_tokens': -1.2797468634316294e-07, 'sum_decode_tokensmmaxprefill_tokens': 1.5327221946018027e-07, 'sum_decode_tokensmnumprefills': 3.203712369052748e-05, 'sum_prefill_tokenss2': -7.487431397658071e-09, 'sum_prefill_tokensmmaxprefill_tokens': 2.1942430231631956e-08, 'sum_prefill_tokensmnumprefills': 6.845879743494839e-06, 'max_prefill_tokenss2': -9.227527016010329e-09, 'max_prefill_tokensmnumprefills': -1.0203984526606506e-05, 'num_prefillss2': -0.0006918622027774897, 'intercept': 0.006207350632131214, 'schedule_time': 431.3001928301339, 'update_time': 73.42979215567576, 'queue_overhead': 794.5664868960013, 'vllm_overhead': 6917.221531486034}. Best is trial 113 with value: 0.2901542826719438.\n",
      "[I 2025-07-14 14:00:00,964] Trial 150 finished with value: 0.2969849896758526 and parameters: {'sum_decode_tokens': 2.6615328104849962e-05, 'sum_prefill_tokens': 9.164958108009e-06, 'max_prefill_tokens': -3.6069553947314453e-06, 'num_prefills': 0.0016663046633307815, 'sum_decode_tokenss2': 4.187403844381067e-08, 'sum_decode_tokensmsumprefill_tokens': -1.2548572032713443e-07, 'sum_decode_tokensmmaxprefill_tokens': 1.5352300250856472e-07, 'sum_decode_tokensmnumprefills': 3.127072762102841e-05, 'sum_prefill_tokenss2': -7.478688585302101e-09, 'sum_prefill_tokensmmaxprefill_tokens': 2.2023296614653058e-08, 'sum_prefill_tokensmnumprefills': 6.710850237161993e-06, 'max_prefill_tokenss2': -9.18416879593819e-09, 'max_prefill_tokensmnumprefills': -1.0185188544145005e-05, 'num_prefillss2': -0.0006901481965081051, 'intercept': 0.006186120477019016, 'schedule_time': 434.8020410086353, 'update_time': 74.07918422519836, 'queue_overhead': 786.1693449592174, 'vllm_overhead': 6735.938248309347}. Best is trial 113 with value: 0.2901542826719438.\n",
      "[I 2025-07-14 14:00:02,310] Trial 151 finished with value: 0.2982686887282581 and parameters: {'sum_decode_tokens': 2.654632220631403e-05, 'sum_prefill_tokens': 9.127491783935461e-06, 'max_prefill_tokens': -3.5899354089050363e-06, 'num_prefills': 0.0016755976227993113, 'sum_decode_tokenss2': 4.276456259676785e-08, 'sum_decode_tokensmsumprefill_tokens': -1.251669108482093e-07, 'sum_decode_tokensmmaxprefill_tokens': 1.5380660307753802e-07, 'sum_decode_tokensmnumprefills': 3.1999258652342914e-05, 'sum_prefill_tokenss2': -7.38505832400518e-09, 'sum_prefill_tokensmmaxprefill_tokens': 2.193895546866523e-08, 'sum_prefill_tokensmnumprefills': 6.7716431098780726e-06, 'max_prefill_tokenss2': -9.203880821063738e-09, 'max_prefill_tokensmnumprefills': -1.0236149242742701e-05, 'num_prefillss2': -0.0006909144346714959, 'intercept': 0.006220546817698109, 'schedule_time': 437.0685533470703, 'update_time': 73.64668037936951, 'queue_overhead': 783.2100099225208, 'vllm_overhead': 6886.59023006088}. Best is trial 113 with value: 0.2901542826719438.\n",
      "[I 2025-07-14 14:00:03,650] Trial 152 finished with value: 0.2993532583171972 and parameters: {'sum_decode_tokens': 2.6116973635839194e-05, 'sum_prefill_tokens': 9.105179922948478e-06, 'max_prefill_tokens': -3.597250548470585e-06, 'num_prefills': 0.0016435053544395105, 'sum_decode_tokenss2': 4.200504080687052e-08, 'sum_decode_tokensmsumprefill_tokens': -1.2485212628980538e-07, 'sum_decode_tokensmmaxprefill_tokens': 1.566132789395479e-07, 'sum_decode_tokensmnumprefills': 3.197502905849879e-05, 'sum_prefill_tokenss2': -7.349718483946414e-09, 'sum_prefill_tokensmmaxprefill_tokens': 2.198427350794944e-08, 'sum_prefill_tokensmnumprefills': 6.768397595816575e-06, 'max_prefill_tokenss2': -9.278945074025916e-09, 'max_prefill_tokensmnumprefills': -9.8790607583455e-06, 'num_prefillss2': -0.0006901577625906333, 'intercept': 0.0061963859864407715, 'schedule_time': 434.777208959804, 'update_time': 73.82764457928891, 'queue_overhead': 797.2257535046759, 'vllm_overhead': 6761.71010835247}. Best is trial 113 with value: 0.2901542826719438.\n",
      "[I 2025-07-14 14:00:05,013] Trial 153 finished with value: 0.31344475818127626 and parameters: {'sum_decode_tokens': 2.6494134516243045e-05, 'sum_prefill_tokens': 9.120152644450149e-06, 'max_prefill_tokens': -3.57927178978346e-06, 'num_prefills': 0.0016401309398382166, 'sum_decode_tokenss2': 4.185939491927745e-08, 'sum_decode_tokensmsumprefill_tokens': -1.251958387852835e-07, 'sum_decode_tokensmmaxprefill_tokens': 1.562987816924614e-07, 'sum_decode_tokensmnumprefills': 3.134448102129827e-05, 'sum_prefill_tokenss2': -7.1508164877945415e-09, 'sum_prefill_tokensmmaxprefill_tokens': 2.19799331722147e-08, 'sum_prefill_tokensmnumprefills': 6.722348549698184e-06, 'max_prefill_tokenss2': -9.238384322332108e-09, 'max_prefill_tokensmnumprefills': -9.791290688948252e-06, 'num_prefillss2': -0.0007070285092800002, 'intercept': 0.006175829743020197, 'schedule_time': 437.3945865204536, 'update_time': 73.76140279809822, 'queue_overhead': 798.002036158599, 'vllm_overhead': 6795.522456099229}. Best is trial 113 with value: 0.2901542826719438.\n",
      "[I 2025-07-14 14:00:06,398] Trial 154 finished with value: 0.30782641200940275 and parameters: {'sum_decode_tokens': 2.6955402150115805e-05, 'sum_prefill_tokens': 9.228357146869862e-06, 'max_prefill_tokens': -3.6068252305883967e-06, 'num_prefills': 0.0016127349511274917, 'sum_decode_tokenss2': 4.266079578279791e-08, 'sum_decode_tokensmsumprefill_tokens': -1.2459933504650776e-07, 'sum_decode_tokensmmaxprefill_tokens': 1.593342082871278e-07, 'sum_decode_tokensmnumprefills': 3.254954394740252e-05, 'sum_prefill_tokenss2': -6.883798259546686e-09, 'sum_prefill_tokensmmaxprefill_tokens': 2.144506467795662e-08, 'sum_prefill_tokensmnumprefills': 6.668290332952787e-06, 'max_prefill_tokenss2': -9.168936126915098e-09, 'max_prefill_tokensmnumprefills': -1.0176862784473252e-05, 'num_prefillss2': -0.0006984804641459081, 'intercept': 0.006115907137151883, 'schedule_time': 432.06871637980197, 'update_time': 75.84653475950972, 'queue_overhead': 764.3987490384054, 'vllm_overhead': 6720.206614354298}. Best is trial 113 with value: 0.2901542826719438.\n",
      "[I 2025-07-14 14:00:07,754] Trial 155 finished with value: 0.3052019634161935 and parameters: {'sum_decode_tokens': 2.665328192845302e-05, 'sum_prefill_tokens': 9.398982021467537e-06, 'max_prefill_tokens': -3.6279572965822106e-06, 'num_prefills': 0.0016786488872859578, 'sum_decode_tokenss2': 4.32449519722364e-08, 'sum_decode_tokensmsumprefill_tokens': -1.2660980895138467e-07, 'sum_decode_tokensmmaxprefill_tokens': 1.4869953425967386e-07, 'sum_decode_tokensmnumprefills': 3.202794135959732e-05, 'sum_prefill_tokenss2': -7.349299449400215e-09, 'sum_prefill_tokensmmaxprefill_tokens': 2.187836065130107e-08, 'sum_prefill_tokensmnumprefills': 6.781913714059219e-06, 'max_prefill_tokenss2': -9.008730558685424e-09, 'max_prefill_tokensmnumprefills': -9.93720874696763e-06, 'num_prefillss2': -0.0007054814764908235, 'intercept': 0.00607138571582665, 'schedule_time': 442.56049631613166, 'update_time': 74.14627771646818, 'queue_overhead': 781.4385011783384, 'vllm_overhead': 6889.377063641767}. Best is trial 113 with value: 0.2901542826719438.\n",
      "[I 2025-07-14 14:00:09,120] Trial 156 finished with value: 0.2967018003593069 and parameters: {'sum_decode_tokens': 2.610080238606028e-05, 'sum_prefill_tokens': 9.163498119635266e-06, 'max_prefill_tokens': -3.6813064561637157e-06, 'num_prefills': 0.0016694816393897352, 'sum_decode_tokenss2': 5.298867029692015e-08, 'sum_decode_tokensmsumprefill_tokens': -1.2771365718755499e-07, 'sum_decode_tokensmmaxprefill_tokens': 1.5327959944680327e-07, 'sum_decode_tokensmnumprefills': 3.1511262278592274e-05, 'sum_prefill_tokenss2': -7.205839696346775e-09, 'sum_prefill_tokensmmaxprefill_tokens': 2.2276236071052362e-08, 'sum_prefill_tokensmnumprefills': 6.5477098230293435e-06, 'max_prefill_tokenss2': -9.37522295536887e-09, 'max_prefill_tokensmnumprefills': -1.021061639291382e-05, 'num_prefillss2': -0.0006903693641204977, 'intercept': 0.006204684496095195, 'schedule_time': 445.02487403022093, 'update_time': 72.70071578993557, 'queue_overhead': 810.1956315917668, 'vllm_overhead': 6784.0342842527}. Best is trial 113 with value: 0.2901542826719438.\n",
      "[I 2025-07-14 14:00:10,484] Trial 157 finished with value: 0.3118996041896922 and parameters: {'sum_decode_tokens': 2.5384023987160426e-05, 'sum_prefill_tokens': 9.189906649883611e-06, 'max_prefill_tokens': -3.6882500447455867e-06, 'num_prefills': 0.0016734057693328806, 'sum_decode_tokenss2': 4.702908645411605e-08, 'sum_decode_tokensmsumprefill_tokens': -1.2747689857028047e-07, 'sum_decode_tokensmmaxprefill_tokens': 1.5333381023558838e-07, 'sum_decode_tokensmnumprefills': 3.126213658003038e-05, 'sum_prefill_tokenss2': -7.223283957250828e-09, 'sum_prefill_tokensmmaxprefill_tokens': 2.2247099712910712e-08, 'sum_prefill_tokensmnumprefills': 6.513373610021264e-06, 'max_prefill_tokenss2': -8.909471677060413e-09, 'max_prefill_tokensmnumprefills': -1.0176288286999689e-05, 'num_prefillss2': -0.0007141667794073082, 'intercept': 0.006327481154420603, 'schedule_time': 445.6321773087936, 'update_time': 72.34115275560403, 'queue_overhead': 813.511240935768, 'vllm_overhead': 6677.538415942464}. Best is trial 113 with value: 0.2901542826719438.\n",
      "[I 2025-07-14 14:00:11,876] Trial 158 finished with value: 0.3003192747119786 and parameters: {'sum_decode_tokens': 2.6520090023671985e-05, 'sum_prefill_tokens': 9.378025182030168e-06, 'max_prefill_tokens': -3.6550468330729885e-06, 'num_prefills': 0.0016915629812605268, 'sum_decode_tokenss2': 4.971797764544622e-08, 'sum_decode_tokensmsumprefill_tokens': -1.280611065718347e-07, 'sum_decode_tokensmmaxprefill_tokens': 1.4683135219768625e-07, 'sum_decode_tokensmnumprefills': 3.152938013526595e-05, 'sum_prefill_tokenss2': -7.432109385571977e-09, 'sum_prefill_tokensmmaxprefill_tokens': 2.258325445813494e-08, 'sum_prefill_tokensmnumprefills': 6.612283410585479e-06, 'max_prefill_tokenss2': -9.376740513564287e-09, 'max_prefill_tokensmnumprefills': -1.0335229158728984e-05, 'num_prefillss2': -0.0007005098488800385, 'intercept': 0.006124569143948876, 'schedule_time': 451.6943264279188, 'update_time': 75.23303284635911, 'queue_overhead': 829.8363485885665, 'vllm_overhead': 6942.092705747161}. Best is trial 113 with value: 0.2901542826719438.\n",
      "[I 2025-07-14 14:00:13,242] Trial 159 finished with value: 0.3009547042405001 and parameters: {'sum_decode_tokens': 2.6995741311459417e-05, 'sum_prefill_tokens': 9.305842457097572e-06, 'max_prefill_tokens': -3.677325061450649e-06, 'num_prefills': 0.001657669120754516, 'sum_decode_tokenss2': 5.2457736515009605e-08, 'sum_decode_tokensmsumprefill_tokens': -1.2586597081406994e-07, 'sum_decode_tokensmmaxprefill_tokens': 1.5270855088057114e-07, 'sum_decode_tokensmnumprefills': 3.1725336250526905e-05, 'sum_prefill_tokenss2': -7.57996402595246e-09, 'sum_prefill_tokensmmaxprefill_tokens': 3.112173441620153e-08, 'sum_prefill_tokensmnumprefills': 6.546085963045731e-06, 'max_prefill_tokenss2': -9.099264611307722e-09, 'max_prefill_tokensmnumprefills': -1.0083968151678816e-05, 'num_prefillss2': -0.0006899484705603546, 'intercept': 0.006008019215987648, 'schedule_time': 441.8724867671224, 'update_time': 73.35319929181199, 'queue_overhead': 770.9754421333365, 'vllm_overhead': 6822.498514606969}. Best is trial 113 with value: 0.2901542826719438.\n",
      "[I 2025-07-14 14:00:14,639] Trial 160 finished with value: 0.387946468924345 and parameters: {'sum_decode_tokens': 3.823024567128763e-05, 'sum_prefill_tokens': 9.036540872544824e-06, 'max_prefill_tokens': -3.721403936984541e-06, 'num_prefills': 0.0017184639965556615, 'sum_decode_tokenss2': 3.972534282664081e-08, 'sum_decode_tokensmsumprefill_tokens': -1.2837431889502702e-07, 'sum_decode_tokensmmaxprefill_tokens': 1.601969558216687e-07, 'sum_decode_tokensmnumprefills': 3.217949244004535e-05, 'sum_prefill_tokenss2': -7.792161570609705e-09, 'sum_prefill_tokensmmaxprefill_tokens': 2.233323427572474e-08, 'sum_prefill_tokensmnumprefills': 6.871169856362196e-06, 'max_prefill_tokenss2': -9.673385036410418e-09, 'max_prefill_tokensmnumprefills': -1.0213229186175638e-05, 'num_prefillss2': -0.0007270760783294192, 'intercept': 0.006071507862088781, 'schedule_time': 456.43430819375374, 'update_time': 71.86816357740729, 'queue_overhead': 805.2716326900827, 'vllm_overhead': 6963.791790701408}. Best is trial 113 with value: 0.2901542826719438.\n",
      "[I 2025-07-14 14:00:16,023] Trial 161 finished with value: 0.29966260085397906 and parameters: {'sum_decode_tokens': 2.6137240510616225e-05, 'sum_prefill_tokens': 9.09146809951128e-06, 'max_prefill_tokens': -3.595130178416326e-06, 'num_prefills': 0.0016664470223150764, 'sum_decode_tokenss2': 4.9090007981036687e-08, 'sum_decode_tokensmsumprefill_tokens': -1.2369413636418178e-07, 'sum_decode_tokensmmaxprefill_tokens': 1.570521721331121e-07, 'sum_decode_tokensmnumprefills': 3.195348127741419e-05, 'sum_prefill_tokenss2': -7.3422392433353345e-09, 'sum_prefill_tokensmmaxprefill_tokens': 2.182413056925723e-08, 'sum_prefill_tokensmnumprefills': 6.708637851787915e-06, 'max_prefill_tokenss2': -9.20721028497774e-09, 'max_prefill_tokensmnumprefills': -9.854552026174447e-06, 'num_prefillss2': -0.0006901650458042538, 'intercept': 0.006211028671864483, 'schedule_time': 437.44592872236, 'update_time': 73.27988365756104, 'queue_overhead': 789.8624083185638, 'vllm_overhead': 6483.463056358922}. Best is trial 113 with value: 0.2901542826719438.\n",
      "[I 2025-07-14 14:00:17,530] Trial 162 finished with value: 0.3047896258324817 and parameters: {'sum_decode_tokens': 2.615670643337128e-05, 'sum_prefill_tokens': 9.1739159256219e-06, 'max_prefill_tokens': -3.640138278437927e-06, 'num_prefills': 0.0016940773053459618, 'sum_decode_tokenss2': 4.0616858461772445e-08, 'sum_decode_tokensmsumprefill_tokens': -1.2496444459101901e-07, 'sum_decode_tokensmmaxprefill_tokens': 1.5529025769857636e-07, 'sum_decode_tokensmnumprefills': 3.254548926575542e-05, 'sum_prefill_tokenss2': -7.184093096515461e-09, 'sum_prefill_tokensmmaxprefill_tokens': 2.2119934775172417e-08, 'sum_prefill_tokensmnumprefills': 6.730336365541737e-06, 'max_prefill_tokenss2': -9.354575992736767e-09, 'max_prefill_tokensmnumprefills': -9.760301070306389e-06, 'num_prefillss2': -0.0007078691004963367, 'intercept': 0.006187439818889383, 'schedule_time': 430.35065414573876, 'update_time': 74.46453143131883, 'queue_overhead': 801.317348730126, 'vllm_overhead': 6902.916483619168}. Best is trial 113 with value: 0.2901542826719438.\n",
      "[I 2025-07-14 14:00:18,993] Trial 163 finished with value: 0.30392750521918677 and parameters: {'sum_decode_tokens': 2.5943152337611694e-05, 'sum_prefill_tokens': 9.417273279831739e-06, 'max_prefill_tokens': -3.684981335321275e-06, 'num_prefills': 0.0016419468788617076, 'sum_decode_tokenss2': 4.1984298412224766e-08, 'sum_decode_tokensmsumprefill_tokens': -1.211815870517765e-07, 'sum_decode_tokensmmaxprefill_tokens': 1.4914994494312618e-07, 'sum_decode_tokensmnumprefills': 3.1984679872821965e-05, 'sum_prefill_tokenss2': -6.9604875353236395e-09, 'sum_prefill_tokensmmaxprefill_tokens': 2.1527545421427164e-08, 'sum_prefill_tokensmnumprefills': 6.7937705919194236e-06, 'max_prefill_tokenss2': -9.230811447075439e-09, 'max_prefill_tokensmnumprefills': -9.665666684709935e-06, 'num_prefillss2': -0.0006992423908983675, 'intercept': 0.006140465158513098, 'schedule_time': 445.67141336391984, 'update_time': 75.15052084083865, 'queue_overhead': 819.8904278968002, 'vllm_overhead': 6641.346286142805}. Best is trial 113 with value: 0.2901542826719438.\n",
      "[I 2025-07-14 14:00:20,457] Trial 164 finished with value: 0.3998519301056719 and parameters: {'sum_decode_tokens': 2.6654617902322224e-05, 'sum_prefill_tokens': 9.278997867937955e-06, 'max_prefill_tokens': -3.635321811079085e-06, 'num_prefills': 0.0017373358688279412, 'sum_decode_tokenss2': 4.0281026993827585e-08, 'sum_decode_tokensmsumprefill_tokens': -1.2675633304514648e-07, 'sum_decode_tokensmmaxprefill_tokens': 1.5371100930423345e-07, 'sum_decode_tokensmnumprefills': 2.5838767561604366e-05, 'sum_prefill_tokenss2': -7.507438981980482e-09, 'sum_prefill_tokensmmaxprefill_tokens': 2.2552190127453448e-08, 'sum_prefill_tokensmnumprefills': 6.620748234940802e-06, 'max_prefill_tokenss2': -8.992728445496607e-09, 'max_prefill_tokensmnumprefills': -1.04240554579833e-05, 'num_prefillss2': -0.0007130450287524386, 'intercept': 0.005975220449222849, 'schedule_time': 435.32939862497875, 'update_time': 70.86705970860484, 'queue_overhead': 793.3168825255473, 'vllm_overhead': 7048.378382781656}. Best is trial 113 with value: 0.2901542826719438.\n",
      "[I 2025-07-14 14:00:21,945] Trial 165 finished with value: 0.3075378480283084 and parameters: {'sum_decode_tokens': 2.637518459072255e-05, 'sum_prefill_tokens': 9.485515343192966e-06, 'max_prefill_tokens': -3.723968669636004e-06, 'num_prefills': 0.001652051804058062, 'sum_decode_tokenss2': 5.198900048270142e-08, 'sum_decode_tokensmsumprefill_tokens': -1.2920370324070747e-07, 'sum_decode_tokensmmaxprefill_tokens': 1.571298721481452e-07, 'sum_decode_tokensmnumprefills': 3.2175166247501994e-05, 'sum_prefill_tokenss2': -8.034920810119984e-09, 'sum_prefill_tokensmmaxprefill_tokens': 2.1832370769999776e-08, 'sum_prefill_tokensmnumprefills': 6.925030653693643e-06, 'max_prefill_tokenss2': -9.148240583326948e-09, 'max_prefill_tokensmnumprefills': -1.0023429406526101e-05, 'num_prefillss2': -0.0006984165783876126, 'intercept': 0.006230676650779086, 'schedule_time': 454.9316383491493, 'update_time': 72.58073355746619, 'queue_overhead': 810.1408527650428, 'vllm_overhead': 6777.8946804291145}. Best is trial 113 with value: 0.2901542826719438.\n",
      "[I 2025-07-14 14:00:23,382] Trial 166 finished with value: 0.29567969674970657 and parameters: {'sum_decode_tokens': 2.6933780195896693e-05, 'sum_prefill_tokens': 8.976614229599105e-06, 'max_prefill_tokens': -3.6730145553545364e-06, 'num_prefills': 0.0017231661837653596, 'sum_decode_tokenss2': 3.99474453367394e-08, 'sum_decode_tokensmsumprefill_tokens': -1.2793381138686048e-07, 'sum_decode_tokensmmaxprefill_tokens': 1.5239221164117853e-07, 'sum_decode_tokensmnumprefills': 3.1593654976466795e-05, 'sum_prefill_tokenss2': -7.374048850001205e-09, 'sum_prefill_tokensmmaxprefill_tokens': 2.222691016530272e-08, 'sum_prefill_tokensmnumprefills': 6.456917931079402e-06, 'max_prefill_tokenss2': -9.307625824601949e-09, 'max_prefill_tokensmnumprefills': -9.956083566144064e-06, 'num_prefillss2': -0.0006902426474968665, 'intercept': 0.006302549482130819, 'schedule_time': 448.25721776139846, 'update_time': 73.71296272219197, 'queue_overhead': 839.0487059796396, 'vllm_overhead': 7016.453690543923}. Best is trial 113 with value: 0.2901542826719438.\n",
      "[I 2025-07-14 14:00:24,805] Trial 167 finished with value: 0.29991951457904675 and parameters: {'sum_decode_tokens': 2.6897384250354856e-05, 'sum_prefill_tokens': 8.958172060390647e-06, 'max_prefill_tokens': -3.6887435713189525e-06, 'num_prefills': 0.0017252793726158645, 'sum_decode_tokenss2': 3.9530410875225336e-08, 'sum_decode_tokensmsumprefill_tokens': -1.2776984745964316e-07, 'sum_decode_tokensmmaxprefill_tokens': 1.5185296666858874e-07, 'sum_decode_tokensmnumprefills': 3.168767120484776e-05, 'sum_prefill_tokenss2': -7.576546153671736e-09, 'sum_prefill_tokensmmaxprefill_tokens': 2.24954696912722e-08, 'sum_prefill_tokensmnumprefills': 6.55025855869613e-06, 'max_prefill_tokenss2': -9.652770710245434e-09, 'max_prefill_tokensmnumprefills': -1.0222619911753249e-05, 'num_prefillss2': -0.0007081300171061203, 'intercept': 0.006318062288736333, 'schedule_time': 450.7392996433934, 'update_time': 76.19815921176078, 'queue_overhead': 841.8799499026879, 'vllm_overhead': 7037.320406480545}. Best is trial 113 with value: 0.2901542826719438.\n",
      "[I 2025-07-14 14:00:26,154] Trial 168 finished with value: 0.3229765511468269 and parameters: {'sum_decode_tokens': 2.7025437772955872e-05, 'sum_prefill_tokens': 8.799697075408175e-06, 'max_prefill_tokens': -3.7350825631643333e-06, 'num_prefills': 0.0016885408641715894, 'sum_decode_tokenss2': 4.0009328738833385e-08, 'sum_decode_tokensmsumprefill_tokens': -1.29292515977723e-07, 'sum_decode_tokensmmaxprefill_tokens': 1.497680128352751e-07, 'sum_decode_tokensmnumprefills': 3.1235712868465045e-05, 'sum_prefill_tokenss2': -7.750048728816733e-09, 'sum_prefill_tokensmmaxprefill_tokens': 2.2164517186428896e-08, 'sum_prefill_tokensmnumprefills': 6.8452550662685965e-06, 'max_prefill_tokenss2': -9.439516900827427e-09, 'max_prefill_tokensmnumprefills': -1.0478410863288413e-05, 'num_prefillss2': -0.000718418950091739, 'intercept': 0.006046379648567453, 'schedule_time': 448.0426139072509, 'update_time': 71.81021541269341, 'queue_overhead': 829.0857154729795, 'vllm_overhead': 7173.499058693782}. Best is trial 113 with value: 0.2901542826719438.\n",
      "[I 2025-07-14 14:00:27,526] Trial 169 finished with value: 0.36159343387390436 and parameters: {'sum_decode_tokens': 3.725979120733459e-05, 'sum_prefill_tokens': 9.742110106941001e-06, 'max_prefill_tokens': -3.6716610328963604e-06, 'num_prefills': 0.0017083068498601926, 'sum_decode_tokenss2': 4.068404351208891e-08, 'sum_decode_tokensmsumprefill_tokens': -1.3008066920159893e-07, 'sum_decode_tokensmmaxprefill_tokens': 1.4696127179451843e-07, 'sum_decode_tokensmnumprefills': 3.148143787790489e-05, 'sum_prefill_tokenss2': -7.465513369854753e-09, 'sum_prefill_tokensmmaxprefill_tokens': 2.2908594057643904e-08, 'sum_prefill_tokensmnumprefills': 6.466695635154222e-06, 'max_prefill_tokenss2': -9.066866565873034e-09, 'max_prefill_tokensmnumprefills': -1.0279203453048936e-05, 'num_prefillss2': -0.0007027189712085582, 'intercept': 0.006101300629981776, 'schedule_time': 458.17619559109926, 'update_time': 70.31509682747195, 'queue_overhead': 839.6040964183073, 'vllm_overhead': 6973.647193838702}. Best is trial 113 with value: 0.2901542826719438.\n",
      "[I 2025-07-14 14:00:28,898] Trial 170 finished with value: 0.3010292519353799 and parameters: {'sum_decode_tokens': 2.6576280659419117e-05, 'sum_prefill_tokens': 9.21781735087048e-06, 'max_prefill_tokens': -3.771846128276946e-06, 'num_prefills': 0.0017321557084373203, 'sum_decode_tokenss2': 3.4658348719437e-08, 'sum_decode_tokensmsumprefill_tokens': -1.2613413961550577e-07, 'sum_decode_tokensmmaxprefill_tokens': 1.5131898830531836e-07, 'sum_decode_tokensmnumprefills': 3.0614191590616854e-05, 'sum_prefill_tokenss2': -8.292258366847622e-09, 'sum_prefill_tokensmmaxprefill_tokens': 2.124127455347331e-08, 'sum_prefill_tokensmnumprefills': 6.650572070290375e-06, 'max_prefill_tokenss2': -9.36077966078174e-09, 'max_prefill_tokensmnumprefills': -9.991550764269455e-06, 'num_prefillss2': -0.0006899956719527014, 'intercept': 0.005953652341642227, 'schedule_time': 440.6757721999272, 'update_time': 71.54403663289844, 'queue_overhead': 817.8367745126114, 'vllm_overhead': 7228.45272711962}. Best is trial 113 with value: 0.2901542826719438.\n",
      "[I 2025-07-14 14:00:30,255] Trial 171 finished with value: 0.2957960301569669 and parameters: {'sum_decode_tokens': 2.590292649142289e-05, 'sum_prefill_tokens': 9.071539942437085e-06, 'max_prefill_tokens': -3.5739965000598734e-06, 'num_prefills': 0.0016769065972040457, 'sum_decode_tokenss2': 4.047537653106989e-08, 'sum_decode_tokensmsumprefill_tokens': -1.2746466353278243e-07, 'sum_decode_tokensmmaxprefill_tokens': 1.5440294741402738e-07, 'sum_decode_tokensmnumprefills': 3.1909365240007274e-05, 'sum_prefill_tokenss2': -7.3800082734608455e-09, 'sum_prefill_tokensmmaxprefill_tokens': 2.2309238421735975e-08, 'sum_prefill_tokensmnumprefills': 6.380093070495681e-06, 'max_prefill_tokenss2': -9.284133182030773e-09, 'max_prefill_tokensmnumprefills': -1.0369005068107184e-05, 'num_prefillss2': -0.0006899849130102097, 'intercept': 0.006161602389024126, 'schedule_time': 431.6653087424522, 'update_time': 73.81211812553653, 'queue_overhead': 782.54675730665, 'vllm_overhead': 7083.438108383461}. Best is trial 113 with value: 0.2901542826719438.\n",
      "[I 2025-07-14 14:00:31,615] Trial 172 finished with value: 0.30440019589099077 and parameters: {'sum_decode_tokens': 2.5834156049697033e-05, 'sum_prefill_tokens': 9.008968448826015e-06, 'max_prefill_tokens': -3.616658872938725e-06, 'num_prefills': 0.001676927600670504, 'sum_decode_tokenss2': 3.9960909057692516e-08, 'sum_decode_tokensmsumprefill_tokens': -1.2793469971957345e-07, 'sum_decode_tokensmmaxprefill_tokens': 1.5422098453053865e-07, 'sum_decode_tokensmnumprefills': 3.17890826864833e-05, 'sum_prefill_tokenss2': -7.0960652849755244e-09, 'sum_prefill_tokensmmaxprefill_tokens': 2.2538583616959628e-08, 'sum_prefill_tokensmnumprefills': 6.487345462026016e-06, 'max_prefill_tokenss2': -9.181080252872601e-09, 'max_prefill_tokensmnumprefills': -1.0129851693482727e-05, 'num_prefillss2': -0.000699195090882966, 'intercept': 0.006149015606007989, 'schedule_time': 430.46878460530155, 'update_time': 73.79314089189039, 'queue_overhead': 780.7110278358475, 'vllm_overhead': 7078.551049429146}. Best is trial 113 with value: 0.2901542826719438.\n",
      "[I 2025-07-14 14:00:32,992] Trial 173 finished with value: 0.3005764696659316 and parameters: {'sum_decode_tokens': 2.6398611394043652e-05, 'sum_prefill_tokens': 9.390759905565852e-06, 'max_prefill_tokens': -3.650487551465254e-06, 'num_prefills': 0.0017559662585653398, 'sum_decode_tokenss2': 3.938703083465811e-08, 'sum_decode_tokensmsumprefill_tokens': -1.271808492883106e-07, 'sum_decode_tokensmmaxprefill_tokens': 1.5504459771668333e-07, 'sum_decode_tokensmnumprefills': 3.223237315441449e-05, 'sum_prefill_tokenss2': -7.2611012736427e-09, 'sum_prefill_tokensmmaxprefill_tokens': 2.229307916302731e-08, 'sum_prefill_tokensmnumprefills': 6.700817901783071e-06, 'max_prefill_tokenss2': -9.494673846770757e-09, 'max_prefill_tokensmnumprefills': -1.0343610989081207e-05, 'num_prefillss2': -0.0006990373475841841, 'intercept': 0.006261984715252392, 'schedule_time': 443.72425628451344, 'update_time': 74.75664752947637, 'queue_overhead': 757.6603632810454, 'vllm_overhead': 7000.944068269722}. Best is trial 113 with value: 0.2901542826719438.\n",
      "[I 2025-07-14 14:00:34,434] Trial 174 finished with value: 0.307277828005582 and parameters: {'sum_decode_tokens': 2.723033678996385e-05, 'sum_prefill_tokens': 9.137257073914088e-06, 'max_prefill_tokens': -3.7103824051401197e-06, 'num_prefills': 0.001718709274223031, 'sum_decode_tokenss2': 4.149055423819446e-08, 'sum_decode_tokensmsumprefill_tokens': -1.2989544088400296e-07, 'sum_decode_tokensmmaxprefill_tokens': 1.51297256947516e-07, 'sum_decode_tokensmnumprefills': 3.2171940855932084e-05, 'sum_prefill_tokenss2': -7.38481482428377e-09, 'sum_prefill_tokensmmaxprefill_tokens': 2.166700901893365e-08, 'sum_prefill_tokensmnumprefills': 6.3869489623452194e-06, 'max_prefill_tokenss2': -9.562205913872209e-09, 'max_prefill_tokensmnumprefills': -1.0521034637564155e-05, 'num_prefillss2': -0.0007088362676046472, 'intercept': 0.0060670190976638465, 'schedule_time': 425.8554793319835, 'update_time': 72.93475783462462, 'queue_overhead': 771.3987183566056, 'vllm_overhead': 7152.624094979046}. Best is trial 113 with value: 0.2901542826719438.\n",
      "[I 2025-07-14 14:00:35,812] Trial 175 finished with value: 0.30533286501162965 and parameters: {'sum_decode_tokens': 2.676741016340114e-05, 'sum_prefill_tokens': 9.516347675238627e-06, 'max_prefill_tokens': -3.572684520908586e-06, 'num_prefills': 0.0016940210969601836, 'sum_decode_tokenss2': 4.0526443489396394e-08, 'sum_decode_tokensmsumprefill_tokens': -1.2883445719689674e-07, 'sum_decode_tokensmmaxprefill_tokens': 1.4877485118696428e-07, 'sum_decode_tokensmnumprefills': 3.161422130814398e-05, 'sum_prefill_tokenss2': -7.619605212831821e-09, 'sum_prefill_tokensmmaxprefill_tokens': 2.268948534454957e-08, 'sum_prefill_tokensmnumprefills': 6.569147827742175e-06, 'max_prefill_tokenss2': -9.340692373765813e-09, 'max_prefill_tokensmnumprefills': -1.0385365555883852e-05, 'num_prefillss2': -0.0006995888235783022, 'intercept': 0.006013595067178078, 'schedule_time': 455.3825406479768, 'update_time': 70.41967201500044, 'queue_overhead': 785.1081264965912, 'vllm_overhead': 7085.198979471063}. Best is trial 113 with value: 0.2901542826719438.\n",
      "[I 2025-07-14 14:00:37,203] Trial 176 finished with value: 0.3037910217551534 and parameters: {'sum_decode_tokens': 2.5774600879750454e-05, 'sum_prefill_tokens': 9.288093400264346e-06, 'max_prefill_tokens': -3.739474138556446e-06, 'num_prefills': 0.00171226074180242, 'sum_decode_tokenss2': 4.105333094688584e-08, 'sum_decode_tokensmsumprefill_tokens': -1.2844379437295546e-07, 'sum_decode_tokensmmaxprefill_tokens': 1.5322719821485565e-07, 'sum_decode_tokensmnumprefills': 3.189248871443587e-05, 'sum_prefill_tokenss2': -7.963832908220537e-09, 'sum_prefill_tokensmmaxprefill_tokens': 2.2961089874000046e-08, 'sum_prefill_tokensmnumprefills': 6.354826371395369e-06, 'max_prefill_tokenss2': -9.016692809967153e-09, 'max_prefill_tokensmnumprefills': -1.0133631287752089e-05, 'num_prefillss2': -0.0007157233058349017, 'intercept': 0.0063005798512687245, 'schedule_time': 439.910172605222, 'update_time': 75.69694781068966, 'queue_overhead': 870.7994403024696, 'vllm_overhead': 6851.1033202535755}. Best is trial 113 with value: 0.2901542826719438.\n",
      "[I 2025-07-14 14:00:38,565] Trial 177 finished with value: 0.30994292699315745 and parameters: {'sum_decode_tokens': 2.615886834687318e-05, 'sum_prefill_tokens': 9.686086924071997e-06, 'max_prefill_tokens': -3.814982577906694e-06, 'num_prefills': 0.0016183596376314689, 'sum_decode_tokenss2': 4.036449152900079e-08, 'sum_decode_tokensmsumprefill_tokens': -1.259300120039589e-07, 'sum_decode_tokensmmaxprefill_tokens': 1.604298510370215e-07, 'sum_decode_tokensmnumprefills': 3.231563029276897e-05, 'sum_prefill_tokenss2': -7.815256838496992e-09, 'sum_prefill_tokensmmaxprefill_tokens': 2.65874192047396e-08, 'sum_prefill_tokensmnumprefills': 6.805476937266125e-06, 'max_prefill_tokenss2': -9.23186406346688e-09, 'max_prefill_tokensmnumprefills': -1.027960403601356e-05, 'num_prefillss2': -0.0007070654254220623, 'intercept': 0.006171153041935154, 'schedule_time': 446.0586179742098, 'update_time': 67.7266580721238, 'queue_overhead': 827.1449361774636, 'vllm_overhead': 6911.226454620382}. Best is trial 113 with value: 0.2901542826719438.\n",
      "[I 2025-07-14 14:00:39,944] Trial 178 finished with value: 0.5806561094175702 and parameters: {'sum_decode_tokens': 4.142152090203489e-05, 'sum_prefill_tokens': 9.09427072220565e-06, 'max_prefill_tokens': -3.6957228738922136e-06, 'num_prefills': 0.001744078432295004, 'sum_decode_tokenss2': 3.265870437865447e-08, 'sum_decode_tokensmsumprefill_tokens': -1.3352757523152377e-07, 'sum_decode_tokensmmaxprefill_tokens': 1.5790890105779798e-07, 'sum_decode_tokensmnumprefills': 3.25382120123153e-05, 'sum_prefill_tokenss2': -7.45391841957363e-09, 'sum_prefill_tokensmmaxprefill_tokens': 2.2360628132800874e-08, 'sum_prefill_tokensmnumprefills': 6.928613736948783e-06, 'max_prefill_tokenss2': -8.88348201436934e-09, 'max_prefill_tokensmnumprefills': -1.0586714281824832e-05, 'num_prefillss2': -0.0007267196262140508, 'intercept': 0.006356339755025136, 'schedule_time': 418.7997651703683, 'update_time': 76.82680558061655, 'queue_overhead': 803.1375860822164, 'vllm_overhead': 7185.317889054506}. Best is trial 113 with value: 0.2901542826719438.\n",
      "[I 2025-07-14 14:00:41,273] Trial 179 finished with value: 0.3013196585101541 and parameters: {'sum_decode_tokens': 2.684160528578269e-05, 'sum_prefill_tokens': 9.447099293066932e-06, 'max_prefill_tokens': -3.6417992845406217e-06, 'num_prefills': 0.001675411527135571, 'sum_decode_tokenss2': 4.09300426844992e-08, 'sum_decode_tokensmsumprefill_tokens': -1.3001865319232688e-07, 'sum_decode_tokensmmaxprefill_tokens': 1.5051252390212477e-07, 'sum_decode_tokensmnumprefills': 3.148056185477085e-05, 'sum_prefill_tokenss2': -7.54007220993447e-09, 'sum_prefill_tokensmmaxprefill_tokens': 2.210513590229993e-08, 'sum_prefill_tokensmnumprefills': 6.4213156234378104e-06, 'max_prefill_tokenss2': -9.736305408980927e-09, 'max_prefill_tokensmnumprefills': -1.0448160221224585e-05, 'num_prefillss2': -0.0006974109253934186, 'intercept': 0.006113644494529753, 'schedule_time': 461.4370505292457, 'update_time': 72.4640512088067, 'queue_overhead': 846.6174593482754, 'vllm_overhead': 7001.654921409093}. Best is trial 113 with value: 0.2901542826719438.\n",
      "[I 2025-07-14 14:00:42,607] Trial 180 finished with value: 0.29108632665815243 and parameters: {'sum_decode_tokens': 2.7219230807419233e-05, 'sum_prefill_tokens': 8.996284532083783e-06, 'max_prefill_tokens': -3.778776569775045e-06, 'num_prefills': 0.0017585509677703177, 'sum_decode_tokenss2': 3.907957714453812e-08, 'sum_decode_tokensmsumprefill_tokens': -1.269652383165483e-07, 'sum_decode_tokensmmaxprefill_tokens': 1.4607246326795384e-07, 'sum_decode_tokensmnumprefills': 3.2009444323451965e-05, 'sum_prefill_tokenss2': -7.702381683504671e-09, 'sum_prefill_tokensmmaxprefill_tokens': 2.593073639140258e-08, 'sum_prefill_tokensmnumprefills': 6.634675499557064e-06, 'max_prefill_tokenss2': -9.427084910819525e-09, 'max_prefill_tokensmnumprefills': -9.961649083777534e-06, 'num_prefillss2': -0.0006902329773695721, 'intercept': 0.00595038405298913, 'schedule_time': 451.4886593837147, 'update_time': 73.48648003809396, 'queue_overhead': 833.9522422447895, 'vllm_overhead': 7221.668013018124}. Best is trial 113 with value: 0.2901542826719438.\n",
      "[I 2025-07-14 14:00:43,946] Trial 181 finished with value: 0.29290166934006673 and parameters: {'sum_decode_tokens': 2.7149426485457424e-05, 'sum_prefill_tokens': 8.986117164900994e-06, 'max_prefill_tokens': -3.774649927833565e-06, 'num_prefills': 0.0017614103758344522, 'sum_decode_tokenss2': 3.901640946887205e-08, 'sum_decode_tokensmsumprefill_tokens': -1.271073164309564e-07, 'sum_decode_tokensmmaxprefill_tokens': 1.4589503160747938e-07, 'sum_decode_tokensmnumprefills': 3.209497903065974e-05, 'sum_prefill_tokenss2': -7.71603314598686e-09, 'sum_prefill_tokensmmaxprefill_tokens': 2.551976503097293e-08, 'sum_prefill_tokensmnumprefills': 6.6493873960684104e-06, 'max_prefill_tokenss2': -9.426459347484194e-09, 'max_prefill_tokensmnumprefills': -1.0212739472354945e-05, 'num_prefillss2': -0.000696997922873051, 'intercept': 0.005951748093693609, 'schedule_time': 452.5960171799131, 'update_time': 73.32807355566469, 'queue_overhead': 834.9522333151592, 'vllm_overhead': 7214.411840064422}. Best is trial 113 with value: 0.2901542826719438.\n",
      "[I 2025-07-14 14:00:45,270] Trial 182 finished with value: 0.29054588638438794 and parameters: {'sum_decode_tokens': 2.7211406056496625e-05, 'sum_prefill_tokens': 8.713251296439721e-06, 'max_prefill_tokens': -3.793721644496149e-06, 'num_prefills': 0.0017567468648793576, 'sum_decode_tokenss2': 3.897711207797763e-08, 'sum_decode_tokensmsumprefill_tokens': -1.2691580831373313e-07, 'sum_decode_tokensmmaxprefill_tokens': 1.4583253215489133e-07, 'sum_decode_tokensmnumprefills': 3.185069108491458e-05, 'sum_prefill_tokenss2': -7.745247075480363e-09, 'sum_prefill_tokensmmaxprefill_tokens': 2.6082538767604647e-08, 'sum_prefill_tokensmnumprefills': 6.636252431652987e-06, 'max_prefill_tokenss2': -9.38146188609751e-09, 'max_prefill_tokensmnumprefills': -9.968953954482336e-06, 'num_prefillss2': -0.0006907107975637996, 'intercept': 0.00593431801395854, 'schedule_time': 455.1169963536095, 'update_time': 73.07490521642279, 'queue_overhead': 810.6650286435446, 'vllm_overhead': 7244.8380273113025}. Best is trial 113 with value: 0.2901542826719438.\n",
      "[I 2025-07-14 14:00:46,618] Trial 183 finished with value: 0.2975517760450023 and parameters: {'sum_decode_tokens': 2.653604695335532e-05, 'sum_prefill_tokens': 8.815686673192744e-06, 'max_prefill_tokens': -3.817390163657571e-06, 'num_prefills': 0.0017574920873966275, 'sum_decode_tokenss2': 3.8971383635548836e-08, 'sum_decode_tokensmsumprefill_tokens': -1.2329354906980004e-07, 'sum_decode_tokensmmaxprefill_tokens': 1.4562649209450007e-07, 'sum_decode_tokensmnumprefills': 3.181044441632939e-05, 'sum_prefill_tokenss2': -7.805723013241102e-09, 'sum_prefill_tokensmmaxprefill_tokens': 2.6044963826774186e-08, 'sum_prefill_tokensmnumprefills': 6.633349267032869e-06, 'max_prefill_tokenss2': -9.399460773338041e-09, 'max_prefill_tokensmnumprefills': -1.009597135873956e-05, 'num_prefillss2': -0.0007062552964571564, 'intercept': 0.0060010671144346385, 'schedule_time': 657.9039844373071, 'update_time': 73.48589702666341, 'queue_overhead': 822.36687406824, 'vllm_overhead': 7251.603936387737}. Best is trial 113 with value: 0.2901542826719438.\n",
      "[I 2025-07-14 14:00:48,008] Trial 184 finished with value: 0.2996966820405971 and parameters: {'sum_decode_tokens': 2.7199110777961946e-05, 'sum_prefill_tokens': 8.7060853983381e-06, 'max_prefill_tokens': -3.806203276858402e-06, 'num_prefills': 0.0017523607755779824, 'sum_decode_tokenss2': 3.9170391482214826e-08, 'sum_decode_tokensmsumprefill_tokens': -1.233751916667912e-07, 'sum_decode_tokensmmaxprefill_tokens': 1.4581243094692633e-07, 'sum_decode_tokensmnumprefills': 3.174465527305493e-05, 'sum_prefill_tokenss2': -7.8075646911638e-09, 'sum_prefill_tokensmmaxprefill_tokens': 2.1582161869021042e-08, 'sum_prefill_tokensmnumprefills': 6.653744784942452e-06, 'max_prefill_tokenss2': -9.330057883411712e-09, 'max_prefill_tokensmnumprefills': -9.989729060473332e-06, 'num_prefillss2': -0.0007099370006057699, 'intercept': 0.005943154722312516, 'schedule_time': 594.093447331799, 'update_time': 74.45443816463414, 'queue_overhead': 818.0267518525046, 'vllm_overhead': 7244.8650329399725}. Best is trial 113 with value: 0.2901542826719438.\n",
      "[I 2025-07-14 14:00:49,402] Trial 185 finished with value: 0.29649332740679724 and parameters: {'sum_decode_tokens': 2.628821730957885e-05, 'sum_prefill_tokens': 8.792117803113874e-06, 'max_prefill_tokens': -3.7895499105059445e-06, 'num_prefills': 0.0017563457728251952, 'sum_decode_tokenss2': 3.8739067047755015e-08, 'sum_decode_tokensmsumprefill_tokens': -1.266740383945307e-07, 'sum_decode_tokensmmaxprefill_tokens': 1.4592702949832585e-07, 'sum_decode_tokensmnumprefills': 3.1257868269043384e-05, 'sum_prefill_tokenss2': -7.738019973315259e-09, 'sum_prefill_tokensmmaxprefill_tokens': 2.536433003095331e-08, 'sum_prefill_tokensmnumprefills': 6.616128747079892e-06, 'max_prefill_tokenss2': -9.437265784517082e-09, 'max_prefill_tokensmnumprefills': -9.94371879318189e-06, 'num_prefillss2': -0.0007038079881535379, 'intercept': 0.006001247898522017, 'schedule_time': 549.811763318336, 'update_time': 72.92948255027453, 'queue_overhead': 809.6053630380958, 'vllm_overhead': 7368.175808824351}. Best is trial 113 with value: 0.2901542826719438.\n",
      "[I 2025-07-14 14:00:50,767] Trial 186 finished with value: 0.30791954677413663 and parameters: {'sum_decode_tokens': 2.5887467163693083e-05, 'sum_prefill_tokens': 8.957939929024923e-06, 'max_prefill_tokens': -3.787222357220834e-06, 'num_prefills': 0.0017631233211112853, 'sum_decode_tokenss2': 3.857651732771707e-08, 'sum_decode_tokensmsumprefill_tokens': -1.2677247898771591e-07, 'sum_decode_tokensmmaxprefill_tokens': 1.475609608026671e-07, 'sum_decode_tokensmnumprefills': 3.110535045246328e-05, 'sum_prefill_tokenss2': -7.720227991967001e-09, 'sum_prefill_tokensmmaxprefill_tokens': 2.5975330587898932e-08, 'sum_prefill_tokensmnumprefills': 6.537153629584116e-06, 'max_prefill_tokenss2': -9.514980506922904e-09, 'max_prefill_tokensmnumprefills': -9.938964035920783e-06, 'num_prefillss2': -0.0007185411487266368, 'intercept': 0.0060431835734274, 'schedule_time': 541.277088635352, 'update_time': 72.4518327760791, 'queue_overhead': 805.6260816528854, 'vllm_overhead': 7372.30165877918}. Best is trial 113 with value: 0.2901542826719438.\n",
      "[I 2025-07-14 14:00:52,158] Trial 187 finished with value: 0.29906055381884333 and parameters: {'sum_decode_tokens': 2.621348210833626e-05, 'sum_prefill_tokens': 8.764947945842163e-06, 'max_prefill_tokens': -3.746629538748053e-06, 'num_prefills': 0.0017369408649313505, 'sum_decode_tokenss2': 3.9755518787566834e-08, 'sum_decode_tokensmsumprefill_tokens': -1.2772746837384876e-07, 'sum_decode_tokensmmaxprefill_tokens': 1.4890579912789441e-07, 'sum_decode_tokensmnumprefills': 3.136206417728877e-05, 'sum_prefill_tokenss2': -7.91596477687809e-09, 'sum_prefill_tokensmmaxprefill_tokens': 2.5448570809113933e-08, 'sum_prefill_tokensmnumprefills': 6.45743944790336e-06, 'max_prefill_tokenss2': -9.087454000889017e-09, 'max_prefill_tokensmnumprefills': -9.740586125221657e-06, 'num_prefillss2': -0.0006985330117618031, 'intercept': 0.00593085427779383, 'schedule_time': 547.0638982844789, 'update_time': 75.0303568347919, 'queue_overhead': 807.5032157205536, 'vllm_overhead': 7411.315888116483}. Best is trial 113 with value: 0.2901542826719438.\n",
      "[I 2025-07-14 14:00:53,498] Trial 188 finished with value: 0.3013910683677678 and parameters: {'sum_decode_tokens': 2.5425615805442407e-05, 'sum_prefill_tokens': 8.933168491843838e-06, 'max_prefill_tokens': -3.856976329363804e-06, 'num_prefills': 0.0017647012764594784, 'sum_decode_tokenss2': 3.880842291701329e-08, 'sum_decode_tokensmsumprefill_tokens': -1.2686273443480388e-07, 'sum_decode_tokensmmaxprefill_tokens': 1.4475341375574698e-07, 'sum_decode_tokensmnumprefills': 3.125121740749167e-05, 'sum_prefill_tokenss2': -7.706386309129821e-09, 'sum_prefill_tokensmmaxprefill_tokens': 2.695017426021395e-08, 'sum_prefill_tokensmnumprefills': 6.699414920479345e-06, 'max_prefill_tokenss2': -9.426544201246951e-09, 'max_prefill_tokensmnumprefills': -9.665621523873188e-06, 'num_prefillss2': -0.0007067624762979801, 'intercept': 0.0059781530561554205, 'schedule_time': 454.7402901033355, 'update_time': 71.79947549554012, 'queue_overhead': 827.4487753200004, 'vllm_overhead': 7063.18528070864}. Best is trial 113 with value: 0.2901542826719438.\n",
      "[I 2025-07-14 14:00:54,848] Trial 189 finished with value: 0.5069872838948241 and parameters: {'sum_decode_tokens': 2.6932511919467742e-05, 'sum_prefill_tokens': 8.852481085068371e-06, 'max_prefill_tokens': -3.778248550530311e-06, 'num_prefills': 0.0017439924575443557, 'sum_decode_tokenss2': 3.996923068373599e-08, 'sum_decode_tokensmsumprefill_tokens': -1.2599557743873698e-07, 'sum_decode_tokensmmaxprefill_tokens': 1.4741925455048163e-07, 'sum_decode_tokensmnumprefills': 3.1545936452300236e-05, 'sum_prefill_tokenss2': -7.632262046376416e-09, 'sum_prefill_tokensmmaxprefill_tokens': 2.535217111619275e-08, 'sum_prefill_tokensmnumprefills': 6.608159173659088e-06, 'max_prefill_tokenss2': -9.276619159690832e-09, 'max_prefill_tokensmnumprefills': -1.0141812863108414e-05, 'num_prefillss2': -0.0008886774136379928, 'intercept': 0.006084889489804941, 'schedule_time': 447.8624093952914, 'update_time': 73.23246249381442, 'queue_overhead': 796.0948335243112, 'vllm_overhead': 7236.747574642775}. Best is trial 113 with value: 0.2901542826719438.\n",
      "[I 2025-07-14 14:00:56,165] Trial 190 finished with value: 0.2962332541397922 and parameters: {'sum_decode_tokens': 2.721357030535455e-05, 'sum_prefill_tokens': 8.659903205915078e-06, 'max_prefill_tokens': -3.7429973325411398e-06, 'num_prefills': 0.0017275498290989944, 'sum_decode_tokenss2': 3.949233379666409e-08, 'sum_decode_tokensmsumprefill_tokens': -1.286062171451e-07, 'sum_decode_tokensmmaxprefill_tokens': 1.498086281628825e-07, 'sum_decode_tokensmnumprefills': 3.084479686717804e-05, 'sum_prefill_tokenss2': -7.875415677366138e-09, 'sum_prefill_tokensmmaxprefill_tokens': 2.5839838437927227e-08, 'sum_prefill_tokensmnumprefills': 6.553492886749514e-06, 'max_prefill_tokenss2': -9.581268817123037e-09, 'max_prefill_tokensmnumprefills': -9.922661231221876e-06, 'num_prefillss2': -0.000689914763744149, 'intercept': 0.005911631345549833, 'schedule_time': 555.5558648223223, 'update_time': 73.96033380225164, 'queue_overhead': 1236.4724234271675, 'vllm_overhead': 7333.303741407834}. Best is trial 113 with value: 0.2901542826719438.\n",
      "[I 2025-07-14 14:00:57,538] Trial 191 finished with value: 0.3052385882958866 and parameters: {'sum_decode_tokens': 2.718175417136054e-05, 'sum_prefill_tokens': 8.732220696691949e-06, 'max_prefill_tokens': -3.7430057165437985e-06, 'num_prefills': 0.0017254383529672968, 'sum_decode_tokenss2': 3.932522560862402e-08, 'sum_decode_tokensmsumprefill_tokens': -1.2874311550117023e-07, 'sum_decode_tokensmmaxprefill_tokens': 1.4988070653542825e-07, 'sum_decode_tokensmnumprefills': 3.205055151205559e-05, 'sum_prefill_tokenss2': -7.958925043865143e-09, 'sum_prefill_tokensmmaxprefill_tokens': 2.6217697033553033e-08, 'sum_prefill_tokensmnumprefills': 6.529910370769784e-06, 'max_prefill_tokenss2': -9.611982844678799e-09, 'max_prefill_tokensmnumprefills': -9.876566811202911e-06, 'num_prefillss2': -0.0006907447355680702, 'intercept': 0.005902594582079165, 'schedule_time': 565.5001330272129, 'update_time': 74.30823088373636, 'queue_overhead': 1166.7541667530847, 'vllm_overhead': 7330.154233792986}. Best is trial 113 with value: 0.2901542826719438.\n",
      "[I 2025-07-14 14:00:58,868] Trial 192 finished with value: 0.3781726159372525 and parameters: {'sum_decode_tokens': 2.674949684595053e-05, 'sum_prefill_tokens': 8.572039599933889e-06, 'max_prefill_tokens': -3.798253298115098e-06, 'num_prefills': 0.001766821974689076, 'sum_decode_tokenss2': 3.955940928510476e-08, 'sum_decode_tokensmsumprefill_tokens': -1.2755014620915777e-07, 'sum_decode_tokensmmaxprefill_tokens': 1.4670538068653433e-07, 'sum_decode_tokensmnumprefills': 2.4101283154307468e-05, 'sum_prefill_tokenss2': -7.763694859132415e-09, 'sum_prefill_tokensmmaxprefill_tokens': 2.5877481823259292e-08, 'sum_prefill_tokensmnumprefills': 6.7114419036437254e-06, 'max_prefill_tokenss2': -9.514462409681413e-09, 'max_prefill_tokensmnumprefills': -1.021767658086004e-05, 'num_prefillss2': -0.0007004562422036923, 'intercept': 0.0059993928746204205, 'schedule_time': 554.6069042875702, 'update_time': 76.33104089109129, 'queue_overhead': 836.0423433852976, 'vllm_overhead': 7198.862612168575}. Best is trial 113 with value: 0.2901542826719438.\n",
      "[I 2025-07-14 14:01:00,202] Trial 193 finished with value: 0.2944604503221961 and parameters: {'sum_decode_tokens': 2.6299415206325525e-05, 'sum_prefill_tokens': 8.415651228086805e-06, 'max_prefill_tokens': -3.724413905124642e-06, 'num_prefills': 0.0017427043195931099, 'sum_decode_tokenss2': 3.850978168236596e-08, 'sum_decode_tokensmsumprefill_tokens': -1.270212093325791e-07, 'sum_decode_tokensmmaxprefill_tokens': 1.8107634925267246e-07, 'sum_decode_tokensmnumprefills': 3.099056768398807e-05, 'sum_prefill_tokenss2': -7.863412214094666e-09, 'sum_prefill_tokensmmaxprefill_tokens': 2.5653259522285754e-08, 'sum_prefill_tokensmnumprefills': 6.5990933986858e-06, 'max_prefill_tokenss2': -9.402357206789538e-09, 'max_prefill_tokensmnumprefills': -1.0343490160190786e-05, 'num_prefillss2': -0.0006971771684075821, 'intercept': 0.006140782838370342, 'schedule_time': 564.0852950905189, 'update_time': 75.52203537681878, 'queue_overhead': 847.6675218512902, 'vllm_overhead': 7100.875957065683}. Best is trial 113 with value: 0.2901542826719438.\n",
      "[I 2025-07-14 14:01:01,556] Trial 194 finished with value: 0.601407320588828 and parameters: {'sum_decode_tokens': 2.6176410569363285e-05, 'sum_prefill_tokens': 8.421030184003152e-06, 'max_prefill_tokens': -3.7653939684296733e-06, 'num_prefills': 0.0017490886140972138, 'sum_decode_tokenss2': 3.8412100623412476e-08, 'sum_decode_tokensmsumprefill_tokens': -1.2935530315961616e-07, 'sum_decode_tokensmmaxprefill_tokens': 1.8134566898175886e-07, 'sum_decode_tokensmnumprefills': 3.071941402266869e-05, 'sum_prefill_tokenss2': -7.852877501860625e-09, 'sum_prefill_tokensmmaxprefill_tokens': 2.5679442293738258e-08, 'sum_prefill_tokensmnumprefills': 6.5757240045381e-06, 'max_prefill_tokenss2': -9.403022364887972e-09, 'max_prefill_tokensmnumprefills': -7.999523908153301e-06, 'num_prefillss2': -0.0009993716105659222, 'intercept': 0.006076731093994109, 'schedule_time': 559.5129404470414, 'update_time': 75.52531766512696, 'queue_overhead': 842.5061678297759, 'vllm_overhead': 7112.406125436088}. Best is trial 113 with value: 0.2901542826719438.\n",
      "[I 2025-07-14 14:01:02,897] Trial 195 finished with value: 0.3065953162367335 and parameters: {'sum_decode_tokens': 2.5830464326180636e-05, 'sum_prefill_tokens': 8.66133049457361e-06, 'max_prefill_tokens': -3.840739361798574e-06, 'num_prefills': 0.0017322847946444546, 'sum_decode_tokenss2': 3.890198665119044e-08, 'sum_decode_tokensmsumprefill_tokens': -1.2574533325048795e-07, 'sum_decode_tokensmmaxprefill_tokens': 1.7110522211517306e-07, 'sum_decode_tokensmnumprefills': 3.087365329679729e-05, 'sum_prefill_tokenss2': -8.066460702906839e-09, 'sum_prefill_tokensmmaxprefill_tokens': 2.4959515260419228e-08, 'sum_prefill_tokensmnumprefills': 6.4903285879438174e-06, 'max_prefill_tokenss2': -9.564894508675154e-09, 'max_prefill_tokensmnumprefills': -1.0002758498929903e-05, 'num_prefillss2': -0.0007144654855761975, 'intercept': 0.005780260609527457, 'schedule_time': 547.1696975824549, 'update_time': 74.49628519885869, 'queue_overhead': 1215.8175507138046, 'vllm_overhead': 7348.308167469014}. Best is trial 113 with value: 0.2901542826719438.\n",
      "[I 2025-07-14 14:01:04,243] Trial 196 finished with value: 0.3965687263946265 and parameters: {'sum_decode_tokens': 2.6913723113189747e-05, 'sum_prefill_tokens': 8.475692753060868e-06, 'max_prefill_tokens': -3.7280867414673564e-06, 'num_prefills': 0.0017198596647925314, 'sum_decode_tokenss2': 3.791209843910611e-08, 'sum_decode_tokensmsumprefill_tokens': -1.2714401736511712e-07, 'sum_decode_tokensmmaxprefill_tokens': 1.4950096458510753e-07, 'sum_decode_tokensmnumprefills': 3.110856472197475e-05, 'sum_prefill_tokenss2': -7.932362110074678e-09, 'sum_prefill_tokensmmaxprefill_tokens': 2.6327518578483022e-08, 'sum_prefill_tokensmnumprefills': 6.6449704990558726e-06, 'max_prefill_tokenss2': -9.340652613554015e-09, 'max_prefill_tokensmnumprefills': -1.0352941489438852e-05, 'num_prefillss2': -0.0006994063245127183, 'intercept': 0.005178941999599036, 'schedule_time': 562.944361117929, 'update_time': 72.70465110824108, 'queue_overhead': 847.153150726987, 'vllm_overhead': 7281.400723478771}. Best is trial 113 with value: 0.2901542826719438.\n",
      "[I 2025-07-14 14:01:05,604] Trial 197 finished with value: 0.2890180716271883 and parameters: {'sum_decode_tokens': 2.6345552228978724e-05, 'sum_prefill_tokens': 8.646580073144613e-06, 'max_prefill_tokens': -3.697759554598298e-06, 'num_prefills': 0.0017764070670311667, 'sum_decode_tokenss2': 3.841326107894795e-08, 'sum_decode_tokensmsumprefill_tokens': -1.2880883836898533e-07, 'sum_decode_tokensmmaxprefill_tokens': 1.8594719672479232e-07, 'sum_decode_tokensmnumprefills': 3.040095150231441e-05, 'sum_prefill_tokenss2': -7.723753755349376e-09, 'sum_prefill_tokensmmaxprefill_tokens': 2.52185947798057e-08, 'sum_prefill_tokensmnumprefills': 6.40225826093979e-06, 'max_prefill_tokenss2': -9.471605598732113e-09, 'max_prefill_tokensmnumprefills': -1.0081548100282114e-05, 'num_prefillss2': -0.0006899261322254075, 'intercept': 0.0059448950757889476, 'schedule_time': 553.5511306108177, 'update_time': 71.11874589329447, 'queue_overhead': 867.5172418867629, 'vllm_overhead': 7423.1023167412095}. Best is trial 197 with value: 0.2890180716271883.\n",
      "[I 2025-07-14 14:01:06,971] Trial 198 finished with value: 0.2896205601854067 and parameters: {'sum_decode_tokens': 2.6337858497759778e-05, 'sum_prefill_tokens': 8.286079208871953e-06, 'max_prefill_tokens': -3.697402600511604e-06, 'num_prefills': 0.0017588661186473333, 'sum_decode_tokenss2': 3.693488557031476e-08, 'sum_decode_tokensmsumprefill_tokens': -1.248229460635988e-07, 'sum_decode_tokensmmaxprefill_tokens': 1.798066170364673e-07, 'sum_decode_tokensmnumprefills': 3.086006888628498e-05, 'sum_prefill_tokenss2': -7.732993016936809e-09, 'sum_prefill_tokensmmaxprefill_tokens': 2.5088586553095082e-08, 'sum_prefill_tokensmnumprefills': 6.405158693954022e-06, 'max_prefill_tokenss2': -9.675907094950873e-09, 'max_prefill_tokensmnumprefills': -1.0078104894124173e-05, 'num_prefillss2': -0.0006909959338221227, 'intercept': 0.0060233600582202, 'schedule_time': 565.3495268350445, 'update_time': 71.31659129231375, 'queue_overhead': 893.403280914901, 'vllm_overhead': 7405.448392999299}. Best is trial 197 with value: 0.2890180716271883.\n",
      "[I 2025-07-14 14:01:08,298] Trial 199 finished with value: 0.30734798122315066 and parameters: {'sum_decode_tokens': 2.5748941304656805e-05, 'sum_prefill_tokens': 8.60552597734395e-06, 'max_prefill_tokens': -3.700360699540897e-06, 'num_prefills': 0.0017615590031099951, 'sum_decode_tokenss2': 3.695454143513825e-08, 'sum_decode_tokensmsumprefill_tokens': -1.2868433935133865e-07, 'sum_decode_tokensmmaxprefill_tokens': 1.846221607093118e-07, 'sum_decode_tokensmnumprefills': 3.0272573778448576e-05, 'sum_prefill_tokenss2': -7.738787105042298e-09, 'sum_prefill_tokensmmaxprefill_tokens': 2.5226970834725977e-08, 'sum_prefill_tokensmnumprefills': 6.309712916835136e-06, 'max_prefill_tokenss2': -9.690828801573293e-09, 'max_prefill_tokensmnumprefills': -1.0034032082418535e-05, 'num_prefillss2': -0.0007072291997590028, 'intercept': 0.005947379960000002, 'schedule_time': 569.6843719416128, 'update_time': 71.51154891499068, 'queue_overhead': 891.6007049665332, 'vllm_overhead': 7403.607353322953}. Best is trial 197 with value: 0.2890180716271883.\n"
     ]
    },
    {
     "name": "stdout",
     "output_type": "stream",
     "text": [
      "{'sum_decode_tokens': 2.6345552228978724e-05, 'sum_prefill_tokens': 8.646580073144613e-06, 'max_prefill_tokens': -3.697759554598298e-06, 'num_prefills': 0.0017764070670311667, 'sum_decode_tokenss2': 3.841326107894795e-08, 'sum_decode_tokensmsumprefill_tokens': -1.2880883836898533e-07, 'sum_decode_tokensmmaxprefill_tokens': 1.8594719672479232e-07, 'sum_decode_tokensmnumprefills': 3.040095150231441e-05, 'sum_prefill_tokenss2': -7.723753755349376e-09, 'sum_prefill_tokensmmaxprefill_tokens': 2.52185947798057e-08, 'sum_prefill_tokensmnumprefills': 6.40225826093979e-06, 'max_prefill_tokenss2': -9.471605598732113e-09, 'max_prefill_tokensmnumprefills': -1.0081548100282114e-05, 'num_prefillss2': -0.0006899261322254075, 'intercept': 0.0059448950757889476, 'schedule_time': 553.5511306108177, 'update_time': 71.11874589329447, 'queue_overhead': 867.5172418867629, 'vllm_overhead': 7423.1023167412095}\n"
     ]
    }
   ],
   "source": [
    "\n",
    "# from bayes_opt import BayesianOptimization\n",
    "import optuna\n",
    "from optuna.samplers import TPESampler\n",
    "\n",
    "sampler = TPESampler(seed=10)\n",
    "study = optuna.create_study(sampler=sampler)\n",
    "\n",
    "# for warm start with baseline values\n",
    "study.enqueue_trial(baseline_values)\n",
    "\n",
    "study.optimize(objective, n_trials=200)\n",
    "\n",
    "print (study.best_params)\n",
    "# optimizer = BayesianOptimization(\n",
    "#     f=black_box_function,\n",
    "#     pbounds=pbounds,\n",
    "#     random_state=1,\n",
    "# )\n",
    "\n",
    "# optimizer.maximize(\n",
    "#     init_points=20,\n",
    "#     n_iter=100,\n",
    "# )\n"
   ]
  },
  {
   "cell_type": "code",
   "execution_count": 37,
   "id": "2248bed8",
   "metadata": {},
   "outputs": [
    {
     "data": {
      "application/vnd.plotly.v1+json": {
       "config": {
        "plotlyServerURL": "https://plot.ly"
       },
       "data": [
        {
         "mode": "markers",
         "name": "Objective Value",
         "type": "scatter",
         "x": [
          0,
          1,
          2,
          3,
          4,
          5,
          6,
          7,
          8,
          9,
          10,
          11,
          12,
          13,
          14,
          15,
          16,
          17,
          18,
          19,
          20,
          21,
          22,
          23,
          24,
          25,
          26,
          27,
          28,
          29,
          30,
          31,
          32,
          33,
          34,
          35,
          36,
          37,
          38,
          39,
          40,
          41,
          42,
          43,
          44,
          45,
          46,
          47,
          48,
          49,
          50,
          51,
          52,
          53,
          54,
          55,
          56,
          57,
          58,
          59,
          60,
          61,
          62,
          63,
          64,
          65,
          66,
          67,
          68,
          69,
          70,
          71,
          72,
          73,
          74,
          75,
          76,
          77,
          78,
          79,
          80,
          81,
          82,
          83,
          84,
          85,
          86,
          87,
          88,
          89,
          90,
          91,
          92,
          93,
          94,
          95,
          96,
          97,
          98,
          99,
          100,
          101,
          102,
          103,
          104,
          105,
          106,
          107,
          108,
          109,
          110,
          111,
          112,
          113,
          114,
          115,
          116,
          117,
          118,
          119,
          120,
          121,
          122,
          123,
          124,
          125,
          126,
          127,
          128,
          129,
          130,
          131,
          132,
          133,
          134,
          135,
          136,
          137,
          138,
          139,
          140,
          141,
          142,
          143,
          144,
          145,
          146,
          147,
          148,
          149,
          150,
          151,
          152,
          153,
          154,
          155,
          156,
          157,
          158,
          159,
          160,
          161,
          162,
          163,
          164,
          165,
          166,
          167,
          168,
          169,
          170,
          171,
          172,
          173,
          174,
          175,
          176,
          177,
          178,
          179,
          180,
          181,
          182,
          183,
          184,
          185,
          186,
          187,
          188,
          189,
          190,
          191,
          192,
          193,
          194,
          195,
          196,
          197,
          198,
          199
         ],
         "y": [
          0.46004675764612224,
          0.4943136511400736,
          0.6201825142661651,
          0.9651114698445161,
          0.6080141391457164,
          0.7626862821397744,
          0.873818220195567,
          0.7425592817745855,
          0.6242424276098197,
          0.40932119765666336,
          0.6812258738734983,
          0.7685189028853602,
          0.4419266057772607,
          0.5915992488038017,
          0.48663538373217835,
          0.4749675966716706,
          0.470035314068074,
          0.7482702901015346,
          0.4864090685366122,
          0.3690442527451581,
          0.4167150311017335,
          0.4302868246449253,
          0.4337983817262183,
          0.4983464575789471,
          0.42440987192397633,
          0.5420798476410068,
          0.43803878283059006,
          0.6348954098447289,
          0.3665688701894796,
          0.6857047451791033,
          0.5744016092027827,
          0.37946048587405873,
          0.40729258140914043,
          0.3958025946542921,
          0.394855312037819,
          0.4234377127990835,
          0.41457312565432936,
          0.4586230496463193,
          0.3834618156126825,
          0.6545724113217922,
          0.4060791130993454,
          0.35220644853711414,
          0.3467531607443963,
          0.3527217055706131,
          0.3690296146213858,
          0.3702390342511835,
          0.33897331765132516,
          1.0756891043099945,
          0.3258190796614659,
          0.37271740075836707,
          0.38396623813901926,
          0.3811189451197408,
          0.3724884892364208,
          0.3435926844499702,
          0.3795573406007288,
          0.7378948920550343,
          0.44190700061699695,
          0.39757554035411347,
          0.6171697346333328,
          0.44043425308451445,
          0.36277371354460985,
          0.3879693617923135,
          0.37044665607138083,
          0.33869146529533284,
          0.3920870710002911,
          0.35825681014500393,
          0.35705023889469023,
          0.4042400124743021,
          0.4077448530258312,
          0.9649939000120759,
          0.3284253978600607,
          0.3248690982623274,
          0.3142166469553589,
          0.3323683985192502,
          0.33654298623971574,
          0.3396015734688067,
          0.3214524959767706,
          0.33933745327613507,
          0.41143661853339986,
          0.36591931691275237,
          0.3521510285201359,
          0.3077283617096106,
          0.6136449790495001,
          0.3540899448660826,
          0.3073636954975537,
          0.3196844675808321,
          0.3273554331095856,
          0.3047472051853379,
          0.3153888131358387,
          0.30073771901009133,
          0.31364778266602333,
          0.3097939335576548,
          0.3374680527353283,
          0.38196646057603556,
          0.33706291807705957,
          0.30339026377690503,
          0.35541489185206593,
          0.2967295873585531,
          0.29415470051199405,
          0.31992908190027664,
          0.3087505663600723,
          0.3055153353377294,
          0.49941801355475307,
          0.3032107675859592,
          0.311612488804323,
          0.3218682282804067,
          0.32287603606156595,
          0.3093715139301525,
          0.6715557702913267,
          0.30415123596987526,
          0.36538190704230644,
          0.30153067044401966,
          0.7047633714449848,
          0.2901542826719438,
          0.3002017632727428,
          0.30471523276197726,
          0.30174954932358694,
          0.29913794146585604,
          0.3035365319627278,
          0.30341676583234284,
          0.2997010335426995,
          0.30508889101913206,
          0.42093523486192996,
          0.30878524891718434,
          0.31950770261691747,
          0.32870352746023396,
          0.32133276683721224,
          0.31392419814717604,
          0.2970812825460497,
          0.3107548270530152,
          0.3118710038500462,
          0.29928683922693083,
          0.30250392448319335,
          0.3071756396594967,
          0.31816542347435917,
          0.44928756003977444,
          0.7269174683712801,
          0.3304309765851795,
          0.3164633325099625,
          0.29637955497526436,
          0.31147441901845885,
          0.29680962350474693,
          0.2968981989241618,
          0.302924474239787,
          0.2929795981847353,
          0.3059176168247333,
          0.2965020906029942,
          0.2946788885349351,
          0.2994995456004678,
          0.29732321179374577,
          0.2969849896758526,
          0.2982686887282581,
          0.2993532583171972,
          0.31344475818127626,
          0.30782641200940275,
          0.3052019634161935,
          0.2967018003593069,
          0.3118996041896922,
          0.3003192747119786,
          0.3009547042405001,
          0.387946468924345,
          0.29966260085397906,
          0.3047896258324817,
          0.30392750521918677,
          0.3998519301056719,
          0.3075378480283084,
          0.29567969674970657,
          0.29991951457904675,
          0.3229765511468269,
          0.36159343387390436,
          0.3010292519353799,
          0.2957960301569669,
          0.30440019589099077,
          0.3005764696659316,
          0.307277828005582,
          0.30533286501162965,
          0.3037910217551534,
          0.30994292699315745,
          0.5806561094175702,
          0.3013196585101541,
          0.29108632665815243,
          0.29290166934006673,
          0.29054588638438794,
          0.2975517760450023,
          0.2996966820405971,
          0.29649332740679724,
          0.30791954677413663,
          0.29906055381884333,
          0.3013910683677678,
          0.5069872838948241,
          0.2962332541397922,
          0.3052385882958866,
          0.3781726159372525,
          0.2944604503221961,
          0.601407320588828,
          0.3065953162367335,
          0.3965687263946265,
          0.2890180716271883,
          0.2896205601854067,
          0.30734798122315066
         ]
        },
        {
         "mode": "lines",
         "name": "Best Value",
         "type": "scatter",
         "x": [
          0,
          1,
          2,
          3,
          4,
          5,
          6,
          7,
          8,
          9,
          10,
          11,
          12,
          13,
          14,
          15,
          16,
          17,
          18,
          19,
          20,
          21,
          22,
          23,
          24,
          25,
          26,
          27,
          28,
          29,
          30,
          31,
          32,
          33,
          34,
          35,
          36,
          37,
          38,
          39,
          40,
          41,
          42,
          43,
          44,
          45,
          46,
          47,
          48,
          49,
          50,
          51,
          52,
          53,
          54,
          55,
          56,
          57,
          58,
          59,
          60,
          61,
          62,
          63,
          64,
          65,
          66,
          67,
          68,
          69,
          70,
          71,
          72,
          73,
          74,
          75,
          76,
          77,
          78,
          79,
          80,
          81,
          82,
          83,
          84,
          85,
          86,
          87,
          88,
          89,
          90,
          91,
          92,
          93,
          94,
          95,
          96,
          97,
          98,
          99,
          100,
          101,
          102,
          103,
          104,
          105,
          106,
          107,
          108,
          109,
          110,
          111,
          112,
          113,
          114,
          115,
          116,
          117,
          118,
          119,
          120,
          121,
          122,
          123,
          124,
          125,
          126,
          127,
          128,
          129,
          130,
          131,
          132,
          133,
          134,
          135,
          136,
          137,
          138,
          139,
          140,
          141,
          142,
          143,
          144,
          145,
          146,
          147,
          148,
          149,
          150,
          151,
          152,
          153,
          154,
          155,
          156,
          157,
          158,
          159,
          160,
          161,
          162,
          163,
          164,
          165,
          166,
          167,
          168,
          169,
          170,
          171,
          172,
          173,
          174,
          175,
          176,
          177,
          178,
          179,
          180,
          181,
          182,
          183,
          184,
          185,
          186,
          187,
          188,
          189,
          190,
          191,
          192,
          193,
          194,
          195,
          196,
          197,
          198,
          199
         ],
         "y": [
          0.46004675764612224,
          0.46004675764612224,
          0.46004675764612224,
          0.46004675764612224,
          0.46004675764612224,
          0.46004675764612224,
          0.46004675764612224,
          0.46004675764612224,
          0.46004675764612224,
          0.40932119765666336,
          0.40932119765666336,
          0.40932119765666336,
          0.40932119765666336,
          0.40932119765666336,
          0.40932119765666336,
          0.40932119765666336,
          0.40932119765666336,
          0.40932119765666336,
          0.40932119765666336,
          0.3690442527451581,
          0.3690442527451581,
          0.3690442527451581,
          0.3690442527451581,
          0.3690442527451581,
          0.3690442527451581,
          0.3690442527451581,
          0.3690442527451581,
          0.3690442527451581,
          0.3665688701894796,
          0.3665688701894796,
          0.3665688701894796,
          0.3665688701894796,
          0.3665688701894796,
          0.3665688701894796,
          0.3665688701894796,
          0.3665688701894796,
          0.3665688701894796,
          0.3665688701894796,
          0.3665688701894796,
          0.3665688701894796,
          0.3665688701894796,
          0.35220644853711414,
          0.3467531607443963,
          0.3467531607443963,
          0.3467531607443963,
          0.3467531607443963,
          0.33897331765132516,
          0.33897331765132516,
          0.3258190796614659,
          0.3258190796614659,
          0.3258190796614659,
          0.3258190796614659,
          0.3258190796614659,
          0.3258190796614659,
          0.3258190796614659,
          0.3258190796614659,
          0.3258190796614659,
          0.3258190796614659,
          0.3258190796614659,
          0.3258190796614659,
          0.3258190796614659,
          0.3258190796614659,
          0.3258190796614659,
          0.3258190796614659,
          0.3258190796614659,
          0.3258190796614659,
          0.3258190796614659,
          0.3258190796614659,
          0.3258190796614659,
          0.3258190796614659,
          0.3258190796614659,
          0.3248690982623274,
          0.3142166469553589,
          0.3142166469553589,
          0.3142166469553589,
          0.3142166469553589,
          0.3142166469553589,
          0.3142166469553589,
          0.3142166469553589,
          0.3142166469553589,
          0.3142166469553589,
          0.3077283617096106,
          0.3077283617096106,
          0.3077283617096106,
          0.3073636954975537,
          0.3073636954975537,
          0.3073636954975537,
          0.3047472051853379,
          0.3047472051853379,
          0.30073771901009133,
          0.30073771901009133,
          0.30073771901009133,
          0.30073771901009133,
          0.30073771901009133,
          0.30073771901009133,
          0.30073771901009133,
          0.30073771901009133,
          0.2967295873585531,
          0.29415470051199405,
          0.29415470051199405,
          0.29415470051199405,
          0.29415470051199405,
          0.29415470051199405,
          0.29415470051199405,
          0.29415470051199405,
          0.29415470051199405,
          0.29415470051199405,
          0.29415470051199405,
          0.29415470051199405,
          0.29415470051199405,
          0.29415470051199405,
          0.29415470051199405,
          0.29415470051199405,
          0.2901542826719438,
          0.2901542826719438,
          0.2901542826719438,
          0.2901542826719438,
          0.2901542826719438,
          0.2901542826719438,
          0.2901542826719438,
          0.2901542826719438,
          0.2901542826719438,
          0.2901542826719438,
          0.2901542826719438,
          0.2901542826719438,
          0.2901542826719438,
          0.2901542826719438,
          0.2901542826719438,
          0.2901542826719438,
          0.2901542826719438,
          0.2901542826719438,
          0.2901542826719438,
          0.2901542826719438,
          0.2901542826719438,
          0.2901542826719438,
          0.2901542826719438,
          0.2901542826719438,
          0.2901542826719438,
          0.2901542826719438,
          0.2901542826719438,
          0.2901542826719438,
          0.2901542826719438,
          0.2901542826719438,
          0.2901542826719438,
          0.2901542826719438,
          0.2901542826719438,
          0.2901542826719438,
          0.2901542826719438,
          0.2901542826719438,
          0.2901542826719438,
          0.2901542826719438,
          0.2901542826719438,
          0.2901542826719438,
          0.2901542826719438,
          0.2901542826719438,
          0.2901542826719438,
          0.2901542826719438,
          0.2901542826719438,
          0.2901542826719438,
          0.2901542826719438,
          0.2901542826719438,
          0.2901542826719438,
          0.2901542826719438,
          0.2901542826719438,
          0.2901542826719438,
          0.2901542826719438,
          0.2901542826719438,
          0.2901542826719438,
          0.2901542826719438,
          0.2901542826719438,
          0.2901542826719438,
          0.2901542826719438,
          0.2901542826719438,
          0.2901542826719438,
          0.2901542826719438,
          0.2901542826719438,
          0.2901542826719438,
          0.2901542826719438,
          0.2901542826719438,
          0.2901542826719438,
          0.2901542826719438,
          0.2901542826719438,
          0.2901542826719438,
          0.2901542826719438,
          0.2901542826719438,
          0.2901542826719438,
          0.2901542826719438,
          0.2901542826719438,
          0.2901542826719438,
          0.2901542826719438,
          0.2901542826719438,
          0.2901542826719438,
          0.2901542826719438,
          0.2901542826719438,
          0.2901542826719438,
          0.2901542826719438,
          0.2901542826719438,
          0.2890180716271883,
          0.2890180716271883,
          0.2890180716271883
         ]
        },
        {
         "marker": {
          "color": "#cccccc"
         },
         "mode": "markers",
         "name": "Infeasible Trial",
         "showlegend": false,
         "type": "scatter",
         "x": [],
         "y": []
        }
       ],
       "layout": {
        "template": {
         "data": {
          "bar": [
           {
            "error_x": {
             "color": "#2a3f5f"
            },
            "error_y": {
             "color": "#2a3f5f"
            },
            "marker": {
             "line": {
              "color": "#E5ECF6",
              "width": 0.5
             },
             "pattern": {
              "fillmode": "overlay",
              "size": 10,
              "solidity": 0.2
             }
            },
            "type": "bar"
           }
          ],
          "barpolar": [
           {
            "marker": {
             "line": {
              "color": "#E5ECF6",
              "width": 0.5
             },
             "pattern": {
              "fillmode": "overlay",
              "size": 10,
              "solidity": 0.2
             }
            },
            "type": "barpolar"
           }
          ],
          "carpet": [
           {
            "aaxis": {
             "endlinecolor": "#2a3f5f",
             "gridcolor": "white",
             "linecolor": "white",
             "minorgridcolor": "white",
             "startlinecolor": "#2a3f5f"
            },
            "baxis": {
             "endlinecolor": "#2a3f5f",
             "gridcolor": "white",
             "linecolor": "white",
             "minorgridcolor": "white",
             "startlinecolor": "#2a3f5f"
            },
            "type": "carpet"
           }
          ],
          "choropleth": [
           {
            "colorbar": {
             "outlinewidth": 0,
             "ticks": ""
            },
            "type": "choropleth"
           }
          ],
          "contour": [
           {
            "colorbar": {
             "outlinewidth": 0,
             "ticks": ""
            },
            "colorscale": [
             [
              0,
              "#0d0887"
             ],
             [
              0.1111111111111111,
              "#46039f"
             ],
             [
              0.2222222222222222,
              "#7201a8"
             ],
             [
              0.3333333333333333,
              "#9c179e"
             ],
             [
              0.4444444444444444,
              "#bd3786"
             ],
             [
              0.5555555555555556,
              "#d8576b"
             ],
             [
              0.6666666666666666,
              "#ed7953"
             ],
             [
              0.7777777777777778,
              "#fb9f3a"
             ],
             [
              0.8888888888888888,
              "#fdca26"
             ],
             [
              1,
              "#f0f921"
             ]
            ],
            "type": "contour"
           }
          ],
          "contourcarpet": [
           {
            "colorbar": {
             "outlinewidth": 0,
             "ticks": ""
            },
            "type": "contourcarpet"
           }
          ],
          "heatmap": [
           {
            "colorbar": {
             "outlinewidth": 0,
             "ticks": ""
            },
            "colorscale": [
             [
              0,
              "#0d0887"
             ],
             [
              0.1111111111111111,
              "#46039f"
             ],
             [
              0.2222222222222222,
              "#7201a8"
             ],
             [
              0.3333333333333333,
              "#9c179e"
             ],
             [
              0.4444444444444444,
              "#bd3786"
             ],
             [
              0.5555555555555556,
              "#d8576b"
             ],
             [
              0.6666666666666666,
              "#ed7953"
             ],
             [
              0.7777777777777778,
              "#fb9f3a"
             ],
             [
              0.8888888888888888,
              "#fdca26"
             ],
             [
              1,
              "#f0f921"
             ]
            ],
            "type": "heatmap"
           }
          ],
          "histogram": [
           {
            "marker": {
             "pattern": {
              "fillmode": "overlay",
              "size": 10,
              "solidity": 0.2
             }
            },
            "type": "histogram"
           }
          ],
          "histogram2d": [
           {
            "colorbar": {
             "outlinewidth": 0,
             "ticks": ""
            },
            "colorscale": [
             [
              0,
              "#0d0887"
             ],
             [
              0.1111111111111111,
              "#46039f"
             ],
             [
              0.2222222222222222,
              "#7201a8"
             ],
             [
              0.3333333333333333,
              "#9c179e"
             ],
             [
              0.4444444444444444,
              "#bd3786"
             ],
             [
              0.5555555555555556,
              "#d8576b"
             ],
             [
              0.6666666666666666,
              "#ed7953"
             ],
             [
              0.7777777777777778,
              "#fb9f3a"
             ],
             [
              0.8888888888888888,
              "#fdca26"
             ],
             [
              1,
              "#f0f921"
             ]
            ],
            "type": "histogram2d"
           }
          ],
          "histogram2dcontour": [
           {
            "colorbar": {
             "outlinewidth": 0,
             "ticks": ""
            },
            "colorscale": [
             [
              0,
              "#0d0887"
             ],
             [
              0.1111111111111111,
              "#46039f"
             ],
             [
              0.2222222222222222,
              "#7201a8"
             ],
             [
              0.3333333333333333,
              "#9c179e"
             ],
             [
              0.4444444444444444,
              "#bd3786"
             ],
             [
              0.5555555555555556,
              "#d8576b"
             ],
             [
              0.6666666666666666,
              "#ed7953"
             ],
             [
              0.7777777777777778,
              "#fb9f3a"
             ],
             [
              0.8888888888888888,
              "#fdca26"
             ],
             [
              1,
              "#f0f921"
             ]
            ],
            "type": "histogram2dcontour"
           }
          ],
          "mesh3d": [
           {
            "colorbar": {
             "outlinewidth": 0,
             "ticks": ""
            },
            "type": "mesh3d"
           }
          ],
          "parcoords": [
           {
            "line": {
             "colorbar": {
              "outlinewidth": 0,
              "ticks": ""
             }
            },
            "type": "parcoords"
           }
          ],
          "pie": [
           {
            "automargin": true,
            "type": "pie"
           }
          ],
          "scatter": [
           {
            "fillpattern": {
             "fillmode": "overlay",
             "size": 10,
             "solidity": 0.2
            },
            "type": "scatter"
           }
          ],
          "scatter3d": [
           {
            "line": {
             "colorbar": {
              "outlinewidth": 0,
              "ticks": ""
             }
            },
            "marker": {
             "colorbar": {
              "outlinewidth": 0,
              "ticks": ""
             }
            },
            "type": "scatter3d"
           }
          ],
          "scattercarpet": [
           {
            "marker": {
             "colorbar": {
              "outlinewidth": 0,
              "ticks": ""
             }
            },
            "type": "scattercarpet"
           }
          ],
          "scattergeo": [
           {
            "marker": {
             "colorbar": {
              "outlinewidth": 0,
              "ticks": ""
             }
            },
            "type": "scattergeo"
           }
          ],
          "scattergl": [
           {
            "marker": {
             "colorbar": {
              "outlinewidth": 0,
              "ticks": ""
             }
            },
            "type": "scattergl"
           }
          ],
          "scattermap": [
           {
            "marker": {
             "colorbar": {
              "outlinewidth": 0,
              "ticks": ""
             }
            },
            "type": "scattermap"
           }
          ],
          "scattermapbox": [
           {
            "marker": {
             "colorbar": {
              "outlinewidth": 0,
              "ticks": ""
             }
            },
            "type": "scattermapbox"
           }
          ],
          "scatterpolar": [
           {
            "marker": {
             "colorbar": {
              "outlinewidth": 0,
              "ticks": ""
             }
            },
            "type": "scatterpolar"
           }
          ],
          "scatterpolargl": [
           {
            "marker": {
             "colorbar": {
              "outlinewidth": 0,
              "ticks": ""
             }
            },
            "type": "scatterpolargl"
           }
          ],
          "scatterternary": [
           {
            "marker": {
             "colorbar": {
              "outlinewidth": 0,
              "ticks": ""
             }
            },
            "type": "scatterternary"
           }
          ],
          "surface": [
           {
            "colorbar": {
             "outlinewidth": 0,
             "ticks": ""
            },
            "colorscale": [
             [
              0,
              "#0d0887"
             ],
             [
              0.1111111111111111,
              "#46039f"
             ],
             [
              0.2222222222222222,
              "#7201a8"
             ],
             [
              0.3333333333333333,
              "#9c179e"
             ],
             [
              0.4444444444444444,
              "#bd3786"
             ],
             [
              0.5555555555555556,
              "#d8576b"
             ],
             [
              0.6666666666666666,
              "#ed7953"
             ],
             [
              0.7777777777777778,
              "#fb9f3a"
             ],
             [
              0.8888888888888888,
              "#fdca26"
             ],
             [
              1,
              "#f0f921"
             ]
            ],
            "type": "surface"
           }
          ],
          "table": [
           {
            "cells": {
             "fill": {
              "color": "#EBF0F8"
             },
             "line": {
              "color": "white"
             }
            },
            "header": {
             "fill": {
              "color": "#C8D4E3"
             },
             "line": {
              "color": "white"
             }
            },
            "type": "table"
           }
          ]
         },
         "layout": {
          "annotationdefaults": {
           "arrowcolor": "#2a3f5f",
           "arrowhead": 0,
           "arrowwidth": 1
          },
          "autotypenumbers": "strict",
          "coloraxis": {
           "colorbar": {
            "outlinewidth": 0,
            "ticks": ""
           }
          },
          "colorscale": {
           "diverging": [
            [
             0,
             "#8e0152"
            ],
            [
             0.1,
             "#c51b7d"
            ],
            [
             0.2,
             "#de77ae"
            ],
            [
             0.3,
             "#f1b6da"
            ],
            [
             0.4,
             "#fde0ef"
            ],
            [
             0.5,
             "#f7f7f7"
            ],
            [
             0.6,
             "#e6f5d0"
            ],
            [
             0.7,
             "#b8e186"
            ],
            [
             0.8,
             "#7fbc41"
            ],
            [
             0.9,
             "#4d9221"
            ],
            [
             1,
             "#276419"
            ]
           ],
           "sequential": [
            [
             0,
             "#0d0887"
            ],
            [
             0.1111111111111111,
             "#46039f"
            ],
            [
             0.2222222222222222,
             "#7201a8"
            ],
            [
             0.3333333333333333,
             "#9c179e"
            ],
            [
             0.4444444444444444,
             "#bd3786"
            ],
            [
             0.5555555555555556,
             "#d8576b"
            ],
            [
             0.6666666666666666,
             "#ed7953"
            ],
            [
             0.7777777777777778,
             "#fb9f3a"
            ],
            [
             0.8888888888888888,
             "#fdca26"
            ],
            [
             1,
             "#f0f921"
            ]
           ],
           "sequentialminus": [
            [
             0,
             "#0d0887"
            ],
            [
             0.1111111111111111,
             "#46039f"
            ],
            [
             0.2222222222222222,
             "#7201a8"
            ],
            [
             0.3333333333333333,
             "#9c179e"
            ],
            [
             0.4444444444444444,
             "#bd3786"
            ],
            [
             0.5555555555555556,
             "#d8576b"
            ],
            [
             0.6666666666666666,
             "#ed7953"
            ],
            [
             0.7777777777777778,
             "#fb9f3a"
            ],
            [
             0.8888888888888888,
             "#fdca26"
            ],
            [
             1,
             "#f0f921"
            ]
           ]
          },
          "colorway": [
           "#636efa",
           "#EF553B",
           "#00cc96",
           "#ab63fa",
           "#FFA15A",
           "#19d3f3",
           "#FF6692",
           "#B6E880",
           "#FF97FF",
           "#FECB52"
          ],
          "font": {
           "color": "#2a3f5f"
          },
          "geo": {
           "bgcolor": "white",
           "lakecolor": "white",
           "landcolor": "#E5ECF6",
           "showlakes": true,
           "showland": true,
           "subunitcolor": "white"
          },
          "hoverlabel": {
           "align": "left"
          },
          "hovermode": "closest",
          "mapbox": {
           "style": "light"
          },
          "paper_bgcolor": "white",
          "plot_bgcolor": "#E5ECF6",
          "polar": {
           "angularaxis": {
            "gridcolor": "white",
            "linecolor": "white",
            "ticks": ""
           },
           "bgcolor": "#E5ECF6",
           "radialaxis": {
            "gridcolor": "white",
            "linecolor": "white",
            "ticks": ""
           }
          },
          "scene": {
           "xaxis": {
            "backgroundcolor": "#E5ECF6",
            "gridcolor": "white",
            "gridwidth": 2,
            "linecolor": "white",
            "showbackground": true,
            "ticks": "",
            "zerolinecolor": "white"
           },
           "yaxis": {
            "backgroundcolor": "#E5ECF6",
            "gridcolor": "white",
            "gridwidth": 2,
            "linecolor": "white",
            "showbackground": true,
            "ticks": "",
            "zerolinecolor": "white"
           },
           "zaxis": {
            "backgroundcolor": "#E5ECF6",
            "gridcolor": "white",
            "gridwidth": 2,
            "linecolor": "white",
            "showbackground": true,
            "ticks": "",
            "zerolinecolor": "white"
           }
          },
          "shapedefaults": {
           "line": {
            "color": "#2a3f5f"
           }
          },
          "ternary": {
           "aaxis": {
            "gridcolor": "white",
            "linecolor": "white",
            "ticks": ""
           },
           "baxis": {
            "gridcolor": "white",
            "linecolor": "white",
            "ticks": ""
           },
           "bgcolor": "#E5ECF6",
           "caxis": {
            "gridcolor": "white",
            "linecolor": "white",
            "ticks": ""
           }
          },
          "title": {
           "x": 0.05
          },
          "xaxis": {
           "automargin": true,
           "gridcolor": "white",
           "linecolor": "white",
           "ticks": "",
           "title": {
            "standoff": 15
           },
           "zerolinecolor": "white",
           "zerolinewidth": 2
          },
          "yaxis": {
           "automargin": true,
           "gridcolor": "white",
           "linecolor": "white",
           "ticks": "",
           "title": {
            "standoff": 15
           },
           "zerolinecolor": "white",
           "zerolinewidth": 2
          }
         }
        },
        "title": {
         "text": "Optimization History Plot"
        },
        "xaxis": {
         "title": {
          "text": "Trial"
         }
        },
        "yaxis": {
         "title": {
          "text": "Objective Value"
         }
        }
       }
      }
     },
     "metadata": {},
     "output_type": "display_data"
    }
   ],
   "source": [
    "# targets = []\n",
    "# for res in optimizer.res:\n",
    "#     target = res['target']\n",
    "#     targets.append(float(target))\n",
    "\n",
    "# plt.plot(targets)\n",
    "\n",
    "# plt.xlabel(\"Optimizer Steps\")\n",
    "# plt.ylabel(\"MSE loss\")\n",
    "# plt.title(\"Optimizer loss over steps\")\n",
    "\n",
    "# plt.show()\n",
    "\n",
    "optuna.visualization.plot_optimization_history(study)"
   ]
  },
  {
   "cell_type": "code",
   "execution_count": 38,
   "id": "5c9b35a1",
   "metadata": {},
   "outputs": [
    {
     "name": "stdout",
     "output_type": "stream",
     "text": [
      "Best parameters found:\n",
      "  sum_decode_tokens = 2.6345552228978724e-05,\n",
      "  sum_prefill_tokens = 8.646580073144613e-06,\n",
      "  max_prefill_tokens = -3.697759554598298e-06,\n",
      "  num_prefills = 0.0017764070670311667,\n",
      "  sum_decode_tokenss2 = 3.841326107894795e-08,\n",
      "  sum_decode_tokensmsumprefill_tokens = -1.2880883836898533e-07,\n",
      "  sum_decode_tokensmmaxprefill_tokens = 1.8594719672479232e-07,\n",
      "  sum_decode_tokensmnumprefills = 3.040095150231441e-05,\n",
      "  sum_prefill_tokenss2 = -7.723753755349376e-09,\n",
      "  sum_prefill_tokensmmaxprefill_tokens = 2.52185947798057e-08,\n",
      "  sum_prefill_tokensmnumprefills = 6.40225826093979e-06,\n",
      "  max_prefill_tokenss2 = -9.471605598732113e-09,\n",
      "  max_prefill_tokensmnumprefills = -1.0081548100282114e-05,\n",
      "  num_prefillss2 = -0.0006899261322254075,\n",
      "  intercept = 0.0059448950757889476,\n",
      "  schedule_time = 553.5511306108177,\n",
      "  update_time = 71.11874589329447,\n",
      "  queue_overhead = 867.5172418867629,\n",
      "  vllm_overhead = 7423.1023167412095,\n",
      "\n",
      "Best objective value: 0.2890180716271883\n"
     ]
    }
   ],
   "source": [
    "# Get the best parameters\n",
    "# best_params = optimizer.max['params']\n",
    "# best_value = optimizer.max['target']\n",
    "\n",
    "print(\"Best parameters found:\")\n",
    "for param in study.best_params:\n",
    "    print(f\"  {param} = {study.best_params[param]},\")\n",
    "\n",
    "print(f\"\\nBest objective value: {study.best_value}\")\n"
   ]
  },
  {
   "cell_type": "code",
   "execution_count": 24,
   "id": "cd9a5ec8",
   "metadata": {},
   "outputs": [
    {
     "data": {
      "text/plain": [
       "np.float64(14.593905009127141)"
      ]
     },
     "execution_count": 24,
     "metadata": {},
     "output_type": "execute_result"
    }
   ],
   "source": [
    "# Test on baseline parameters\n",
    "black_box_function(**baseline_values)\n"
   ]
  },
  {
   "cell_type": "code",
   "execution_count": 48,
   "id": "2ad49794",
   "metadata": {},
   "outputs": [
    {
     "data": {
      "text/plain": [
       "np.float64(11.042294365945464)"
      ]
     },
     "execution_count": 48,
     "metadata": {},
     "output_type": "execute_result"
    }
   ],
   "source": [
    "# Test on regression best parameters\n",
    "black_box_function(sum_decode_tokens=4.29457908e-05,\n",
    "    sum_prefill_tokens=1.32742879e-05,\n",
    "    max_prefill_tokens=-5.39382272e-06,\n",
    "    num_prefills=1.64539882e-04,\n",
    "    sum_decode_tokenss2=4.55100279e-08,\n",
    "    sum_decode_tokensmsumprefill_tokens=1.67622486e-08,\n",
    "    sum_decode_tokensmmaxprefill_tokens=1.20466352e-07,\n",
    "    sum_decode_tokensmnumprefills=2.47965016e-06,\n",
    "    sum_prefill_tokenss2=2.60209494e-09,\n",
    "    sum_prefill_tokensmmaxprefill_tokens=-1.00133429e-08,\n",
    "    sum_prefill_tokensmnumprefills=-3.26463654e-07,\n",
    "    max_prefill_tokenss2=7.73080154e-09,\n",
    "    max_prefill_tokensmnumprefills=-3.70684738e-07,\n",
    "    num_prefillss2=-8.03421694e-06,\n",
    "    intercept=0.0056702534775332145,\n",
    "    schedule_time=150,\n",
    "    update_time=80,\n",
    "    queue_overhead=1500,\n",
    "    vllm_overhead=6000)"
   ]
  },
  {
   "cell_type": "code",
   "execution_count": 41,
   "id": "080e553e",
   "metadata": {},
   "outputs": [
    {
     "data": {
      "text/plain": [
       "np.float64(17.009667382522622)"
      ]
     },
     "execution_count": 41,
     "metadata": {},
     "output_type": "execute_result"
    }
   ],
   "source": [
    "black_box_function(**study.best_params)"
   ]
  },
  {
   "cell_type": "code",
   "execution_count": 28,
   "id": "8a719159",
   "metadata": {},
   "outputs": [
    {
     "name": "stdout",
     "output_type": "stream",
     "text": [
      "Found 39 matching experiment pairs\n",
      "\n",
      "Processing: exp_400p_32r_0.0t_256mbt_16lpt_sharegpt.txt\n",
      "ttft_mse: 0.006707970915306442\n",
      "ttft_accuracy: 68.23163080971142\n",
      "tpot_mse: 5.26089310338664e-05\n",
      "tpot_accuracy: 84.99729067216111\n",
      "e2e_mse: 0.2015038035228766\n",
      "e2e_accuracy: 80.7869021021387\n",
      "duration_accuracy: 93.36633663366337\n",
      "\n",
      "Processing: exp_400p_32r_0.0t_256mbt_32lpt_sharegpt.txt\n",
      "ttft_mse: 0.002937600541552581\n",
      "ttft_accuracy: 68.11654119430756\n",
      "tpot_mse: 3.783332868577224e-05\n",
      "tpot_accuracy: 86.99288441484642\n",
      "e2e_mse: 0.24164349124574866\n",
      "e2e_accuracy: 77.7687918722904\n",
      "duration_accuracy: 95.25882352941176\n",
      "\n",
      "Processing: exp_400p_32r_0.0t_256mbt_64lpt_sharegpt.txt\n",
      "ttft_mse: 0.0027068898401245\n",
      "ttft_accuracy: 54.34931547119383\n",
      "tpot_mse: 2.9842517139185325e-05\n",
      "tpot_accuracy: 77.30678987179606\n",
      "e2e_mse: 0.5537600806603118\n",
      "e2e_accuracy: 63.851887353591735\n",
      "duration_accuracy: 96.9503546099291\n",
      "\n",
      "Processing: exp_400p_32r_0.0t_256mbt_128lpt_sharegpt.txt\n",
      "ttft_mse: 0.002247400853287913\n",
      "ttft_accuracy: 43.63078265327667\n",
      "tpot_mse: 2.710097872610006e-05\n",
      "tpot_accuracy: 75.80326974801166\n",
      "e2e_mse: 0.5641403363781062\n",
      "e2e_accuracy: 56.87578233190512\n",
      "duration_accuracy: 96.81547619047619\n",
      "\n",
      "Processing: exp_400p_32r_0.0t_256mbt_256lpt_sharegpt.txt\n",
      "ttft_mse: 0.0016876944979197469\n",
      "ttft_accuracy: 43.48936919673137\n",
      "tpot_mse: 2.693983506837273e-05\n",
      "tpot_accuracy: 80.90954059843935\n",
      "e2e_mse: 0.38766460529448693\n",
      "e2e_accuracy: 60.970542722775775\n",
      "duration_accuracy: 96.27754615842764\n",
      "\n",
      "Processing: exp_400p_32r_0.0t_512mbt_16lpt_sharegpt.txt\n",
      "ttft_mse: 0.006963877453048348\n",
      "ttft_accuracy: 68.74357998293405\n",
      "tpot_mse: 5.2537386993833885e-05\n",
      "tpot_accuracy: 85.2842798601472\n",
      "e2e_mse: 0.3742781838995174\n",
      "e2e_accuracy: 78.58471319233537\n",
      "duration_accuracy: 93.36633663366337\n",
      "\n",
      "Processing: exp_400p_32r_0.0t_512mbt_32lpt_sharegpt.txt\n",
      "ttft_mse: 0.0026369811778565707\n",
      "ttft_accuracy: 69.2852048908459\n",
      "tpot_mse: 3.819299263306244e-05\n",
      "tpot_accuracy: 86.46030390677136\n",
      "e2e_mse: 0.25344707761136787\n",
      "e2e_accuracy: 78.05458824294054\n",
      "duration_accuracy: 95.3819036427732\n",
      "\n",
      "Processing: exp_400p_32r_0.0t_512mbt_64lpt_sharegpt.txt\n",
      "ttft_mse: 0.0018525226619704631\n",
      "ttft_accuracy: 57.083650286584145\n",
      "tpot_mse: 2.856936363425145e-05\n",
      "tpot_accuracy: 79.01298678126363\n",
      "e2e_mse: 0.4544522978507524\n",
      "e2e_accuracy: 66.46764485246032\n",
      "duration_accuracy: 96.87167356593731\n",
      "\n",
      "Processing: exp_400p_32r_0.0t_512mbt_128lpt_sharegpt.txt\n",
      "ttft_mse: 0.0012556411338827942\n",
      "ttft_accuracy: 46.60119603452618\n",
      "tpot_mse: 2.576476928929888e-05\n",
      "tpot_accuracy: 79.40278531972339\n",
      "e2e_mse: 0.4056851846457639\n",
      "e2e_accuracy: 61.55608652725097\n",
      "duration_accuracy: 96.3641791044776\n",
      "\n",
      "Processing: exp_400p_32r_0.0t_512mbt_256lpt_sharegpt.txt\n",
      "ttft_mse: 0.0011185575698152467\n",
      "ttft_accuracy: 36.55425144280613\n",
      "tpot_mse: 2.5926296697909272e-05\n",
      "tpot_accuracy: 82.80841237524783\n",
      "e2e_mse: 0.29815504687967403\n",
      "e2e_accuracy: 60.584754263433325\n",
      "duration_accuracy: 96.14602034709756\n",
      "\n",
      "Processing: exp_400p_32r_0.0t_512mbt_512lpt_sharegpt.txt\n",
      "ttft_mse: 0.0009687735762683999\n",
      "ttft_accuracy: 33.66366655157273\n",
      "tpot_mse: 2.829123323107838e-05\n",
      "tpot_accuracy: 88.66327333933543\n",
      "e2e_mse: 0.2070396341160152\n",
      "e2e_accuracy: 64.03417132742254\n",
      "duration_accuracy: 95.26630760023937\n",
      "\n",
      "Processing: exp_400p_32r_0.0t_1024mbt_16lpt_sharegpt.txt\n",
      "ttft_mse: 0.007199363041107688\n",
      "ttft_accuracy: 68.68152789387507\n",
      "tpot_mse: 5.250987411154317e-05\n",
      "tpot_accuracy: 85.4432841663584\n",
      "e2e_mse: 0.36089738095674767\n",
      "e2e_accuracy: 78.86402994587024\n",
      "duration_accuracy: 93.55232558139534\n",
      "\n",
      "Processing: exp_400p_32r_0.0t_1024mbt_32lpt_sharegpt.txt\n",
      "ttft_mse: 0.002538835484766927\n",
      "ttft_accuracy: 69.23965191753219\n",
      "tpot_mse: 3.821111126824994e-05\n",
      "tpot_accuracy: 86.45721549445061\n",
      "e2e_mse: 0.33987867790731585\n",
      "e2e_accuracy: 76.54160664546833\n",
      "duration_accuracy: 95.25882352941176\n",
      "\n",
      "Processing: exp_400p_32r_0.0t_1024mbt_64lpt_sharegpt.txt\n",
      "ttft_mse: 0.0018481301728468199\n",
      "ttft_accuracy: 57.27457643848027\n",
      "tpot_mse: 2.8440725285087247e-05\n",
      "tpot_accuracy: 79.45113626945883\n",
      "e2e_mse: 0.459266731887368\n",
      "e2e_accuracy: 66.85648078253327\n",
      "duration_accuracy: 96.50445103857568\n",
      "\n",
      "Processing: exp_400p_32r_0.0t_1024mbt_128lpt_sharegpt.txt\n",
      "ttft_mse: 0.0012404717232262308\n",
      "ttft_accuracy: 47.52125657190883\n",
      "tpot_mse: 2.572482563764611e-05\n",
      "tpot_accuracy: 79.45050551323803\n",
      "e2e_mse: 0.4160047394417032\n",
      "e2e_accuracy: 61.698542383643485\n",
      "duration_accuracy: 96.67261904761904\n",
      "\n",
      "Processing: exp_400p_32r_0.0t_1024mbt_256lpt_sharegpt.txt\n",
      "ttft_mse: 0.001374913627212645\n",
      "ttft_accuracy: 31.720943745317342\n",
      "tpot_mse: 2.56354815545526e-05\n",
      "tpot_accuracy: 81.681914327068\n",
      "e2e_mse: 0.3647852073690155\n",
      "e2e_accuracy: 56.047810548659726\n",
      "duration_accuracy: 96.35167464114834\n",
      "\n",
      "Processing: exp_400p_32r_0.0t_1024mbt_512lpt_sharegpt.txt\n",
      "ttft_mse: 0.0013700286614157153\n",
      "ttft_accuracy: 30.975880986272927\n",
      "tpot_mse: 2.8610949228874775e-05\n",
      "tpot_accuracy: 88.99588733035012\n",
      "e2e_mse: 0.2027822183642224\n",
      "e2e_accuracy: 60.98669081365222\n",
      "duration_accuracy: 96.08019150209456\n",
      "\n",
      "Processing: exp_400p_32r_0.0t_1024mbt_1024lpt_sharegpt.txt\n",
      "ttft_mse: 0.0013247391871650332\n",
      "ttft_accuracy: 17.145341612067526\n",
      "tpot_mse: 3.5609204257552994e-05\n",
      "tpot_accuracy: 88.0498672487815\n",
      "e2e_mse: 0.23114052314991157\n",
      "e2e_accuracy: 58.029835448757694\n",
      "duration_accuracy: 94.52965847813061\n",
      "\n",
      "Processing: exp_400p_32r_0.0t_2048mbt_16lpt_sharegpt.txt\n",
      "ttft_mse: 0.006518549038495209\n",
      "ttft_accuracy: 67.98966149589683\n",
      "tpot_mse: 5.256899093401186e-05\n",
      "tpot_accuracy: 85.29563448644177\n",
      "e2e_mse: 0.3031687747708915\n",
      "e2e_accuracy: 80.14948337076967\n",
      "duration_accuracy: 93.36633663366337\n",
      "\n",
      "Processing: exp_400p_32r_0.0t_2048mbt_32lpt_sharegpt.txt\n",
      "ttft_mse: 0.0028402141237062885\n",
      "ttft_accuracy: 69.66591402456973\n",
      "tpot_mse: 3.851564142121526e-05\n",
      "tpot_accuracy: 86.05035956189201\n",
      "e2e_mse: 0.33771990587709\n",
      "e2e_accuracy: 77.22128202700392\n",
      "duration_accuracy: 95.56598240469208\n",
      "\n",
      "Processing: exp_400p_32r_0.0t_2048mbt_64lpt_sharegpt.txt\n",
      "ttft_mse: 0.0017597600132455147\n",
      "ttft_accuracy: 57.254015123346186\n",
      "tpot_mse: 2.8227304756451302e-05\n",
      "tpot_accuracy: 79.7387485318311\n",
      "e2e_mse: 0.4855678389473029\n",
      "e2e_accuracy: 65.27814155687716\n",
      "duration_accuracy: 96.50445103857568\n",
      "\n",
      "Processing: exp_400p_32r_0.0t_2048mbt_128lpt_sharegpt.txt\n",
      "ttft_mse: 0.0012580992285865045\n",
      "ttft_accuracy: 47.793994381148366\n",
      "tpot_mse: 2.5856017891443794e-05\n",
      "tpot_accuracy: 79.08614870660678\n",
      "e2e_mse: 0.46939913188014215\n",
      "e2e_accuracy: 60.26381408162159\n",
      "duration_accuracy: 96.24028690974296\n",
      "\n",
      "Processing: exp_400p_32r_0.0t_2048mbt_256lpt_sharegpt.txt\n",
      "ttft_mse: 0.0013922999688545012\n",
      "ttft_accuracy: 31.710730837028052\n",
      "tpot_mse: 2.5950529249348384e-05\n",
      "tpot_accuracy: 81.28840498295959\n",
      "e2e_mse: 0.28930608439215233\n",
      "e2e_accuracy: 55.77934523053912\n",
      "duration_accuracy: 96.28964691801318\n",
      "\n",
      "Processing: exp_400p_32r_0.0t_2048mbt_512lpt_sharegpt.txt\n",
      "ttft_mse: 0.0010336896781514692\n",
      "ttft_accuracy: 29.58315914078466\n",
      "tpot_mse: 2.8400577737849483e-05\n",
      "tpot_accuracy: 88.0081007464824\n",
      "e2e_mse: 0.20603430758230096\n",
      "e2e_accuracy: 60.81367420660216\n",
      "duration_accuracy: 95.42464114832535\n",
      "\n",
      "Processing: exp_400p_32r_0.0t_2048mbt_1024lpt_sharegpt.txt\n",
      "ttft_mse: 0.0024826700744256013\n",
      "ttft_accuracy: 7.91374205194515\n",
      "tpot_mse: 3.675011069476386e-05\n",
      "tpot_accuracy: 85.07037307789426\n",
      "e2e_mse: 0.23426475040821704\n",
      "e2e_accuracy: 55.35216180726696\n",
      "duration_accuracy: 95.02692998204668\n",
      "\n",
      "Processing: exp_400p_32r_0.0t_4096mbt_16lpt_sharegpt.txt\n",
      "ttft_mse: 0.007346544501662955\n",
      "ttft_accuracy: 69.1382368368435\n",
      "tpot_mse: 5.263542338713175e-05\n",
      "tpot_accuracy: 85.13307490465994\n",
      "e2e_mse: 0.23340911673897083\n",
      "e2e_accuracy: 80.25506349848081\n",
      "duration_accuracy: 94.22876949740034\n",
      "\n",
      "Processing: exp_400p_32r_0.0t_4096mbt_32lpt_sharegpt.txt\n",
      "ttft_mse: 0.002585978306276683\n",
      "ttft_accuracy: 69.31673895053373\n",
      "tpot_mse: 3.806721273617267e-05\n",
      "tpot_accuracy: 86.89601556345274\n",
      "e2e_mse: 0.27585280783540944\n",
      "e2e_accuracy: 76.43158732733929\n",
      "duration_accuracy: 95.3819036427732\n",
      "\n",
      "Processing: exp_400p_32r_0.0t_4096mbt_64lpt_sharegpt.txt\n",
      "ttft_mse: 0.0017847540578995347\n",
      "ttft_accuracy: 57.27835858524101\n",
      "tpot_mse: 2.8296023288961534e-05\n",
      "tpot_accuracy: 79.66645110635791\n",
      "e2e_mse: 0.4564337503886721\n",
      "e2e_accuracy: 66.52937091042932\n",
      "duration_accuracy: 96.56583629893238\n",
      "\n",
      "Processing: exp_400p_32r_0.0t_4096mbt_128lpt_sharegpt.txt\n",
      "ttft_mse: 0.0012314200983996216\n",
      "ttft_accuracy: 46.974317545415836\n",
      "tpot_mse: 2.6015238666158387e-05\n",
      "tpot_accuracy: 78.69345284301814\n",
      "e2e_mse: 0.46552410976621544\n",
      "e2e_accuracy: 60.5736553058821\n",
      "duration_accuracy: 96.48777579010135\n",
      "\n",
      "Processing: exp_400p_32r_0.0t_4096mbt_256lpt_sharegpt.txt\n",
      "ttft_mse: 0.001376932536788036\n",
      "ttft_accuracy: 31.254266651738078\n",
      "tpot_mse: 2.6066019256364153e-05\n",
      "tpot_accuracy: 80.900439041409\n",
      "e2e_mse: 0.31529429836534023\n",
      "e2e_accuracy: 56.69063906989428\n",
      "duration_accuracy: 96.47550776583034\n",
      "\n",
      "Processing: exp_400p_32r_0.0t_4096mbt_512lpt_sharegpt.txt\n",
      "ttft_mse: 0.0010258302149908176\n",
      "ttft_accuracy: 29.469456030504105\n",
      "tpot_mse: 2.8459581509978296e-05\n",
      "tpot_accuracy: 87.8183312923452\n",
      "e2e_mse: 0.22264155300214356\n",
      "e2e_accuracy: 60.377346348226006\n",
      "duration_accuracy: 95.54958183990442\n",
      "\n",
      "Processing: exp_400p_32r_0.0t_4096mbt_1024lpt_sharegpt.txt\n",
      "ttft_mse: 0.0025130106491940154\n",
      "ttft_accuracy: 10.630266947765534\n",
      "tpot_mse: 3.681866404167941e-05\n",
      "tpot_accuracy: 85.29089421303001\n",
      "e2e_mse: 0.1980399487053926\n",
      "e2e_accuracy: 56.0186584694363\n",
      "duration_accuracy: 95.46483909415971\n",
      "\n",
      "Processing: exp_400p_32r_0.0t_8192mbt_16lpt_sharegpt.txt\n",
      "ttft_mse: 0.007080238388878915\n",
      "ttft_accuracy: 69.34436468424906\n",
      "tpot_mse: 5.2826365271327656e-05\n",
      "tpot_accuracy: 85.0908279473315\n",
      "e2e_mse: 0.23718092919659498\n",
      "e2e_accuracy: 80.61220064311455\n",
      "duration_accuracy: 94.35083669936525\n",
      "\n",
      "Processing: exp_400p_32r_0.0t_8192mbt_32lpt_sharegpt.txt\n",
      "ttft_mse: 0.0026911384948071133\n",
      "ttft_accuracy: 68.79776629534484\n",
      "tpot_mse: 3.844910021471691e-05\n",
      "tpot_accuracy: 86.07761605486039\n",
      "e2e_mse: 0.24955618835624263\n",
      "e2e_accuracy: 76.97112649905117\n",
      "duration_accuracy: 95.56598240469208\n",
      "\n",
      "Processing: exp_400p_32r_0.0t_8192mbt_64lpt_sharegpt.txt\n",
      "ttft_mse: 0.0018389359544361038\n",
      "ttft_accuracy: 57.46076608032975\n",
      "tpot_mse: 2.854048994549277e-05\n",
      "tpot_accuracy: 78.98214962595043\n",
      "e2e_mse: 0.5089531917244049\n",
      "e2e_accuracy: 66.07043323966298\n",
      "duration_accuracy: 96.81065088757396\n",
      "\n",
      "Processing: exp_400p_32r_0.0t_8192mbt_128lpt_sharegpt.txt\n",
      "ttft_mse: 0.0012483384907309187\n",
      "ttft_accuracy: 47.4021587913731\n",
      "tpot_mse: 2.600236078956486e-05\n",
      "tpot_accuracy: 78.77850761461919\n",
      "e2e_mse: 0.44993522453715995\n",
      "e2e_accuracy: 60.85712348898578\n",
      "duration_accuracy: 96.54946364719905\n",
      "\n",
      "Processing: exp_400p_32r_0.0t_8192mbt_256lpt_sharegpt.txt\n",
      "ttft_mse: 0.0013775226813907513\n",
      "ttft_accuracy: 31.88356597760486\n",
      "tpot_mse: 2.5848371773755184e-05\n",
      "tpot_accuracy: 81.33637358228384\n",
      "e2e_mse: 0.3324260487903378\n",
      "e2e_accuracy: 56.67577292315579\n",
      "duration_accuracy: 96.78379988088147\n",
      "\n",
      "Processing: exp_400p_32r_0.0t_8192mbt_512lpt_sharegpt.txt\n",
      "ttft_mse: 0.0010284690162447824\n",
      "ttft_accuracy: 28.85144869160638\n",
      "tpot_mse: 2.8484724506872e-05\n",
      "tpot_accuracy: 87.85451673596958\n",
      "e2e_mse: 0.214002046460614\n",
      "e2e_accuracy: 59.43861546532339\n",
      "duration_accuracy: 95.67422434367543\n",
      "\n",
      "Processing: exp_400p_32r_0.0t_8192mbt_1024lpt_sharegpt.txt\n",
      "ttft_mse: 0.002489941408896818\n",
      "ttft_accuracy: 9.471323965271466\n",
      "tpot_mse: 3.669406637464663e-05\n",
      "tpot_accuracy: 85.58055614852596\n",
      "e2e_mse: 0.24109240502690377\n",
      "e2e_accuracy: 54.95142715967097\n",
      "duration_accuracy: 95.15242080095636\n"
     ]
    }
   ],
   "source": [
    "import os\n",
    "\n",
    "vllm_dir = \"./blackbox\"\n",
    "sim_dir = \"./results/sweep_params\"\n",
    "sweep_configs = {\n",
    "    'num_prompts': [400],\n",
    "    'request_rate': [32],\n",
    "    'temperature': [0.0],\n",
    "    'max_num_batched_tokens': [256, 512, 1024, 2048, 4096, 8192],\n",
    "    'long_prefill_token_threshold': [16, 32, 64, 128, 256, 512, 1024],\n",
    "    'datasets': [{'name': 'sharegpt', 'path': 'ShareGPT_V3_unfiltered_cleaned_split.json'}]\n",
    "}\n",
    "\n",
    "\n",
    "# graphing parameters\n",
    "x_axis = 'long_prefill_token_threshold'\n",
    "y_axis = 'max_num_batched_tokens'\n",
    "metrics = ['ttft_accuracy', 'tpot_accuracy', 'e2e_accuracy', 'duration_accuracy']\n",
    "plotting_data = {}\n",
    "for metric in metrics:\n",
    "    plotting_data[metric] = {}\n",
    "\n",
    "# Find matching experiments\n",
    "matching_pairs = find_matching_experiments(sim_dir, vllm_dir, sweep_configs)\n",
    "\n",
    "print(f\"Found {len(matching_pairs)} matching experiment pairs\")\n",
    "\n",
    "# Process each pair\n",
    "for sim_file, vllm_file, config in matching_pairs:\n",
    "    print(f\"\\nProcessing: {os.path.basename(sim_file)}\")\n",
    "    \n",
    "    # Parse results\n",
    "    sim_results = parse_sim_results(sim_file)\n",
    "    vllm_results = parse_vllm_results(vllm_file)\n",
    "    \n",
    "    # Calculate errors\n",
    "    errors = calculate_errors(sim_results, vllm_results)\n",
    "    # Print results\n",
    "    for metric, value in errors.items():\n",
    "        print(f\"{metric}: {value}\")\n",
    "        \n",
    "\n",
    "# plot_results(plotting_data, x_axis, y_axis, sweep_configs)"
   ]
  },
  {
   "cell_type": "code",
   "execution_count": 12,
   "id": "cc312ec2",
   "metadata": {},
   "outputs": [],
   "source": [
    "ttft_mse: 0.025188282731345088\n",
    "ttft_accuracy: 48.2461751138668\n",
    "tpot_mse: 3.695219311984646e-05\n",
    "tpot_accuracy: 59.17752753509921\n",
    "e2e_mse: 1.9071773913358943\n",
    "e2e_accuracy: 54.04913470013282\n",
    "duration_accuracy: 94.59522422830518"
   ]
  }
 ],
 "metadata": {
  "kernelspec": {
   "display_name": ".inference-sim-env",
   "language": "python",
   "name": "python3"
  },
  "language_info": {
   "codemirror_mode": {
    "name": "ipython",
    "version": 3
   },
   "file_extension": ".py",
   "mimetype": "text/x-python",
   "name": "python",
   "nbconvert_exporter": "python",
   "pygments_lexer": "ipython3",
   "version": "3.13.3"
  }
 },
 "nbformat": 4,
 "nbformat_minor": 5
}
