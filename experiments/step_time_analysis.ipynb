{
 "cells": [
  {
   "cell_type": "markdown",
   "id": "6de13423",
   "metadata": {},
   "source": [
    "**Step Process Data Analysis**\n",
    "\n",
    "While we won't be able to log data and add print statements to vLLM in production code, an initial data analysis of how scheduling, executiong, and post processing times scale is relevant to understand where time of execution varies the most\n",
    "\n",
    "(In vLLM core.py)\n",
    "```python\n",
    "        timestart = time.time()\n",
    "        ### Scheduling Phase\n",
    "        if not self.scheduler.has_requests():\n",
    "            return {}, False\n",
    "        scheduler_output = self.scheduler.schedule()\n",
    "        ### End of Scheduling Phase\n",
    "        timeend = time.time()\n",
    "        scheduler_time = timeend - timestart\n",
    "\n",
    "\n",
    "\n",
    "        timestart = time.time()\n",
    "        ### Execution Phase\n",
    "        model_output = self.execute_model(scheduler_output)\n",
    "        ### End of Execution Phase\n",
    "        timeend = time.time()\n",
    "        execute_time = timeend - timestart\n",
    "\n",
    "        timestart = time.time()\n",
    "        ### Post-processing Phase\n",
    "        engine_core_outputs = self.scheduler.update_from_output(\n",
    "            scheduler_output, model_output)  # type: ignore\n",
    "        ### End of Post-processing Phase\n",
    "        timeend = time.time()\n",
    "        update_time = timeend - timestart\n",
    "```\n",
    "\n",
    "We store the results in a csv for processing (execution_stats.csv)"
   ]
  },
  {
   "cell_type": "code",
   "execution_count": 9,
   "id": "703e1f84",
   "metadata": {},
   "outputs": [
    {
     "data": {
      "text/html": [
       "<div>\n",
       "<style scoped>\n",
       "    .dataframe tbody tr th:only-of-type {\n",
       "        vertical-align: middle;\n",
       "    }\n",
       "\n",
       "    .dataframe tbody tr th {\n",
       "        vertical-align: top;\n",
       "    }\n",
       "\n",
       "    .dataframe thead th {\n",
       "        text-align: right;\n",
       "    }\n",
       "</style>\n",
       "<table border=\"1\" class=\"dataframe\">\n",
       "  <thead>\n",
       "    <tr style=\"text-align: right;\">\n",
       "      <th></th>\n",
       "      <th>num_scheduled_tokens</th>\n",
       "      <th>num_total_scheduled_tokens</th>\n",
       "      <th>scheduled_new_reqs</th>\n",
       "      <th>execute_time</th>\n",
       "      <th>scheduler_time</th>\n",
       "      <th>update_time</th>\n",
       "    </tr>\n",
       "  </thead>\n",
       "  <tbody>\n",
       "    <tr>\n",
       "      <th>0</th>\n",
       "      <td>{'cmpl-60b599c90085488093f9f1399f391400-0': 1}</td>\n",
       "      <td>1</td>\n",
       "      <td>[]</td>\n",
       "      <td>0.002067</td>\n",
       "      <td>0.000028</td>\n",
       "      <td>0.000029</td>\n",
       "    </tr>\n",
       "    <tr>\n",
       "      <th>1</th>\n",
       "      <td>{'cmpl-60b599c90085488093f9f1399f391400-0': 1}</td>\n",
       "      <td>1</td>\n",
       "      <td>[]</td>\n",
       "      <td>0.002111</td>\n",
       "      <td>0.000030</td>\n",
       "      <td>0.000029</td>\n",
       "    </tr>\n",
       "    <tr>\n",
       "      <th>2</th>\n",
       "      <td>{'cmpl-60b599c90085488093f9f1399f391400-0': 1}</td>\n",
       "      <td>1</td>\n",
       "      <td>[]</td>\n",
       "      <td>0.002122</td>\n",
       "      <td>0.000029</td>\n",
       "      <td>0.000030</td>\n",
       "    </tr>\n",
       "    <tr>\n",
       "      <th>3</th>\n",
       "      <td>{'cmpl-60b599c90085488093f9f1399f391400-0': 1}</td>\n",
       "      <td>1</td>\n",
       "      <td>[]</td>\n",
       "      <td>0.002060</td>\n",
       "      <td>0.000027</td>\n",
       "      <td>0.000030</td>\n",
       "    </tr>\n",
       "    <tr>\n",
       "      <th>4</th>\n",
       "      <td>{'cmpl-60b599c90085488093f9f1399f391400-0': 1}</td>\n",
       "      <td>1</td>\n",
       "      <td>[]</td>\n",
       "      <td>0.002029</td>\n",
       "      <td>0.000028</td>\n",
       "      <td>0.000028</td>\n",
       "    </tr>\n",
       "  </tbody>\n",
       "</table>\n",
       "</div>"
      ],
      "text/plain": [
       "                             num_scheduled_tokens  num_total_scheduled_tokens  \\\n",
       "0  {'cmpl-60b599c90085488093f9f1399f391400-0': 1}                           1   \n",
       "1  {'cmpl-60b599c90085488093f9f1399f391400-0': 1}                           1   \n",
       "2  {'cmpl-60b599c90085488093f9f1399f391400-0': 1}                           1   \n",
       "3  {'cmpl-60b599c90085488093f9f1399f391400-0': 1}                           1   \n",
       "4  {'cmpl-60b599c90085488093f9f1399f391400-0': 1}                           1   \n",
       "\n",
       "  scheduled_new_reqs  execute_time  scheduler_time  update_time  \n",
       "0                 []      0.002067        0.000028     0.000029  \n",
       "1                 []      0.002111        0.000030     0.000029  \n",
       "2                 []      0.002122        0.000029     0.000030  \n",
       "3                 []      0.002060        0.000027     0.000030  \n",
       "4                 []      0.002029        0.000028     0.000028  "
      ]
     },
     "execution_count": 9,
     "metadata": {},
     "output_type": "execute_result"
    }
   ],
   "source": [
    "# load csv in pandas\n",
    "import pandas as pd\n",
    "\n",
    "file_path = 'execution_stats.csv'\n",
    "df = pd.read_csv(file_path)\n",
    "df.head()"
   ]
  },
  {
   "cell_type": "code",
   "execution_count": 16,
   "id": "8fc08642",
   "metadata": {},
   "outputs": [
    {
     "name": "stdout",
     "output_type": "stream",
     "text": [
      "Average update_time: 0.00015462176348014274\n",
      "Average scheduler_time: 0.00025143369338996607\n"
     ]
    }
   ],
   "source": [
    "# average update_time and scheduler_time\n",
    "avg_update_time = df['update_time'].mean()\n",
    "avg_scheduler_time = df['scheduler_time'].mean()\n",
    "print(f\"Average update_time: {avg_update_time}\")\n",
    "print(f\"Average scheduler_time: {avg_scheduler_time}\")"
   ]
  },
  {
   "cell_type": "code",
   "execution_count": 15,
   "id": "4efe0e56",
   "metadata": {},
   "outputs": [
    {
     "name": "stdout",
     "output_type": "stream",
     "text": [
      "\n",
      "Average Percentages of function times over total step time:\n",
      "Execute Time Percentage: 95.50%\n",
      "Scheduler Time Percentage: 2.70%\n",
      "Update Time Percentage: 1.80%\n"
     ]
    }
   ],
   "source": [
    "# for each iteration get the percentage of the execute_time, scheduler_time, and update_time over the total time (total_time = execute_time + scheduler_time + update_time)\n",
    "\n",
    "df['total_time'] = df['execute_time'] + df['scheduler_time'] + df['update_time']\n",
    "df['execute_time_pct'] = (df['execute_time'] / df['total_time'])\n",
    "df['scheduler_time_pct'] = (df['scheduler_time'] / df['total_time'])\n",
    "df['update_time_pct'] = (df['update_time'] / df['total_time'])\n",
    "# average the percentages\n",
    "avg_execute_time_pct = df['execute_time_pct'].mean()\n",
    "avg_scheduler_time_pct = df['scheduler_time_pct'].mean()\n",
    "avg_update_time_pct = df['update_time_pct'].mean()\n",
    "# print the results\n",
    "print(\"\\nAverage Percentages of function times over total step time:\")\n",
    "print(f\"Execute Time Percentage: {avg_execute_time_pct:.2%}\")\n",
    "print(f\"Scheduler Time Percentage: {avg_scheduler_time_pct:.2%}\")\n",
    "print(f\"Update Time Percentage: {avg_update_time_pct:.2%}\")"
   ]
  },
  {
   "cell_type": "code",
   "execution_count": 11,
   "id": "d2b5b9a2",
   "metadata": {},
   "outputs": [
    {
     "data": {
      "image/png": "[encoded data removed]",
      "text/plain": [
       "<Figure size 1200x600 with 1 Axes>"
      ]
     },
     "metadata": {},
     "output_type": "display_data"
    }
   ],
   "source": [
    "# create box plots for 'execute_time', 'scheduler_time', and 'update_time'\n",
    "import matplotlib.pyplot as plt\n",
    "import seaborn as sns\n",
    "\n",
    "plt.figure(figsize=(12, 6))\n",
    "sns.boxplot(data=df[['execute_time', 'scheduler_time', 'update_time']])\n",
    "plt.title('Box Plots of Execution Times')\n",
    "plt.ylabel('Time (seconds)')\n",
    "plt.xticks(rotation=45)\n",
    "plt.tight_layout()\n",
    "plt.show()"
   ]
  }
 ],
 "metadata": {
  "kernelspec": {
   "display_name": ".venv",
   "language": "python",
   "name": "python3"
  },
  "language_info": {
   "codemirror_mode": {
    "name": "ipython",
    "version": 3
   },
   "file_extension": ".py",
   "mimetype": "text/x-python",
   "name": "python",
   "nbconvert_exporter": "python",
   "pygments_lexer": "ipython3",
   "version": "3.9.6"
  }
 },
 "nbformat": 4,
 "nbformat_minor": 5
}
